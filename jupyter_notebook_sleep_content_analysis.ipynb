{
 "cells": [
  {
   "cell_type": "markdown",
   "metadata": {},
   "source": [
    "# Sleep Content Analysis (or Any-Other-Construct Content Analysis)"
   ]
  },
  {
   "cell_type": "markdown",
   "metadata": {},
   "source": [
    "\n",
    "## ⚠️ PLEASE READ BEFORE DOING ANYTHING ⚠️\n",
    "\n",
    "Welcome to this online coding environment ! \n",
    "You are currently running a *Jupyter notebook* that we hope to be usefull for content analysis of questionnaires. \n",
    "\n",
    ">Each cell can be ran individually (pressing the \"Play\" ▶ button or pressing CTRL+ENTER in the each cell). In order to make everything run smoothly, it is **strongly** recommended to run them in order. \n",
    "\n",
    ">***RECOMMANDED:*** You can also run all the cells at the same time : \"Run\" → \"Run All Cells\".<br>\n",
    "> ⚠️ If you choose this option and want to analyse your own data, we suggest that you configure correctly the `experiment`, `import_file` and `references` variables before running all the cells once, then adjust the `max_radius` variable of Figure 4. \n",
    "\n",
    "At the end of the execution, you will have the opportunity to save all yours results in an HTML file, executing `\"File\" → \"Save and Export Notebook as\" → \"HTML\"` \n",
    "\n",
    "If you have chosen to run every cell individually, please begin by running the following cell that imports all the required package for our code to work correctly ↓"
   ]
  },
  {
   "cell_type": "code",
   "execution_count": 37,
   "metadata": {
    "id": "VzoMEEmaImQO"
   },
   "outputs": [],
   "source": [
    "%%capture\n",
    "import pandas as pd\n",
    "import numpy as np \n",
    "from sklearn.metrics import jaccard_score\n",
    "import plotly.express as px\n",
    "import plotly.graph_objects as go\n",
    "from sklearn.preprocessing import normalize\n",
    "from scipy.stats import spearmanr\n",
    "\n",
    "#Required package to download the image\n",
    "!wget https://github.com/plotly/orca/releases/download/v1.2.1/orca-1.2.1-x86_64.AppImage -O /usr/local/bin/orca\n",
    "!chmod +x /usr/local/bin/orca\n",
    "!apt-get install xvfb libgtk2.0-0 libgconf-2-4"
   ]
  },
  {
   "cell_type": "markdown",
   "metadata": {
    "id": "MSKzbWLbPOtR"
   },
   "source": [
    "---\n",
    "# Data import"
   ]
  },
  {
   "cell_type": "markdown",
   "metadata": {},
   "source": [
    "## Correct data formatting"
   ]
  },
  {
   "cell_type": "markdown",
   "metadata": {
    "id": "repZgtSNU7WC"
   },
   "source": [
    "By default, this repository is configured to reproduce the results of the following paper (option `experiment = \"GauldMartin2022\"`): \n",
    "* Gauld C, Martin VP, Richaud A, Bailleul S, Lucie V, Perromat JL, et al. Systematic Item Content and Overlap Analysis of Self-reported Multiple Sleep Disorders Screening Questionnaires in Adults. *Journal of Clinical Medicine*. 2022 (Under review) \n",
    "\n",
    "\n",
    "We also implemented the analysis for the replication of the seminal paper by E. Fried (option `experiment = \"Fried2017\"`) : \n",
    "* Fried EI. The 52 symptoms of major depression: Lack of content overlap among seven common depression scales. *Journal of Affective Disorders*. 2017 Jan;208:191–7. \n",
    "\n",
    "\n",
    "However, we have coded it to be adaptable to any other dataset (`experiment = \"Custom\"`), formatted the following way : \n",
    "* the three first columns must be the category (named \"Category\" in our example), the abbreviation for the symptom (as shown in the Figure, named \"Ab\" in our example) and the name of the symptom (\"Symptom\" in our example);\n",
    "* the other columns are the different questionnaires, while the line are the different symptoms.\n",
    "* For each questionnaire, the symptoms are coded the following way: \n",
    "    * 0: The symptom is absent from this questionnaire\n",
    "    * 1: The symptom is specific in this questionnaire (i.e. the symptom has bene identified in an item mentionning only one symptom)\n",
    "    * 2: The symptom is componed in this questionnaire (i.e. the symptom has bene identified in an item mentionning at least two symptom)\n",
    "\n",
    "⚠️ If you do not have categories, just put an empty columns as first column ⚠️"
   ]
  },
  {
   "attachments": {},
   "cell_type": "markdown",
   "metadata": {},
   "source": [
    "## Importing data by uploading an excel file "
   ]
  },
  {
   "cell_type": "markdown",
   "metadata": {
    "id": "cjw86FmQWOFI"
   },
   "source": [
    "\n",
    "\n",
    "To import your own file in the binder online folder : \n",
    ">* Open the online folder pressing the \"folder\" icon on the left 📁 \n",
    ">* Click on the \"Upload a file\" button ⭱\n",
    "\n",
    "Now adapt the `experiment` and `import_file` to your experiment !"
   ]
  },
  {
   "cell_type": "code",
   "execution_count": 38,
   "metadata": {
    "colab": {
     "base_uri": "https://localhost:8080/",
     "height": 206
    },
    "id": "DdPN9UyEPRAp",
    "outputId": "f18fc141-ba72-4abe-a8f8-e06d9da95981"
   },
   "outputs": [
    {
     "data": {
      "text/html": [
       "<div>\n",
       "<style scoped>\n",
       "    .dataframe tbody tr th:only-of-type {\n",
       "        vertical-align: middle;\n",
       "    }\n",
       "\n",
       "    .dataframe tbody tr th {\n",
       "        vertical-align: top;\n",
       "    }\n",
       "\n",
       "    .dataframe thead th {\n",
       "        text-align: right;\n",
       "    }\n",
       "</style>\n",
       "<table border=\"1\" class=\"dataframe\">\n",
       "  <thead>\n",
       "    <tr style=\"text-align: right;\">\n",
       "      <th></th>\n",
       "      <th>Category</th>\n",
       "      <th>Ab</th>\n",
       "      <th>Symptom</th>\n",
       "      <th>SDQ</th>\n",
       "      <th>ICSD</th>\n",
       "      <th>ASQ</th>\n",
       "      <th>GSAQ</th>\n",
       "      <th>HSDQ</th>\n",
       "      <th>PSQI</th>\n",
       "      <th>Sleep50</th>\n",
       "      <th>DSM</th>\n",
       "      <th>SDS-CL-25</th>\n",
       "      <th>ISDI</th>\n",
       "      <th>SDS-CL-17</th>\n",
       "      <th>BNSQ</th>\n",
       "      <th>OSQ</th>\n",
       "      <th>SSC</th>\n",
       "    </tr>\n",
       "  </thead>\n",
       "  <tbody>\n",
       "    <tr>\n",
       "      <th>0</th>\n",
       "      <td>SLEEPINESS SYMPTOMS</td>\n",
       "      <td>S01</td>\n",
       "      <td>Daytime sleepiness</td>\n",
       "      <td>1</td>\n",
       "      <td>1</td>\n",
       "      <td>1</td>\n",
       "      <td>2</td>\n",
       "      <td>2</td>\n",
       "      <td>1</td>\n",
       "      <td>1</td>\n",
       "      <td>1</td>\n",
       "      <td>2</td>\n",
       "      <td>1</td>\n",
       "      <td>2</td>\n",
       "      <td>1</td>\n",
       "      <td>1</td>\n",
       "      <td>1</td>\n",
       "    </tr>\n",
       "    <tr>\n",
       "      <th>1</th>\n",
       "      <td>SLEEPINESS SYMPTOMS</td>\n",
       "      <td>S02</td>\n",
       "      <td>Lapses into sleep</td>\n",
       "      <td>2</td>\n",
       "      <td>1</td>\n",
       "      <td>0</td>\n",
       "      <td>2</td>\n",
       "      <td>1</td>\n",
       "      <td>0</td>\n",
       "      <td>1</td>\n",
       "      <td>1</td>\n",
       "      <td>1</td>\n",
       "      <td>1</td>\n",
       "      <td>1</td>\n",
       "      <td>1</td>\n",
       "      <td>0</td>\n",
       "      <td>1</td>\n",
       "    </tr>\n",
       "    <tr>\n",
       "      <th>2</th>\n",
       "      <td>SLEEPINESS SYMPTOMS</td>\n",
       "      <td>S03</td>\n",
       "      <td>Long sleep time</td>\n",
       "      <td>1</td>\n",
       "      <td>1</td>\n",
       "      <td>2</td>\n",
       "      <td>0</td>\n",
       "      <td>2</td>\n",
       "      <td>2</td>\n",
       "      <td>0</td>\n",
       "      <td>1</td>\n",
       "      <td>0</td>\n",
       "      <td>2</td>\n",
       "      <td>0</td>\n",
       "      <td>2</td>\n",
       "      <td>2</td>\n",
       "      <td>0</td>\n",
       "    </tr>\n",
       "    <tr>\n",
       "      <th>3</th>\n",
       "      <td>SLEEPINESS SYMPTOMS</td>\n",
       "      <td>S04</td>\n",
       "      <td>Sleep inertia</td>\n",
       "      <td>1</td>\n",
       "      <td>1</td>\n",
       "      <td>0</td>\n",
       "      <td>0</td>\n",
       "      <td>2</td>\n",
       "      <td>0</td>\n",
       "      <td>0</td>\n",
       "      <td>1</td>\n",
       "      <td>0</td>\n",
       "      <td>1</td>\n",
       "      <td>0</td>\n",
       "      <td>1</td>\n",
       "      <td>0</td>\n",
       "      <td>0</td>\n",
       "    </tr>\n",
       "    <tr>\n",
       "      <th>4</th>\n",
       "      <td>INSOMNIA SYMPTOMS</td>\n",
       "      <td>S05</td>\n",
       "      <td>Insomnia early</td>\n",
       "      <td>1</td>\n",
       "      <td>1</td>\n",
       "      <td>2</td>\n",
       "      <td>0</td>\n",
       "      <td>0</td>\n",
       "      <td>2</td>\n",
       "      <td>1</td>\n",
       "      <td>1</td>\n",
       "      <td>1</td>\n",
       "      <td>1</td>\n",
       "      <td>1</td>\n",
       "      <td>1</td>\n",
       "      <td>1</td>\n",
       "      <td>1</td>\n",
       "    </tr>\n",
       "  </tbody>\n",
       "</table>\n",
       "</div>"
      ],
      "text/plain": [
       "              Category   Ab             Symptom  SDQ  ICSD  ASQ  GSAQ  HSDQ  \\\n",
       "0  SLEEPINESS SYMPTOMS  S01  Daytime sleepiness    1     1    1     2     2   \n",
       "1  SLEEPINESS SYMPTOMS  S02   Lapses into sleep    2     1    0     2     1   \n",
       "2  SLEEPINESS SYMPTOMS  S03     Long sleep time    1     1    2     0     2   \n",
       "3  SLEEPINESS SYMPTOMS  S04       Sleep inertia    1     1    0     0     2   \n",
       "4    INSOMNIA SYMPTOMS  S05      Insomnia early    1     1    2     0     0   \n",
       "\n",
       "   PSQI  Sleep50  DSM  SDS-CL-25  ISDI  SDS-CL-17  BNSQ  OSQ   SSC  \n",
       "0     1        1    1          2     1          2     1     1    1  \n",
       "1     0        1    1          1     1          1     1     0    1  \n",
       "2     2        0    1          0     2          0     2     2    0  \n",
       "3     0        0    1          0     1          0     1     0    0  \n",
       "4     2        1    1          1     1          1     1     1    1  "
      ]
     },
     "execution_count": 38,
     "metadata": {},
     "output_type": "execute_result"
    }
   ],
   "source": [
    "# uncomment the analysis you want to run\n",
    "#experiment = \"Fried2017\"\n",
    "experiment = \"GauldMartin2022\"\n",
    "#experiment = \"Custom\"\n",
    "\n",
    "if experiment == \"Fried2017\" : \n",
    "    df = pd.read_excel(\"./data/fried2017_reformatted.xlsx\") # reproduction of the seminal paper of Fried et al. https://doi.org/10.1016/j.jad.2016.10.019\n",
    "elif experiment==\"GauldMartin2022\" : \n",
    "    df = pd.read_excel(\"./data/database_symptoms_sleep_content_analysis.xlsx\")\n",
    "else :\n",
    "    import_file = \"./your_excel_file.xlsx\"\n",
    "    df = pd.read_excel(import_file)\n",
    "    \n",
    "df.rename(columns={df.columns[0]: \"Category\", df.columns[1]: \"Ab\", df.columns[2]: \"Symptom\"}, inplace=True) #replacing the name of the three first columns !\n",
    "df.sort_values(by=\"Ab\",inplace = True) # sort the dataset by abbreviation\n",
    "df.head() # print the 5 first rows"
   ]
  },
  {
   "cell_type": "markdown",
   "metadata": {},
   "source": [
    "## Reference classifications"
   ]
  },
  {
   "cell_type": "markdown",
   "metadata": {
    "id": "iK8hO_homX6E"
   },
   "source": [
    "In our paper, we compare the symptoms of the questionnaires with two references classification (ICSD and DSM). If you have reference columns that you want to compare with but you do not want to compute metrics on, please put them in this table. Otherwise, just let this list empty [ ].\n",
    "\n",
    "⚠️ the name of the references should match PERFECTLY the name of the columns they are in (including uppercases and lowercases, or spaces)"
   ]
  },
  {
   "cell_type": "code",
   "execution_count": 39,
   "metadata": {
    "id": "L0xFjA4qmXAT"
   },
   "outputs": [],
   "source": [
    "if experiment == \"Fried2017\" :\n",
    "    references = []\n",
    "elif experiment == \"GauldMartin2022\": \n",
    "    references = ['ICSD', 'DSM']\n",
    "else : \n",
    "    references = ['ref1', 'ref2', '...']\n",
    "header = ['Category', 'Ab', 'Symptom']+references"
   ]
  },
  {
   "cell_type": "markdown",
   "metadata": {
    "id": "jLT3DLDxlaHg"
   },
   "source": [
    "# Ordering questionnaires and symptoms"
   ]
  },
  {
   "cell_type": "markdown",
   "metadata": {
    "id": "H_04et79Wp_4"
   },
   "source": [
    "First, the questionnaires are classified from having the higher number of symptoms to the lowest."
   ]
  },
  {
   "cell_type": "code",
   "execution_count": 40,
   "metadata": {
    "colab": {
     "base_uri": "https://localhost:8080/",
     "height": 206
    },
    "id": "FVKMzpWST5UP",
    "outputId": "e9ef71c3-a669-43ac-97cf-e893a7b4ae33"
   },
   "outputs": [
    {
     "data": {
      "text/html": [
       "<div>\n",
       "<style scoped>\n",
       "    .dataframe tbody tr th:only-of-type {\n",
       "        vertical-align: middle;\n",
       "    }\n",
       "\n",
       "    .dataframe tbody tr th {\n",
       "        vertical-align: top;\n",
       "    }\n",
       "\n",
       "    .dataframe thead th {\n",
       "        text-align: right;\n",
       "    }\n",
       "</style>\n",
       "<table border=\"1\" class=\"dataframe\">\n",
       "  <thead>\n",
       "    <tr style=\"text-align: right;\">\n",
       "      <th></th>\n",
       "      <th>Category</th>\n",
       "      <th>Ab</th>\n",
       "      <th>Symptom</th>\n",
       "      <th>ICSD</th>\n",
       "      <th>DSM</th>\n",
       "      <th>SDQ</th>\n",
       "      <th>Sleep50</th>\n",
       "      <th>ASQ</th>\n",
       "      <th>SDS-CL-25</th>\n",
       "      <th>HSDQ</th>\n",
       "      <th>PSQI</th>\n",
       "      <th>ISDI</th>\n",
       "      <th>GSAQ</th>\n",
       "      <th>SDS-CL-17</th>\n",
       "      <th>SSC</th>\n",
       "      <th>BNSQ</th>\n",
       "      <th>OSQ</th>\n",
       "    </tr>\n",
       "  </thead>\n",
       "  <tbody>\n",
       "    <tr>\n",
       "      <th>0</th>\n",
       "      <td>SLEEPINESS SYMPTOMS</td>\n",
       "      <td>S01</td>\n",
       "      <td>Daytime sleepiness</td>\n",
       "      <td>1</td>\n",
       "      <td>1</td>\n",
       "      <td>1</td>\n",
       "      <td>1</td>\n",
       "      <td>1</td>\n",
       "      <td>2</td>\n",
       "      <td>2</td>\n",
       "      <td>1</td>\n",
       "      <td>1</td>\n",
       "      <td>2</td>\n",
       "      <td>2</td>\n",
       "      <td>1</td>\n",
       "      <td>1</td>\n",
       "      <td>1</td>\n",
       "    </tr>\n",
       "    <tr>\n",
       "      <th>1</th>\n",
       "      <td>SLEEPINESS SYMPTOMS</td>\n",
       "      <td>S02</td>\n",
       "      <td>Lapses into sleep</td>\n",
       "      <td>1</td>\n",
       "      <td>1</td>\n",
       "      <td>2</td>\n",
       "      <td>1</td>\n",
       "      <td>0</td>\n",
       "      <td>1</td>\n",
       "      <td>1</td>\n",
       "      <td>0</td>\n",
       "      <td>1</td>\n",
       "      <td>2</td>\n",
       "      <td>1</td>\n",
       "      <td>1</td>\n",
       "      <td>1</td>\n",
       "      <td>0</td>\n",
       "    </tr>\n",
       "    <tr>\n",
       "      <th>2</th>\n",
       "      <td>SLEEPINESS SYMPTOMS</td>\n",
       "      <td>S03</td>\n",
       "      <td>Long sleep time</td>\n",
       "      <td>1</td>\n",
       "      <td>1</td>\n",
       "      <td>1</td>\n",
       "      <td>0</td>\n",
       "      <td>2</td>\n",
       "      <td>0</td>\n",
       "      <td>2</td>\n",
       "      <td>2</td>\n",
       "      <td>2</td>\n",
       "      <td>0</td>\n",
       "      <td>0</td>\n",
       "      <td>0</td>\n",
       "      <td>2</td>\n",
       "      <td>2</td>\n",
       "    </tr>\n",
       "    <tr>\n",
       "      <th>3</th>\n",
       "      <td>SLEEPINESS SYMPTOMS</td>\n",
       "      <td>S04</td>\n",
       "      <td>Sleep inertia</td>\n",
       "      <td>1</td>\n",
       "      <td>1</td>\n",
       "      <td>1</td>\n",
       "      <td>0</td>\n",
       "      <td>0</td>\n",
       "      <td>0</td>\n",
       "      <td>2</td>\n",
       "      <td>0</td>\n",
       "      <td>1</td>\n",
       "      <td>0</td>\n",
       "      <td>0</td>\n",
       "      <td>0</td>\n",
       "      <td>1</td>\n",
       "      <td>0</td>\n",
       "    </tr>\n",
       "    <tr>\n",
       "      <th>4</th>\n",
       "      <td>INSOMNIA SYMPTOMS</td>\n",
       "      <td>S05</td>\n",
       "      <td>Insomnia early</td>\n",
       "      <td>1</td>\n",
       "      <td>1</td>\n",
       "      <td>1</td>\n",
       "      <td>1</td>\n",
       "      <td>2</td>\n",
       "      <td>1</td>\n",
       "      <td>0</td>\n",
       "      <td>2</td>\n",
       "      <td>1</td>\n",
       "      <td>0</td>\n",
       "      <td>1</td>\n",
       "      <td>1</td>\n",
       "      <td>1</td>\n",
       "      <td>1</td>\n",
       "    </tr>\n",
       "  </tbody>\n",
       "</table>\n",
       "</div>"
      ],
      "text/plain": [
       "              Category   Ab             Symptom  ICSD  DSM  SDQ  Sleep50  ASQ  \\\n",
       "0  SLEEPINESS SYMPTOMS  S01  Daytime sleepiness     1    1    1        1    1   \n",
       "1  SLEEPINESS SYMPTOMS  S02   Lapses into sleep     1    1    2        1    0   \n",
       "2  SLEEPINESS SYMPTOMS  S03     Long sleep time     1    1    1        0    2   \n",
       "3  SLEEPINESS SYMPTOMS  S04       Sleep inertia     1    1    1        0    0   \n",
       "4    INSOMNIA SYMPTOMS  S05      Insomnia early     1    1    1        1    2   \n",
       "\n",
       "   SDS-CL-25  HSDQ  PSQI  ISDI  GSAQ  SDS-CL-17  SSC  BNSQ  OSQ   \n",
       "0          2     2     1     1     2          2    1     1     1  \n",
       "1          1     1     0     1     2          1    1     1     0  \n",
       "2          0     2     2     2     0          0    0     2     2  \n",
       "3          0     2     0     1     0          0    0     1     0  \n",
       "4          1     0     2     1     0          1    1     1     1  "
      ]
     },
     "execution_count": 40,
     "metadata": {},
     "output_type": "execute_result"
    }
   ],
   "source": [
    "sums = (df.drop(header,axis = 1)>=1).sum(axis = 0) # sum of the number of symptom by questionnaire\n",
    "col = list(sums.sort_values(ascending=False).index.to_numpy()) #we create the list of columns\n",
    "col = header + col\n",
    "# we apply the order of columns to the dataset\n",
    "df = df.loc[:, col]\n",
    "df.head()"
   ]
  },
  {
   "cell_type": "code",
   "execution_count": 41,
   "metadata": {
    "colab": {
     "base_uri": "https://localhost:8080/",
     "height": 1000
    },
    "id": "_2xRL-9HX5ep",
    "outputId": "4e60b5a5-6d86-4946-e860-7cd5dc4fb992"
   },
   "outputs": [
    {
     "data": {
      "text/html": [
       "<div>\n",
       "<style scoped>\n",
       "    .dataframe tbody tr th:only-of-type {\n",
       "        vertical-align: middle;\n",
       "    }\n",
       "\n",
       "    .dataframe tbody tr th {\n",
       "        vertical-align: top;\n",
       "    }\n",
       "\n",
       "    .dataframe thead th {\n",
       "        text-align: right;\n",
       "    }\n",
       "</style>\n",
       "<table border=\"1\" class=\"dataframe\">\n",
       "  <thead>\n",
       "    <tr style=\"text-align: right;\">\n",
       "      <th></th>\n",
       "      <th>Category</th>\n",
       "      <th>Ab</th>\n",
       "      <th>Symptom</th>\n",
       "      <th>ICSD</th>\n",
       "      <th>DSM</th>\n",
       "      <th>SDQ</th>\n",
       "      <th>Sleep50</th>\n",
       "      <th>ASQ</th>\n",
       "      <th>SDS-CL-25</th>\n",
       "      <th>HSDQ</th>\n",
       "      <th>PSQI</th>\n",
       "      <th>ISDI</th>\n",
       "      <th>GSAQ</th>\n",
       "      <th>SDS-CL-17</th>\n",
       "      <th>SSC</th>\n",
       "      <th>BNSQ</th>\n",
       "      <th>OSQ</th>\n",
       "      <th>sum_symptoms</th>\n",
       "    </tr>\n",
       "  </thead>\n",
       "  <tbody>\n",
       "    <tr>\n",
       "      <th>0</th>\n",
       "      <td>SLEEPINESS SYMPTOMS</td>\n",
       "      <td>S01</td>\n",
       "      <td>Daytime sleepiness</td>\n",
       "      <td>1</td>\n",
       "      <td>1</td>\n",
       "      <td>1</td>\n",
       "      <td>1</td>\n",
       "      <td>1</td>\n",
       "      <td>2</td>\n",
       "      <td>2</td>\n",
       "      <td>1</td>\n",
       "      <td>1</td>\n",
       "      <td>2</td>\n",
       "      <td>2</td>\n",
       "      <td>1</td>\n",
       "      <td>1</td>\n",
       "      <td>1</td>\n",
       "      <td>12</td>\n",
       "    </tr>\n",
       "    <tr>\n",
       "      <th>5</th>\n",
       "      <td>INSOMNIA SYMPTOMS</td>\n",
       "      <td>S06</td>\n",
       "      <td>Insomnia initiating</td>\n",
       "      <td>1</td>\n",
       "      <td>1</td>\n",
       "      <td>1</td>\n",
       "      <td>1</td>\n",
       "      <td>2</td>\n",
       "      <td>1</td>\n",
       "      <td>1</td>\n",
       "      <td>1</td>\n",
       "      <td>1</td>\n",
       "      <td>2</td>\n",
       "      <td>1</td>\n",
       "      <td>1</td>\n",
       "      <td>1</td>\n",
       "      <td>1</td>\n",
       "      <td>12</td>\n",
       "    </tr>\n",
       "    <tr>\n",
       "      <th>6</th>\n",
       "      <td>INSOMNIA SYMPTOMS</td>\n",
       "      <td>S07</td>\n",
       "      <td>Insomnia maintaining</td>\n",
       "      <td>1</td>\n",
       "      <td>1</td>\n",
       "      <td>1</td>\n",
       "      <td>1</td>\n",
       "      <td>2</td>\n",
       "      <td>1</td>\n",
       "      <td>2</td>\n",
       "      <td>2</td>\n",
       "      <td>1</td>\n",
       "      <td>2</td>\n",
       "      <td>1</td>\n",
       "      <td>1</td>\n",
       "      <td>1</td>\n",
       "      <td>1</td>\n",
       "      <td>12</td>\n",
       "    </tr>\n",
       "    <tr>\n",
       "      <th>9</th>\n",
       "      <td>RESPIRATORY SYMPTOMS</td>\n",
       "      <td>S10</td>\n",
       "      <td>Breath abnormalities complaint</td>\n",
       "      <td>1</td>\n",
       "      <td>1</td>\n",
       "      <td>1</td>\n",
       "      <td>1</td>\n",
       "      <td>2</td>\n",
       "      <td>1</td>\n",
       "      <td>1</td>\n",
       "      <td>1</td>\n",
       "      <td>2</td>\n",
       "      <td>1</td>\n",
       "      <td>1</td>\n",
       "      <td>1</td>\n",
       "      <td>2</td>\n",
       "      <td>2</td>\n",
       "      <td>12</td>\n",
       "    </tr>\n",
       "    <tr>\n",
       "      <th>11</th>\n",
       "      <td>RESPIRATORY SYMPTOMS</td>\n",
       "      <td>S12</td>\n",
       "      <td>Snoring</td>\n",
       "      <td>1</td>\n",
       "      <td>1</td>\n",
       "      <td>1</td>\n",
       "      <td>1</td>\n",
       "      <td>1</td>\n",
       "      <td>1</td>\n",
       "      <td>1</td>\n",
       "      <td>1</td>\n",
       "      <td>0</td>\n",
       "      <td>1</td>\n",
       "      <td>2</td>\n",
       "      <td>1</td>\n",
       "      <td>1</td>\n",
       "      <td>1</td>\n",
       "      <td>11</td>\n",
       "    </tr>\n",
       "  </tbody>\n",
       "</table>\n",
       "</div>"
      ],
      "text/plain": [
       "                Category   Ab                         Symptom  ICSD  DSM  SDQ  \\\n",
       "0    SLEEPINESS SYMPTOMS  S01              Daytime sleepiness     1    1    1   \n",
       "5      INSOMNIA SYMPTOMS  S06             Insomnia initiating     1    1    1   \n",
       "6      INSOMNIA SYMPTOMS  S07            Insomnia maintaining     1    1    1   \n",
       "9   RESPIRATORY SYMPTOMS  S10  Breath abnormalities complaint     1    1    1   \n",
       "11  RESPIRATORY SYMPTOMS  S12                         Snoring     1    1    1   \n",
       "\n",
       "    Sleep50  ASQ  SDS-CL-25  HSDQ  PSQI  ISDI  GSAQ  SDS-CL-17  SSC  BNSQ  \\\n",
       "0         1    1          2     2     1     1     2          2    1     1   \n",
       "5         1    2          1     1     1     1     2          1    1     1   \n",
       "6         1    2          1     2     2     1     2          1    1     1   \n",
       "9         1    2          1     1     1     2     1          1    1     2   \n",
       "11        1    1          1     1     1     0     1          2    1     1   \n",
       "\n",
       "    OSQ   sum_symptoms  \n",
       "0      1            12  \n",
       "5      1            12  \n",
       "6      1            12  \n",
       "9      2            12  \n",
       "11     1            11  "
      ]
     },
     "execution_count": 41,
     "metadata": {},
     "output_type": "execute_result"
    }
   ],
   "source": [
    "#order of symptoms: most common first (independtly from 'specific' or 'compound').\n",
    "df['sum_symptoms'] = (df.drop(header,axis = 1)>=1).sum(axis = 1)\n",
    "df.sort_values(by=['sum_symptoms','Ab'], ascending = [False,True], inplace = True)\n",
    "df.head()"
   ]
  },
  {
   "attachments": {},
   "cell_type": "markdown",
   "metadata": {
    "id": "dgGMcg8IvzX6"
   },
   "source": [
    "---\n",
    "# 1. Analysis of the number and frequency of symptoms"
   ]
  },
  {
   "cell_type": "markdown",
   "metadata": {},
   "source": [
    "In a first step, we analyse the frequency of the symptoms."
   ]
  },
  {
   "attachments": {},
   "cell_type": "markdown",
   "metadata": {
    "id": "mfyJzGAMqhTZ"
   },
   "source": [
    "## Histogram of number of symptoms"
   ]
  },
  {
   "attachments": {},
   "cell_type": "markdown",
   "metadata": {},
   "source": [
    "### Sorted by number of occurences"
   ]
  },
  {
   "cell_type": "code",
   "execution_count": 42,
   "metadata": {
    "colab": {
     "base_uri": "https://localhost:8080/",
     "height": 537
    },
    "id": "wFHrczKHqTEt",
    "outputId": "9bf8dc8e-5134-4ebf-ab10-f2823fe294ad"
   },
   "outputs": [
    {
     "data": {
      "application/vnd.plotly.v1+json": {
       "config": {
        "plotlyServerURL": "https://plotly.com"
       },
       "data": [
        {
         "alignmentgroup": "True",
         "hovertemplate": "Category=SLEEPINESS SYMPTOMS<br>Symptom=%{x}<br>Number of questionnaires=%{y}<extra></extra>",
         "legendgroup": "SLEEPINESS SYMPTOMS",
         "marker": {
          "color": "rgb(102, 197, 204)",
          "pattern": {
           "shape": ""
          }
         },
         "name": "SLEEPINESS SYMPTOMS",
         "offsetgroup": "SLEEPINESS SYMPTOMS",
         "orientation": "v",
         "showlegend": true,
         "textposition": "auto",
         "type": "bar",
         "x": [
          "Daytime sleepiness",
          "Lapses into sleep",
          "Long sleep time",
          "Sleep inertia"
         ],
         "xaxis": "x",
         "y": [
          12,
          9,
          7,
          4
         ],
         "yaxis": "y"
        },
        {
         "alignmentgroup": "True",
         "hovertemplate": "Category=INSOMNIA SYMPTOMS<br>Symptom=%{x}<br>Number of questionnaires=%{y}<extra></extra>",
         "legendgroup": "INSOMNIA SYMPTOMS",
         "marker": {
          "color": "rgb(246, 207, 113)",
          "pattern": {
           "shape": ""
          }
         },
         "name": "INSOMNIA SYMPTOMS",
         "offsetgroup": "INSOMNIA SYMPTOMS",
         "orientation": "v",
         "showlegend": true,
         "textposition": "auto",
         "type": "bar",
         "x": [
          "Insomnia initiating",
          "Insomnia maintaining",
          "Insomnia early",
          "Non restorative sleep",
          "Sleep resistance"
         ],
         "xaxis": "x",
         "y": [
          12,
          12,
          10,
          5,
          0
         ],
         "yaxis": "y"
        },
        {
         "alignmentgroup": "True",
         "hovertemplate": "Category=RESPIRATORY SYMPTOMS<br>Symptom=%{x}<br>Number of questionnaires=%{y}<extra></extra>",
         "legendgroup": "RESPIRATORY SYMPTOMS",
         "marker": {
          "color": "rgb(248, 156, 116)",
          "pattern": {
           "shape": ""
          }
         },
         "name": "RESPIRATORY SYMPTOMS",
         "offsetgroup": "RESPIRATORY SYMPTOMS",
         "orientation": "v",
         "showlegend": true,
         "textposition": "auto",
         "type": "bar",
         "x": [
          "Breath abnormalities complaint",
          "Snoring",
          "Breath abnormalities observation",
          "Cyanosis"
         ],
         "xaxis": "x",
         "y": [
          12,
          11,
          7,
          0
         ],
         "yaxis": "y"
        },
        {
         "alignmentgroup": "True",
         "hovertemplate": "Category=PSYCHIATRIC SYMPTOMS<br>Symptom=%{x}<br>Number of questionnaires=%{y}<extra></extra>",
         "legendgroup": "PSYCHIATRIC SYMPTOMS",
         "marker": {
          "color": "rgb(220, 176, 242)",
          "pattern": {
           "shape": ""
          }
         },
         "name": "PSYCHIATRIC SYMPTOMS",
         "offsetgroup": "PSYCHIATRIC SYMPTOMS",
         "orientation": "v",
         "showlegend": true,
         "textposition": "auto",
         "type": "bar",
         "x": [
          "Affective symptoms",
          "Cognitive symptoms",
          "Hallucination",
          "Behavioral symptoms during wake",
          "Altered perception"
         ],
         "xaxis": "x",
         "y": [
          8,
          5,
          3,
          2,
          0
         ],
         "yaxis": "y"
        },
        {
         "alignmentgroup": "True",
         "hovertemplate": "Category=BEHAVIORAL SYMPTOMS DURING SLEEP<br>Symptom=%{x}<br>Number of questionnaires=%{y}<extra></extra>",
         "legendgroup": "BEHAVIORAL SYMPTOMS DURING SLEEP",
         "marker": {
          "color": "rgb(135, 197, 95)",
          "pattern": {
           "shape": ""
          }
         },
         "name": "BEHAVIORAL SYMPTOMS DURING SLEEP",
         "offsetgroup": "BEHAVIORAL SYMPTOMS DURING SLEEP",
         "orientation": "v",
         "showlegend": true,
         "textposition": "auto",
         "type": "bar",
         "x": [
          "Altered oneiric activity",
          "Behavioral symptoms during sleep",
          "Ambulation",
          "Amnesia",
          "Vocalization",
          "Eating symptoms",
          "Abnormal responsiveness",
          "Normal responsiveness",
          "Unvoluntary voiding"
         ],
         "xaxis": "x",
         "y": [
          10,
          7,
          7,
          4,
          4,
          2,
          2,
          1,
          0
         ],
         "yaxis": "y"
        },
        {
         "alignmentgroup": "True",
         "hovertemplate": "Category=MOTOR SYMPTOMS<br>Symptom=%{x}<br>Number of questionnaires=%{y}<extra></extra>",
         "legendgroup": "MOTOR SYMPTOMS",
         "marker": {
          "color": "rgb(158, 185, 243)",
          "pattern": {
           "shape": ""
          }
         },
         "name": "MOTOR SYMPTOMS",
         "offsetgroup": "MOTOR SYMPTOMS",
         "orientation": "v",
         "showlegend": true,
         "textposition": "auto",
         "type": "bar",
         "x": [
          "Legs movement",
          "Leg sensory discomfort",
          "Myoclonic jerks",
          "Cataplexy",
          "Motor paralysis",
          "Tooth grinding",
          "Rhythmic movement"
         ],
         "xaxis": "x",
         "y": [
          11,
          9,
          4,
          4,
          3,
          3,
          2
         ],
         "yaxis": "y"
        },
        {
         "alignmentgroup": "True",
         "hovertemplate": "Category=GENERAL SYMPTOMS<br>Symptom=%{x}<br>Number of questionnaires=%{y}<extra></extra>",
         "legendgroup": "GENERAL SYMPTOMS",
         "marker": {
          "color": "rgb(254, 136, 177)",
          "pattern": {
           "shape": ""
          }
         },
         "name": "GENERAL SYMPTOMS",
         "offsetgroup": "GENERAL SYMPTOMS",
         "orientation": "v",
         "showlegend": true,
         "textposition": "auto",
         "type": "bar",
         "x": [
          "Fatigue",
          "Fright behavior",
          "Autonomic symptoms",
          "Headache",
          "Somatic symptoms",
          "Malaise"
         ],
         "xaxis": "x",
         "y": [
          9,
          4,
          4,
          4,
          1,
          0
         ],
         "yaxis": "y"
        },
        {
         "alignmentgroup": "True",
         "hovertemplate": "Category=SLEEP PERIOD SYMPTOMS<br>Symptom=%{x}<br>Number of questionnaires=%{y}<extra></extra>",
         "legendgroup": "SLEEP PERIOD SYMPTOMS",
         "marker": {
          "color": "rgb(201, 219, 116)",
          "pattern": {
           "shape": ""
          }
         },
         "name": "SLEEP PERIOD SYMPTOMS",
         "offsetgroup": "SLEEP PERIOD SYMPTOMS",
         "orientation": "v",
         "showlegend": true,
         "textposition": "auto",
         "type": "bar",
         "x": [
          "Short sleep time",
          "Disturbed sleep period",
          "Delay in the sleep period",
          "Advance in the sleep period",
          "Incomplete awakening",
          "Absent of major sleep period",
          "Circadian period > 24h"
         ],
         "xaxis": "x",
         "y": [
          8,
          7,
          6,
          5,
          2,
          1,
          0
         ],
         "yaxis": "y"
        },
        {
         "alignmentgroup": "True",
         "hovertemplate": "Category=NON OTHERWISE SPECIFIED<br>Symptom=%{x}<br>Number of questionnaires=%{y}<extra></extra>",
         "legendgroup": "NON OTHERWISE SPECIFIED",
         "marker": {
          "color": "rgb(139, 224, 164)",
          "pattern": {
           "shape": ""
          }
         },
         "name": "NON OTHERWISE SPECIFIED",
         "offsetgroup": "NON OTHERWISE SPECIFIED",
         "orientation": "v",
         "showlegend": true,
         "textposition": "auto",
         "type": "bar",
         "x": [
          "Functional repercussions",
          "Sleep satisfaction",
          "Worries",
          "Hypnotics",
          "Pain",
          "Dry mouth",
          "Sweating",
          "Nycturia",
          "Sleep needs",
          "Sleep efficiency",
          "Psychostimulants",
          "Sour taste",
          "Hot/cool sensation"
         ],
         "xaxis": "x",
         "y": [
          11,
          11,
          7,
          7,
          6,
          5,
          4,
          3,
          2,
          2,
          2,
          2,
          1
         ],
         "yaxis": "y"
        }
       ],
       "layout": {
        "autosize": false,
        "barmode": "relative",
        "height": 600,
        "legend": {
         "title": {
          "text": "Category"
         },
         "tracegroupgap": 0
        },
        "margin": {
         "t": 60
        },
        "template": {
         "data": {
          "bar": [
           {
            "error_x": {
             "color": "#2a3f5f"
            },
            "error_y": {
             "color": "#2a3f5f"
            },
            "marker": {
             "line": {
              "color": "#E5ECF6",
              "width": 0.5
             },
             "pattern": {
              "fillmode": "overlay",
              "size": 10,
              "solidity": 0.2
             }
            },
            "type": "bar"
           }
          ],
          "barpolar": [
           {
            "marker": {
             "line": {
              "color": "#E5ECF6",
              "width": 0.5
             },
             "pattern": {
              "fillmode": "overlay",
              "size": 10,
              "solidity": 0.2
             }
            },
            "type": "barpolar"
           }
          ],
          "carpet": [
           {
            "aaxis": {
             "endlinecolor": "#2a3f5f",
             "gridcolor": "white",
             "linecolor": "white",
             "minorgridcolor": "white",
             "startlinecolor": "#2a3f5f"
            },
            "baxis": {
             "endlinecolor": "#2a3f5f",
             "gridcolor": "white",
             "linecolor": "white",
             "minorgridcolor": "white",
             "startlinecolor": "#2a3f5f"
            },
            "type": "carpet"
           }
          ],
          "choropleth": [
           {
            "colorbar": {
             "outlinewidth": 0,
             "ticks": ""
            },
            "type": "choropleth"
           }
          ],
          "contour": [
           {
            "colorbar": {
             "outlinewidth": 0,
             "ticks": ""
            },
            "colorscale": [
             [
              0,
              "#0d0887"
             ],
             [
              0.1111111111111111,
              "#46039f"
             ],
             [
              0.2222222222222222,
              "#7201a8"
             ],
             [
              0.3333333333333333,
              "#9c179e"
             ],
             [
              0.4444444444444444,
              "#bd3786"
             ],
             [
              0.5555555555555556,
              "#d8576b"
             ],
             [
              0.6666666666666666,
              "#ed7953"
             ],
             [
              0.7777777777777778,
              "#fb9f3a"
             ],
             [
              0.8888888888888888,
              "#fdca26"
             ],
             [
              1,
              "#f0f921"
             ]
            ],
            "type": "contour"
           }
          ],
          "contourcarpet": [
           {
            "colorbar": {
             "outlinewidth": 0,
             "ticks": ""
            },
            "type": "contourcarpet"
           }
          ],
          "heatmap": [
           {
            "colorbar": {
             "outlinewidth": 0,
             "ticks": ""
            },
            "colorscale": [
             [
              0,
              "#0d0887"
             ],
             [
              0.1111111111111111,
              "#46039f"
             ],
             [
              0.2222222222222222,
              "#7201a8"
             ],
             [
              0.3333333333333333,
              "#9c179e"
             ],
             [
              0.4444444444444444,
              "#bd3786"
             ],
             [
              0.5555555555555556,
              "#d8576b"
             ],
             [
              0.6666666666666666,
              "#ed7953"
             ],
             [
              0.7777777777777778,
              "#fb9f3a"
             ],
             [
              0.8888888888888888,
              "#fdca26"
             ],
             [
              1,
              "#f0f921"
             ]
            ],
            "type": "heatmap"
           }
          ],
          "heatmapgl": [
           {
            "colorbar": {
             "outlinewidth": 0,
             "ticks": ""
            },
            "colorscale": [
             [
              0,
              "#0d0887"
             ],
             [
              0.1111111111111111,
              "#46039f"
             ],
             [
              0.2222222222222222,
              "#7201a8"
             ],
             [
              0.3333333333333333,
              "#9c179e"
             ],
             [
              0.4444444444444444,
              "#bd3786"
             ],
             [
              0.5555555555555556,
              "#d8576b"
             ],
             [
              0.6666666666666666,
              "#ed7953"
             ],
             [
              0.7777777777777778,
              "#fb9f3a"
             ],
             [
              0.8888888888888888,
              "#fdca26"
             ],
             [
              1,
              "#f0f921"
             ]
            ],
            "type": "heatmapgl"
           }
          ],
          "histogram": [
           {
            "marker": {
             "pattern": {
              "fillmode": "overlay",
              "size": 10,
              "solidity": 0.2
             }
            },
            "type": "histogram"
           }
          ],
          "histogram2d": [
           {
            "colorbar": {
             "outlinewidth": 0,
             "ticks": ""
            },
            "colorscale": [
             [
              0,
              "#0d0887"
             ],
             [
              0.1111111111111111,
              "#46039f"
             ],
             [
              0.2222222222222222,
              "#7201a8"
             ],
             [
              0.3333333333333333,
              "#9c179e"
             ],
             [
              0.4444444444444444,
              "#bd3786"
             ],
             [
              0.5555555555555556,
              "#d8576b"
             ],
             [
              0.6666666666666666,
              "#ed7953"
             ],
             [
              0.7777777777777778,
              "#fb9f3a"
             ],
             [
              0.8888888888888888,
              "#fdca26"
             ],
             [
              1,
              "#f0f921"
             ]
            ],
            "type": "histogram2d"
           }
          ],
          "histogram2dcontour": [
           {
            "colorbar": {
             "outlinewidth": 0,
             "ticks": ""
            },
            "colorscale": [
             [
              0,
              "#0d0887"
             ],
             [
              0.1111111111111111,
              "#46039f"
             ],
             [
              0.2222222222222222,
              "#7201a8"
             ],
             [
              0.3333333333333333,
              "#9c179e"
             ],
             [
              0.4444444444444444,
              "#bd3786"
             ],
             [
              0.5555555555555556,
              "#d8576b"
             ],
             [
              0.6666666666666666,
              "#ed7953"
             ],
             [
              0.7777777777777778,
              "#fb9f3a"
             ],
             [
              0.8888888888888888,
              "#fdca26"
             ],
             [
              1,
              "#f0f921"
             ]
            ],
            "type": "histogram2dcontour"
           }
          ],
          "mesh3d": [
           {
            "colorbar": {
             "outlinewidth": 0,
             "ticks": ""
            },
            "type": "mesh3d"
           }
          ],
          "parcoords": [
           {
            "line": {
             "colorbar": {
              "outlinewidth": 0,
              "ticks": ""
             }
            },
            "type": "parcoords"
           }
          ],
          "pie": [
           {
            "automargin": true,
            "type": "pie"
           }
          ],
          "scatter": [
           {
            "marker": {
             "colorbar": {
              "outlinewidth": 0,
              "ticks": ""
             }
            },
            "type": "scatter"
           }
          ],
          "scatter3d": [
           {
            "line": {
             "colorbar": {
              "outlinewidth": 0,
              "ticks": ""
             }
            },
            "marker": {
             "colorbar": {
              "outlinewidth": 0,
              "ticks": ""
             }
            },
            "type": "scatter3d"
           }
          ],
          "scattercarpet": [
           {
            "marker": {
             "colorbar": {
              "outlinewidth": 0,
              "ticks": ""
             }
            },
            "type": "scattercarpet"
           }
          ],
          "scattergeo": [
           {
            "marker": {
             "colorbar": {
              "outlinewidth": 0,
              "ticks": ""
             }
            },
            "type": "scattergeo"
           }
          ],
          "scattergl": [
           {
            "marker": {
             "colorbar": {
              "outlinewidth": 0,
              "ticks": ""
             }
            },
            "type": "scattergl"
           }
          ],
          "scattermapbox": [
           {
            "marker": {
             "colorbar": {
              "outlinewidth": 0,
              "ticks": ""
             }
            },
            "type": "scattermapbox"
           }
          ],
          "scatterpolar": [
           {
            "marker": {
             "colorbar": {
              "outlinewidth": 0,
              "ticks": ""
             }
            },
            "type": "scatterpolar"
           }
          ],
          "scatterpolargl": [
           {
            "marker": {
             "colorbar": {
              "outlinewidth": 0,
              "ticks": ""
             }
            },
            "type": "scatterpolargl"
           }
          ],
          "scatterternary": [
           {
            "marker": {
             "colorbar": {
              "outlinewidth": 0,
              "ticks": ""
             }
            },
            "type": "scatterternary"
           }
          ],
          "surface": [
           {
            "colorbar": {
             "outlinewidth": 0,
             "ticks": ""
            },
            "colorscale": [
             [
              0,
              "#0d0887"
             ],
             [
              0.1111111111111111,
              "#46039f"
             ],
             [
              0.2222222222222222,
              "#7201a8"
             ],
             [
              0.3333333333333333,
              "#9c179e"
             ],
             [
              0.4444444444444444,
              "#bd3786"
             ],
             [
              0.5555555555555556,
              "#d8576b"
             ],
             [
              0.6666666666666666,
              "#ed7953"
             ],
             [
              0.7777777777777778,
              "#fb9f3a"
             ],
             [
              0.8888888888888888,
              "#fdca26"
             ],
             [
              1,
              "#f0f921"
             ]
            ],
            "type": "surface"
           }
          ],
          "table": [
           {
            "cells": {
             "fill": {
              "color": "#EBF0F8"
             },
             "line": {
              "color": "white"
             }
            },
            "header": {
             "fill": {
              "color": "#C8D4E3"
             },
             "line": {
              "color": "white"
             }
            },
            "type": "table"
           }
          ]
         },
         "layout": {
          "annotationdefaults": {
           "arrowcolor": "#2a3f5f",
           "arrowhead": 0,
           "arrowwidth": 1
          },
          "autotypenumbers": "strict",
          "coloraxis": {
           "colorbar": {
            "outlinewidth": 0,
            "ticks": ""
           }
          },
          "colorscale": {
           "diverging": [
            [
             0,
             "#8e0152"
            ],
            [
             0.1,
             "#c51b7d"
            ],
            [
             0.2,
             "#de77ae"
            ],
            [
             0.3,
             "#f1b6da"
            ],
            [
             0.4,
             "#fde0ef"
            ],
            [
             0.5,
             "#f7f7f7"
            ],
            [
             0.6,
             "#e6f5d0"
            ],
            [
             0.7,
             "#b8e186"
            ],
            [
             0.8,
             "#7fbc41"
            ],
            [
             0.9,
             "#4d9221"
            ],
            [
             1,
             "#276419"
            ]
           ],
           "sequential": [
            [
             0,
             "#0d0887"
            ],
            [
             0.1111111111111111,
             "#46039f"
            ],
            [
             0.2222222222222222,
             "#7201a8"
            ],
            [
             0.3333333333333333,
             "#9c179e"
            ],
            [
             0.4444444444444444,
             "#bd3786"
            ],
            [
             0.5555555555555556,
             "#d8576b"
            ],
            [
             0.6666666666666666,
             "#ed7953"
            ],
            [
             0.7777777777777778,
             "#fb9f3a"
            ],
            [
             0.8888888888888888,
             "#fdca26"
            ],
            [
             1,
             "#f0f921"
            ]
           ],
           "sequentialminus": [
            [
             0,
             "#0d0887"
            ],
            [
             0.1111111111111111,
             "#46039f"
            ],
            [
             0.2222222222222222,
             "#7201a8"
            ],
            [
             0.3333333333333333,
             "#9c179e"
            ],
            [
             0.4444444444444444,
             "#bd3786"
            ],
            [
             0.5555555555555556,
             "#d8576b"
            ],
            [
             0.6666666666666666,
             "#ed7953"
            ],
            [
             0.7777777777777778,
             "#fb9f3a"
            ],
            [
             0.8888888888888888,
             "#fdca26"
            ],
            [
             1,
             "#f0f921"
            ]
           ]
          },
          "colorway": [
           "#636efa",
           "#EF553B",
           "#00cc96",
           "#ab63fa",
           "#FFA15A",
           "#19d3f3",
           "#FF6692",
           "#B6E880",
           "#FF97FF",
           "#FECB52"
          ],
          "font": {
           "color": "#2a3f5f"
          },
          "geo": {
           "bgcolor": "white",
           "lakecolor": "white",
           "landcolor": "#E5ECF6",
           "showlakes": true,
           "showland": true,
           "subunitcolor": "white"
          },
          "hoverlabel": {
           "align": "left"
          },
          "hovermode": "closest",
          "mapbox": {
           "style": "light"
          },
          "paper_bgcolor": "white",
          "plot_bgcolor": "#E5ECF6",
          "polar": {
           "angularaxis": {
            "gridcolor": "white",
            "linecolor": "white",
            "ticks": ""
           },
           "bgcolor": "#E5ECF6",
           "radialaxis": {
            "gridcolor": "white",
            "linecolor": "white",
            "ticks": ""
           }
          },
          "scene": {
           "xaxis": {
            "backgroundcolor": "#E5ECF6",
            "gridcolor": "white",
            "gridwidth": 2,
            "linecolor": "white",
            "showbackground": true,
            "ticks": "",
            "zerolinecolor": "white"
           },
           "yaxis": {
            "backgroundcolor": "#E5ECF6",
            "gridcolor": "white",
            "gridwidth": 2,
            "linecolor": "white",
            "showbackground": true,
            "ticks": "",
            "zerolinecolor": "white"
           },
           "zaxis": {
            "backgroundcolor": "#E5ECF6",
            "gridcolor": "white",
            "gridwidth": 2,
            "linecolor": "white",
            "showbackground": true,
            "ticks": "",
            "zerolinecolor": "white"
           }
          },
          "shapedefaults": {
           "line": {
            "color": "#2a3f5f"
           }
          },
          "ternary": {
           "aaxis": {
            "gridcolor": "white",
            "linecolor": "white",
            "ticks": ""
           },
           "baxis": {
            "gridcolor": "white",
            "linecolor": "white",
            "ticks": ""
           },
           "bgcolor": "#E5ECF6",
           "caxis": {
            "gridcolor": "white",
            "linecolor": "white",
            "ticks": ""
           }
          },
          "title": {
           "x": 0.05
          },
          "xaxis": {
           "automargin": true,
           "gridcolor": "white",
           "linecolor": "white",
           "ticks": "",
           "title": {
            "standoff": 15
           },
           "zerolinecolor": "white",
           "zerolinewidth": 2
          },
          "yaxis": {
           "automargin": true,
           "gridcolor": "white",
           "linecolor": "white",
           "ticks": "",
           "title": {
            "standoff": 15
           },
           "zerolinecolor": "white",
           "zerolinewidth": 2
          }
         }
        },
        "width": 1500,
        "xaxis": {
         "anchor": "y",
         "categoryarray": [
          "Daytime sleepiness",
          "Insomnia initiating",
          "Insomnia maintaining",
          "Breath abnormalities complaint",
          "Snoring",
          "Legs movement",
          "Functional repercussions",
          "Sleep satisfaction",
          "Insomnia early",
          "Altered oneiric activity",
          "Lapses into sleep",
          "Leg sensory discomfort",
          "Fatigue",
          "Affective symptoms",
          "Short sleep time",
          "Long sleep time",
          "Breath abnormalities observation",
          "Behavioral symptoms during sleep",
          "Ambulation",
          "Disturbed sleep period",
          "Worries",
          "Hypnotics",
          "Delay in the sleep period",
          "Pain",
          "Non restorative sleep",
          "Cognitive symptoms",
          "Advance in the sleep period",
          "Dry mouth",
          "Sleep inertia",
          "Amnesia",
          "Vocalization",
          "Myoclonic jerks",
          "Cataplexy",
          "Fright behavior",
          "Autonomic symptoms",
          "Headache",
          "Sweating",
          "Hallucination",
          "Motor paralysis",
          "Tooth grinding",
          "Nycturia",
          "Behavioral symptoms during wake",
          "Eating symptoms",
          "Abnormal responsiveness",
          "Rhythmic movement",
          "Incomplete awakening",
          "Sleep needs",
          "Sleep efficiency",
          "Psychostimulants",
          "Sour taste",
          "Normal responsiveness",
          "Somatic symptoms",
          "Absent of major sleep period",
          "Hot/cool sensation",
          "Sleep resistance",
          "Cyanosis",
          "Altered perception",
          "Unvoluntary voiding",
          "Malaise",
          "Circadian period > 24h"
         ],
         "categoryorder": "array",
         "domain": [
          0,
          1
         ],
         "tickangle": -60,
         "title": {
          "text": "Symptom"
         }
        },
        "yaxis": {
         "anchor": "x",
         "domain": [
          0,
          1
         ],
         "title": {
          "text": "Number of questionnaires"
         }
        }
       }
      }
     },
     "metadata": {},
     "output_type": "display_data"
    }
   ],
   "source": [
    "df_questionnaires = df.drop(references, axis = 1)\n",
    "if df.shape[0] != df['Category'].isnull().sum() : \n",
    "    color = 'Category'\n",
    "else : \n",
    "    color = \"sum_symptoms\"\n",
    "fig = px.bar(df_questionnaires.sort_values(by=['sum_symptoms','Ab'],ascending = [False,True]),\n",
    "             x='Symptom',\n",
    "             y='sum_symptoms',\n",
    "             color=color,\n",
    "             labels={'sum_symptoms':'Number of questionnaires'},\n",
    "             color_discrete_sequence =  px.colors.qualitative.Pastel, ## more color palettes available here : https://plotly.com/python/builtin-colors\n",
    "             category_orders = {'Category':df_questionnaires.sort_values(by='Ab').Category.unique()}\n",
    "             )\n",
    "fig.update_layout(xaxis_tickangle=-60,autosize=False, width=1500, height=600, \n",
    "                  #xaxis={'categoryorder': 'total descending'}\n",
    "                  xaxis={'categoryorder':'array', 'categoryarray':df_questionnaires.Symptom.unique()},\n",
    "\n",
    "                  )\n",
    "fig.write_image(\"figure1_histogram_1.pdf\")\n",
    "fig.show()"
   ]
  },
  {
   "attachments": {},
   "cell_type": "markdown",
   "metadata": {
    "id": "dgGMcg8IvzX6"
   },
   "source": [
    "The figure has been save in the online folder (📁 symbol on the left) under the name [figure1_histogram_1.pdf](figure1_histogram_1.pdf). <br>You can change the name and the format of the file changing the name in the `fig.write_image()` function. \n",
    "<br>⚠️ If you need it, save the figure on your local computer : these online file will be deleted as soon as you quit this page!"
   ]
  },
  {
   "cell_type": "markdown",
   "metadata": {},
   "source": [
    "### Sorted by category"
   ]
  },
  {
   "cell_type": "code",
   "execution_count": 43,
   "metadata": {
    "colab": {
     "base_uri": "https://localhost:8080/",
     "height": 537
    },
    "id": "bciHxgdqtHgj",
    "outputId": "816439f1-57df-40b7-f8ab-cac6316765f7"
   },
   "outputs": [
    {
     "data": {
      "application/vnd.plotly.v1+json": {
       "config": {
        "plotlyServerURL": "https://plotly.com"
       },
       "data": [
        {
         "alignmentgroup": "True",
         "hovertemplate": "Category=SLEEPINESS SYMPTOMS<br>Symptom=%{x}<br>Number of questionnaires=%{y}<extra></extra>",
         "legendgroup": "SLEEPINESS SYMPTOMS",
         "marker": {
          "color": "rgb(102, 197, 204)",
          "pattern": {
           "shape": ""
          }
         },
         "name": "SLEEPINESS SYMPTOMS",
         "offsetgroup": "SLEEPINESS SYMPTOMS",
         "orientation": "v",
         "showlegend": true,
         "textposition": "auto",
         "type": "bar",
         "x": [
          "Daytime sleepiness",
          "Lapses into sleep",
          "Long sleep time",
          "Sleep inertia"
         ],
         "xaxis": "x",
         "y": [
          12,
          9,
          7,
          4
         ],
         "yaxis": "y"
        },
        {
         "alignmentgroup": "True",
         "hovertemplate": "Category=INSOMNIA SYMPTOMS<br>Symptom=%{x}<br>Number of questionnaires=%{y}<extra></extra>",
         "legendgroup": "INSOMNIA SYMPTOMS",
         "marker": {
          "color": "rgb(246, 207, 113)",
          "pattern": {
           "shape": ""
          }
         },
         "name": "INSOMNIA SYMPTOMS",
         "offsetgroup": "INSOMNIA SYMPTOMS",
         "orientation": "v",
         "showlegend": true,
         "textposition": "auto",
         "type": "bar",
         "x": [
          "Insomnia initiating",
          "Insomnia maintaining",
          "Insomnia early",
          "Non restorative sleep",
          "Sleep resistance"
         ],
         "xaxis": "x",
         "y": [
          12,
          12,
          10,
          5,
          0
         ],
         "yaxis": "y"
        },
        {
         "alignmentgroup": "True",
         "hovertemplate": "Category=RESPIRATORY SYMPTOMS<br>Symptom=%{x}<br>Number of questionnaires=%{y}<extra></extra>",
         "legendgroup": "RESPIRATORY SYMPTOMS",
         "marker": {
          "color": "rgb(248, 156, 116)",
          "pattern": {
           "shape": ""
          }
         },
         "name": "RESPIRATORY SYMPTOMS",
         "offsetgroup": "RESPIRATORY SYMPTOMS",
         "orientation": "v",
         "showlegend": true,
         "textposition": "auto",
         "type": "bar",
         "x": [
          "Breath abnormalities complaint",
          "Snoring",
          "Breath abnormalities observation",
          "Cyanosis"
         ],
         "xaxis": "x",
         "y": [
          12,
          11,
          7,
          0
         ],
         "yaxis": "y"
        },
        {
         "alignmentgroup": "True",
         "hovertemplate": "Category=PSYCHIATRIC SYMPTOMS<br>Symptom=%{x}<br>Number of questionnaires=%{y}<extra></extra>",
         "legendgroup": "PSYCHIATRIC SYMPTOMS",
         "marker": {
          "color": "rgb(220, 176, 242)",
          "pattern": {
           "shape": ""
          }
         },
         "name": "PSYCHIATRIC SYMPTOMS",
         "offsetgroup": "PSYCHIATRIC SYMPTOMS",
         "orientation": "v",
         "showlegend": true,
         "textposition": "auto",
         "type": "bar",
         "x": [
          "Affective symptoms",
          "Cognitive symptoms",
          "Hallucination",
          "Behavioral symptoms during wake",
          "Altered perception"
         ],
         "xaxis": "x",
         "y": [
          8,
          5,
          3,
          2,
          0
         ],
         "yaxis": "y"
        },
        {
         "alignmentgroup": "True",
         "hovertemplate": "Category=BEHAVIORAL SYMPTOMS DURING SLEEP<br>Symptom=%{x}<br>Number of questionnaires=%{y}<extra></extra>",
         "legendgroup": "BEHAVIORAL SYMPTOMS DURING SLEEP",
         "marker": {
          "color": "rgb(135, 197, 95)",
          "pattern": {
           "shape": ""
          }
         },
         "name": "BEHAVIORAL SYMPTOMS DURING SLEEP",
         "offsetgroup": "BEHAVIORAL SYMPTOMS DURING SLEEP",
         "orientation": "v",
         "showlegend": true,
         "textposition": "auto",
         "type": "bar",
         "x": [
          "Altered oneiric activity",
          "Behavioral symptoms during sleep",
          "Ambulation",
          "Amnesia",
          "Vocalization",
          "Eating symptoms",
          "Abnormal responsiveness",
          "Normal responsiveness",
          "Unvoluntary voiding"
         ],
         "xaxis": "x",
         "y": [
          10,
          7,
          7,
          4,
          4,
          2,
          2,
          1,
          0
         ],
         "yaxis": "y"
        },
        {
         "alignmentgroup": "True",
         "hovertemplate": "Category=MOTOR SYMPTOMS<br>Symptom=%{x}<br>Number of questionnaires=%{y}<extra></extra>",
         "legendgroup": "MOTOR SYMPTOMS",
         "marker": {
          "color": "rgb(158, 185, 243)",
          "pattern": {
           "shape": ""
          }
         },
         "name": "MOTOR SYMPTOMS",
         "offsetgroup": "MOTOR SYMPTOMS",
         "orientation": "v",
         "showlegend": true,
         "textposition": "auto",
         "type": "bar",
         "x": [
          "Legs movement",
          "Leg sensory discomfort",
          "Myoclonic jerks",
          "Cataplexy",
          "Motor paralysis",
          "Tooth grinding",
          "Rhythmic movement"
         ],
         "xaxis": "x",
         "y": [
          11,
          9,
          4,
          4,
          3,
          3,
          2
         ],
         "yaxis": "y"
        },
        {
         "alignmentgroup": "True",
         "hovertemplate": "Category=GENERAL SYMPTOMS<br>Symptom=%{x}<br>Number of questionnaires=%{y}<extra></extra>",
         "legendgroup": "GENERAL SYMPTOMS",
         "marker": {
          "color": "rgb(254, 136, 177)",
          "pattern": {
           "shape": ""
          }
         },
         "name": "GENERAL SYMPTOMS",
         "offsetgroup": "GENERAL SYMPTOMS",
         "orientation": "v",
         "showlegend": true,
         "textposition": "auto",
         "type": "bar",
         "x": [
          "Fatigue",
          "Fright behavior",
          "Autonomic symptoms",
          "Headache",
          "Somatic symptoms",
          "Malaise"
         ],
         "xaxis": "x",
         "y": [
          9,
          4,
          4,
          4,
          1,
          0
         ],
         "yaxis": "y"
        },
        {
         "alignmentgroup": "True",
         "hovertemplate": "Category=SLEEP PERIOD SYMPTOMS<br>Symptom=%{x}<br>Number of questionnaires=%{y}<extra></extra>",
         "legendgroup": "SLEEP PERIOD SYMPTOMS",
         "marker": {
          "color": "rgb(201, 219, 116)",
          "pattern": {
           "shape": ""
          }
         },
         "name": "SLEEP PERIOD SYMPTOMS",
         "offsetgroup": "SLEEP PERIOD SYMPTOMS",
         "orientation": "v",
         "showlegend": true,
         "textposition": "auto",
         "type": "bar",
         "x": [
          "Short sleep time",
          "Disturbed sleep period",
          "Delay in the sleep period",
          "Advance in the sleep period",
          "Incomplete awakening",
          "Absent of major sleep period",
          "Circadian period > 24h"
         ],
         "xaxis": "x",
         "y": [
          8,
          7,
          6,
          5,
          2,
          1,
          0
         ],
         "yaxis": "y"
        },
        {
         "alignmentgroup": "True",
         "hovertemplate": "Category=NON OTHERWISE SPECIFIED<br>Symptom=%{x}<br>Number of questionnaires=%{y}<extra></extra>",
         "legendgroup": "NON OTHERWISE SPECIFIED",
         "marker": {
          "color": "rgb(139, 224, 164)",
          "pattern": {
           "shape": ""
          }
         },
         "name": "NON OTHERWISE SPECIFIED",
         "offsetgroup": "NON OTHERWISE SPECIFIED",
         "orientation": "v",
         "showlegend": true,
         "textposition": "auto",
         "type": "bar",
         "x": [
          "Functional repercussions",
          "Sleep satisfaction",
          "Worries",
          "Hypnotics",
          "Pain",
          "Dry mouth",
          "Sweating",
          "Nycturia",
          "Sleep needs",
          "Sleep efficiency",
          "Psychostimulants",
          "Sour taste",
          "Hot/cool sensation"
         ],
         "xaxis": "x",
         "y": [
          11,
          11,
          7,
          7,
          6,
          5,
          4,
          3,
          2,
          2,
          2,
          2,
          1
         ],
         "yaxis": "y"
        }
       ],
       "layout": {
        "autosize": false,
        "barmode": "relative",
        "height": 600,
        "legend": {
         "title": {
          "text": "Category"
         },
         "tracegroupgap": 0
        },
        "margin": {
         "t": 60
        },
        "template": {
         "data": {
          "bar": [
           {
            "error_x": {
             "color": "#2a3f5f"
            },
            "error_y": {
             "color": "#2a3f5f"
            },
            "marker": {
             "line": {
              "color": "#E5ECF6",
              "width": 0.5
             },
             "pattern": {
              "fillmode": "overlay",
              "size": 10,
              "solidity": 0.2
             }
            },
            "type": "bar"
           }
          ],
          "barpolar": [
           {
            "marker": {
             "line": {
              "color": "#E5ECF6",
              "width": 0.5
             },
             "pattern": {
              "fillmode": "overlay",
              "size": 10,
              "solidity": 0.2
             }
            },
            "type": "barpolar"
           }
          ],
          "carpet": [
           {
            "aaxis": {
             "endlinecolor": "#2a3f5f",
             "gridcolor": "white",
             "linecolor": "white",
             "minorgridcolor": "white",
             "startlinecolor": "#2a3f5f"
            },
            "baxis": {
             "endlinecolor": "#2a3f5f",
             "gridcolor": "white",
             "linecolor": "white",
             "minorgridcolor": "white",
             "startlinecolor": "#2a3f5f"
            },
            "type": "carpet"
           }
          ],
          "choropleth": [
           {
            "colorbar": {
             "outlinewidth": 0,
             "ticks": ""
            },
            "type": "choropleth"
           }
          ],
          "contour": [
           {
            "colorbar": {
             "outlinewidth": 0,
             "ticks": ""
            },
            "colorscale": [
             [
              0,
              "#0d0887"
             ],
             [
              0.1111111111111111,
              "#46039f"
             ],
             [
              0.2222222222222222,
              "#7201a8"
             ],
             [
              0.3333333333333333,
              "#9c179e"
             ],
             [
              0.4444444444444444,
              "#bd3786"
             ],
             [
              0.5555555555555556,
              "#d8576b"
             ],
             [
              0.6666666666666666,
              "#ed7953"
             ],
             [
              0.7777777777777778,
              "#fb9f3a"
             ],
             [
              0.8888888888888888,
              "#fdca26"
             ],
             [
              1,
              "#f0f921"
             ]
            ],
            "type": "contour"
           }
          ],
          "contourcarpet": [
           {
            "colorbar": {
             "outlinewidth": 0,
             "ticks": ""
            },
            "type": "contourcarpet"
           }
          ],
          "heatmap": [
           {
            "colorbar": {
             "outlinewidth": 0,
             "ticks": ""
            },
            "colorscale": [
             [
              0,
              "#0d0887"
             ],
             [
              0.1111111111111111,
              "#46039f"
             ],
             [
              0.2222222222222222,
              "#7201a8"
             ],
             [
              0.3333333333333333,
              "#9c179e"
             ],
             [
              0.4444444444444444,
              "#bd3786"
             ],
             [
              0.5555555555555556,
              "#d8576b"
             ],
             [
              0.6666666666666666,
              "#ed7953"
             ],
             [
              0.7777777777777778,
              "#fb9f3a"
             ],
             [
              0.8888888888888888,
              "#fdca26"
             ],
             [
              1,
              "#f0f921"
             ]
            ],
            "type": "heatmap"
           }
          ],
          "heatmapgl": [
           {
            "colorbar": {
             "outlinewidth": 0,
             "ticks": ""
            },
            "colorscale": [
             [
              0,
              "#0d0887"
             ],
             [
              0.1111111111111111,
              "#46039f"
             ],
             [
              0.2222222222222222,
              "#7201a8"
             ],
             [
              0.3333333333333333,
              "#9c179e"
             ],
             [
              0.4444444444444444,
              "#bd3786"
             ],
             [
              0.5555555555555556,
              "#d8576b"
             ],
             [
              0.6666666666666666,
              "#ed7953"
             ],
             [
              0.7777777777777778,
              "#fb9f3a"
             ],
             [
              0.8888888888888888,
              "#fdca26"
             ],
             [
              1,
              "#f0f921"
             ]
            ],
            "type": "heatmapgl"
           }
          ],
          "histogram": [
           {
            "marker": {
             "pattern": {
              "fillmode": "overlay",
              "size": 10,
              "solidity": 0.2
             }
            },
            "type": "histogram"
           }
          ],
          "histogram2d": [
           {
            "colorbar": {
             "outlinewidth": 0,
             "ticks": ""
            },
            "colorscale": [
             [
              0,
              "#0d0887"
             ],
             [
              0.1111111111111111,
              "#46039f"
             ],
             [
              0.2222222222222222,
              "#7201a8"
             ],
             [
              0.3333333333333333,
              "#9c179e"
             ],
             [
              0.4444444444444444,
              "#bd3786"
             ],
             [
              0.5555555555555556,
              "#d8576b"
             ],
             [
              0.6666666666666666,
              "#ed7953"
             ],
             [
              0.7777777777777778,
              "#fb9f3a"
             ],
             [
              0.8888888888888888,
              "#fdca26"
             ],
             [
              1,
              "#f0f921"
             ]
            ],
            "type": "histogram2d"
           }
          ],
          "histogram2dcontour": [
           {
            "colorbar": {
             "outlinewidth": 0,
             "ticks": ""
            },
            "colorscale": [
             [
              0,
              "#0d0887"
             ],
             [
              0.1111111111111111,
              "#46039f"
             ],
             [
              0.2222222222222222,
              "#7201a8"
             ],
             [
              0.3333333333333333,
              "#9c179e"
             ],
             [
              0.4444444444444444,
              "#bd3786"
             ],
             [
              0.5555555555555556,
              "#d8576b"
             ],
             [
              0.6666666666666666,
              "#ed7953"
             ],
             [
              0.7777777777777778,
              "#fb9f3a"
             ],
             [
              0.8888888888888888,
              "#fdca26"
             ],
             [
              1,
              "#f0f921"
             ]
            ],
            "type": "histogram2dcontour"
           }
          ],
          "mesh3d": [
           {
            "colorbar": {
             "outlinewidth": 0,
             "ticks": ""
            },
            "type": "mesh3d"
           }
          ],
          "parcoords": [
           {
            "line": {
             "colorbar": {
              "outlinewidth": 0,
              "ticks": ""
             }
            },
            "type": "parcoords"
           }
          ],
          "pie": [
           {
            "automargin": true,
            "type": "pie"
           }
          ],
          "scatter": [
           {
            "marker": {
             "colorbar": {
              "outlinewidth": 0,
              "ticks": ""
             }
            },
            "type": "scatter"
           }
          ],
          "scatter3d": [
           {
            "line": {
             "colorbar": {
              "outlinewidth": 0,
              "ticks": ""
             }
            },
            "marker": {
             "colorbar": {
              "outlinewidth": 0,
              "ticks": ""
             }
            },
            "type": "scatter3d"
           }
          ],
          "scattercarpet": [
           {
            "marker": {
             "colorbar": {
              "outlinewidth": 0,
              "ticks": ""
             }
            },
            "type": "scattercarpet"
           }
          ],
          "scattergeo": [
           {
            "marker": {
             "colorbar": {
              "outlinewidth": 0,
              "ticks": ""
             }
            },
            "type": "scattergeo"
           }
          ],
          "scattergl": [
           {
            "marker": {
             "colorbar": {
              "outlinewidth": 0,
              "ticks": ""
             }
            },
            "type": "scattergl"
           }
          ],
          "scattermapbox": [
           {
            "marker": {
             "colorbar": {
              "outlinewidth": 0,
              "ticks": ""
             }
            },
            "type": "scattermapbox"
           }
          ],
          "scatterpolar": [
           {
            "marker": {
             "colorbar": {
              "outlinewidth": 0,
              "ticks": ""
             }
            },
            "type": "scatterpolar"
           }
          ],
          "scatterpolargl": [
           {
            "marker": {
             "colorbar": {
              "outlinewidth": 0,
              "ticks": ""
             }
            },
            "type": "scatterpolargl"
           }
          ],
          "scatterternary": [
           {
            "marker": {
             "colorbar": {
              "outlinewidth": 0,
              "ticks": ""
             }
            },
            "type": "scatterternary"
           }
          ],
          "surface": [
           {
            "colorbar": {
             "outlinewidth": 0,
             "ticks": ""
            },
            "colorscale": [
             [
              0,
              "#0d0887"
             ],
             [
              0.1111111111111111,
              "#46039f"
             ],
             [
              0.2222222222222222,
              "#7201a8"
             ],
             [
              0.3333333333333333,
              "#9c179e"
             ],
             [
              0.4444444444444444,
              "#bd3786"
             ],
             [
              0.5555555555555556,
              "#d8576b"
             ],
             [
              0.6666666666666666,
              "#ed7953"
             ],
             [
              0.7777777777777778,
              "#fb9f3a"
             ],
             [
              0.8888888888888888,
              "#fdca26"
             ],
             [
              1,
              "#f0f921"
             ]
            ],
            "type": "surface"
           }
          ],
          "table": [
           {
            "cells": {
             "fill": {
              "color": "#EBF0F8"
             },
             "line": {
              "color": "white"
             }
            },
            "header": {
             "fill": {
              "color": "#C8D4E3"
             },
             "line": {
              "color": "white"
             }
            },
            "type": "table"
           }
          ]
         },
         "layout": {
          "annotationdefaults": {
           "arrowcolor": "#2a3f5f",
           "arrowhead": 0,
           "arrowwidth": 1
          },
          "autotypenumbers": "strict",
          "coloraxis": {
           "colorbar": {
            "outlinewidth": 0,
            "ticks": ""
           }
          },
          "colorscale": {
           "diverging": [
            [
             0,
             "#8e0152"
            ],
            [
             0.1,
             "#c51b7d"
            ],
            [
             0.2,
             "#de77ae"
            ],
            [
             0.3,
             "#f1b6da"
            ],
            [
             0.4,
             "#fde0ef"
            ],
            [
             0.5,
             "#f7f7f7"
            ],
            [
             0.6,
             "#e6f5d0"
            ],
            [
             0.7,
             "#b8e186"
            ],
            [
             0.8,
             "#7fbc41"
            ],
            [
             0.9,
             "#4d9221"
            ],
            [
             1,
             "#276419"
            ]
           ],
           "sequential": [
            [
             0,
             "#0d0887"
            ],
            [
             0.1111111111111111,
             "#46039f"
            ],
            [
             0.2222222222222222,
             "#7201a8"
            ],
            [
             0.3333333333333333,
             "#9c179e"
            ],
            [
             0.4444444444444444,
             "#bd3786"
            ],
            [
             0.5555555555555556,
             "#d8576b"
            ],
            [
             0.6666666666666666,
             "#ed7953"
            ],
            [
             0.7777777777777778,
             "#fb9f3a"
            ],
            [
             0.8888888888888888,
             "#fdca26"
            ],
            [
             1,
             "#f0f921"
            ]
           ],
           "sequentialminus": [
            [
             0,
             "#0d0887"
            ],
            [
             0.1111111111111111,
             "#46039f"
            ],
            [
             0.2222222222222222,
             "#7201a8"
            ],
            [
             0.3333333333333333,
             "#9c179e"
            ],
            [
             0.4444444444444444,
             "#bd3786"
            ],
            [
             0.5555555555555556,
             "#d8576b"
            ],
            [
             0.6666666666666666,
             "#ed7953"
            ],
            [
             0.7777777777777778,
             "#fb9f3a"
            ],
            [
             0.8888888888888888,
             "#fdca26"
            ],
            [
             1,
             "#f0f921"
            ]
           ]
          },
          "colorway": [
           "#636efa",
           "#EF553B",
           "#00cc96",
           "#ab63fa",
           "#FFA15A",
           "#19d3f3",
           "#FF6692",
           "#B6E880",
           "#FF97FF",
           "#FECB52"
          ],
          "font": {
           "color": "#2a3f5f"
          },
          "geo": {
           "bgcolor": "white",
           "lakecolor": "white",
           "landcolor": "#E5ECF6",
           "showlakes": true,
           "showland": true,
           "subunitcolor": "white"
          },
          "hoverlabel": {
           "align": "left"
          },
          "hovermode": "closest",
          "mapbox": {
           "style": "light"
          },
          "paper_bgcolor": "white",
          "plot_bgcolor": "#E5ECF6",
          "polar": {
           "angularaxis": {
            "gridcolor": "white",
            "linecolor": "white",
            "ticks": ""
           },
           "bgcolor": "#E5ECF6",
           "radialaxis": {
            "gridcolor": "white",
            "linecolor": "white",
            "ticks": ""
           }
          },
          "scene": {
           "xaxis": {
            "backgroundcolor": "#E5ECF6",
            "gridcolor": "white",
            "gridwidth": 2,
            "linecolor": "white",
            "showbackground": true,
            "ticks": "",
            "zerolinecolor": "white"
           },
           "yaxis": {
            "backgroundcolor": "#E5ECF6",
            "gridcolor": "white",
            "gridwidth": 2,
            "linecolor": "white",
            "showbackground": true,
            "ticks": "",
            "zerolinecolor": "white"
           },
           "zaxis": {
            "backgroundcolor": "#E5ECF6",
            "gridcolor": "white",
            "gridwidth": 2,
            "linecolor": "white",
            "showbackground": true,
            "ticks": "",
            "zerolinecolor": "white"
           }
          },
          "shapedefaults": {
           "line": {
            "color": "#2a3f5f"
           }
          },
          "ternary": {
           "aaxis": {
            "gridcolor": "white",
            "linecolor": "white",
            "ticks": ""
           },
           "baxis": {
            "gridcolor": "white",
            "linecolor": "white",
            "ticks": ""
           },
           "bgcolor": "#E5ECF6",
           "caxis": {
            "gridcolor": "white",
            "linecolor": "white",
            "ticks": ""
           }
          },
          "title": {
           "x": 0.05
          },
          "xaxis": {
           "automargin": true,
           "gridcolor": "white",
           "linecolor": "white",
           "ticks": "",
           "title": {
            "standoff": 15
           },
           "zerolinecolor": "white",
           "zerolinewidth": 2
          },
          "yaxis": {
           "automargin": true,
           "gridcolor": "white",
           "linecolor": "white",
           "ticks": "",
           "title": {
            "standoff": 15
           },
           "zerolinecolor": "white",
           "zerolinewidth": 2
          }
         }
        },
        "width": 1500,
        "xaxis": {
         "anchor": "y",
         "domain": [
          0,
          1
         ],
         "tickangle": -60,
         "title": {
          "text": "Symptom"
         }
        },
        "yaxis": {
         "anchor": "x",
         "domain": [
          0,
          1
         ],
         "title": {
          "text": "Number of questionnaires"
         }
        }
       }
      }
     },
     "metadata": {},
     "output_type": "display_data"
    }
   ],
   "source": [
    "if df.shape[0] != df['Category'].isnull().sum() : \n",
    "    color = 'Category'\n",
    "else : \n",
    "    color = \"sum_symptoms\"\n",
    "fig = px.bar(df_questionnaires.sort_values(by=['sum_symptoms','Ab'],ascending = [False,True]),\n",
    "             x='Symptom',\n",
    "             y='sum_symptoms',\n",
    "             color=color,\n",
    "             labels={'sum_symptoms':'Number of questionnaires'},\n",
    "             color_discrete_sequence =  px.colors.qualitative.Pastel, # more color palettes available here : https://plotly.com/python/builtin-colors\n",
    "             category_orders = {'Category':df_questionnaires.sort_values(by='Ab').Category.unique()}\n",
    "            )\n",
    "fig.update_layout(xaxis_tickangle=-60,autosize=False, width=1500, height=600)\n",
    "fig.write_image(\"figure2_histogram_2.pdf\")\n",
    "fig.show()"
   ]
  },
  {
   "attachments": {},
   "cell_type": "markdown",
   "metadata": {
    "id": "dgGMcg8IvzX6"
   },
   "source": [
    "The figure has been save in the online folder (📁 symbol on the left) under the name [figure2_histogram_2.pdf](figure2_histogram_2.pdf). <br>You can change the name and the format of the file changing the name in the `fig.write_image()` function. \n",
    "<br>⚠️ If you need it, save the figure on your local computer : these online file will be deleted as soon as you quit this page!"
   ]
  },
  {
   "attachments": {},
   "cell_type": "markdown",
   "metadata": {
    "id": "3OISRmoSwTGX"
   },
   "source": [
    "## Number of symptoms by questionnaire"
   ]
  },
  {
   "cell_type": "code",
   "execution_count": 44,
   "metadata": {
    "colab": {
     "base_uri": "https://localhost:8080/",
     "height": 488
    },
    "id": "bTYZAecywQhN",
    "outputId": "3fe68fca-8c09-4394-9c40-689fec57deb7"
   },
   "outputs": [
    {
     "data": {
      "text/html": [
       "<div>\n",
       "<style scoped>\n",
       "    .dataframe tbody tr th:only-of-type {\n",
       "        vertical-align: middle;\n",
       "    }\n",
       "\n",
       "    .dataframe tbody tr th {\n",
       "        vertical-align: top;\n",
       "    }\n",
       "\n",
       "    .dataframe thead th {\n",
       "        text-align: right;\n",
       "    }\n",
       "</style>\n",
       "<table border=\"1\" class=\"dataframe\">\n",
       "  <thead>\n",
       "    <tr style=\"text-align: right;\">\n",
       "      <th></th>\n",
       "      <th>Specific symptoms</th>\n",
       "      <th>Compound symptoms</th>\n",
       "      <th>Total</th>\n",
       "    </tr>\n",
       "  </thead>\n",
       "  <tbody>\n",
       "    <tr>\n",
       "      <th>ICSD</th>\n",
       "      <td>47</td>\n",
       "      <td>0</td>\n",
       "      <td>47</td>\n",
       "    </tr>\n",
       "    <tr>\n",
       "      <th>DSM</th>\n",
       "      <td>34</td>\n",
       "      <td>0</td>\n",
       "      <td>34</td>\n",
       "    </tr>\n",
       "    <tr>\n",
       "      <th>SDQ</th>\n",
       "      <td>32</td>\n",
       "      <td>8</td>\n",
       "      <td>40</td>\n",
       "    </tr>\n",
       "    <tr>\n",
       "      <th>Sleep50</th>\n",
       "      <td>31</td>\n",
       "      <td>3</td>\n",
       "      <td>34</td>\n",
       "    </tr>\n",
       "    <tr>\n",
       "      <th>ASQ</th>\n",
       "      <td>23</td>\n",
       "      <td>9</td>\n",
       "      <td>32</td>\n",
       "    </tr>\n",
       "    <tr>\n",
       "      <th>SDS-CL-25</th>\n",
       "      <td>20</td>\n",
       "      <td>8</td>\n",
       "      <td>28</td>\n",
       "    </tr>\n",
       "    <tr>\n",
       "      <th>HSDQ</th>\n",
       "      <td>15</td>\n",
       "      <td>12</td>\n",
       "      <td>27</td>\n",
       "    </tr>\n",
       "    <tr>\n",
       "      <th>PSQI</th>\n",
       "      <td>13</td>\n",
       "      <td>12</td>\n",
       "      <td>25</td>\n",
       "    </tr>\n",
       "    <tr>\n",
       "      <th>ISDI</th>\n",
       "      <td>16</td>\n",
       "      <td>8</td>\n",
       "      <td>24</td>\n",
       "    </tr>\n",
       "    <tr>\n",
       "      <th>GSAQ</th>\n",
       "      <td>4</td>\n",
       "      <td>18</td>\n",
       "      <td>22</td>\n",
       "    </tr>\n",
       "    <tr>\n",
       "      <th>SDS-CL-17</th>\n",
       "      <td>13</td>\n",
       "      <td>8</td>\n",
       "      <td>21</td>\n",
       "    </tr>\n",
       "    <tr>\n",
       "      <th>SSC</th>\n",
       "      <td>17</td>\n",
       "      <td>2</td>\n",
       "      <td>19</td>\n",
       "    </tr>\n",
       "    <tr>\n",
       "      <th>BNSQ</th>\n",
       "      <td>11</td>\n",
       "      <td>6</td>\n",
       "      <td>17</td>\n",
       "    </tr>\n",
       "    <tr>\n",
       "      <th>OSQ</th>\n",
       "      <td>12</td>\n",
       "      <td>5</td>\n",
       "      <td>17</td>\n",
       "    </tr>\n",
       "  </tbody>\n",
       "</table>\n",
       "</div>"
      ],
      "text/plain": [
       "           Specific symptoms  Compound symptoms  Total\n",
       "ICSD                      47                  0     47\n",
       "DSM                       34                  0     34\n",
       "SDQ                       32                  8     40\n",
       "Sleep50                   31                  3     34\n",
       "ASQ                       23                  9     32\n",
       "SDS-CL-25                 20                  8     28\n",
       "HSDQ                      15                 12     27\n",
       "PSQI                      13                 12     25\n",
       "ISDI                      16                  8     24\n",
       "GSAQ                       4                 18     22\n",
       "SDS-CL-17                 13                  8     21\n",
       "SSC                       17                  2     19\n",
       "BNSQ                      11                  6     17\n",
       "OSQ                       12                  5     17"
      ]
     },
     "metadata": {},
     "output_type": "display_data"
    }
   ],
   "source": [
    "sympt_per_questionnaire = pd.DataFrame(np.zeros((df.shape[1]-4,3)), index = df.iloc[:,3:-1].columns, columns = ['Specific symptoms', 'Compound symptoms', 'Total'])\n",
    "sympt_per_questionnaire['Specific symptoms'] = (df.iloc[:,3:-1]==1).sum(axis = 0)\n",
    "sympt_per_questionnaire['Compound symptoms'] = (df.iloc[:,3:-1]==2).sum(axis = 0)\n",
    "sympt_per_questionnaire['Total'] = (df.iloc[:,3:-1]>=1).sum(axis = 0)\n",
    "sympt_per_questionnaire.to_excel(\"table1_symptomes_per_questionnaire.xlsx\")\n",
    "\n",
    "display(sympt_per_questionnaire)"
   ]
  },
  {
   "cell_type": "markdown",
   "metadata": {
    "id": "dgGMcg8IvzX6"
   },
   "source": [
    "The table has been save in the online folder (📁 symbol on the left) under the name [table1_symptoms_per_questionnaire.xlsx](./table1_symptoms_per_questionnaire.xlsx). <br>You can change the name and the format of the file changing the name in the `sympt_per_questionnaire.to_excel()` function. \n",
    "<br>⚠️ If you need it, save the excel file on your local computer : these online file will be deleted as soon as you quit this page!"
   ]
  },
  {
   "cell_type": "markdown",
   "metadata": {
    "id": "OC5h01srm0Lo"
   },
   "source": [
    "## Symptoms that are in classifications but not in questionnaires"
   ]
  },
  {
   "cell_type": "code",
   "execution_count": 45,
   "metadata": {
    "colab": {
     "base_uri": "https://localhost:8080/"
    },
    "id": "YlNkFjvBm6Ez",
    "outputId": "9202890b-a602-4afe-e112-a42e2a145912"
   },
   "outputs": [
    {
     "name": "stdout",
     "output_type": "stream",
     "text": [
      "--- ICSD ---\n",
      "Sleep resistance\n",
      "Cyanosis\n",
      "Altered perception\n",
      "Unvoluntary voiding\n",
      "Malaise\n",
      "Circadian period > 24h\n",
      "--- DSM ---\n",
      "Sleep resistance\n",
      "Circadian period > 24h\n"
     ]
    }
   ],
   "source": [
    "if len(references) > 0 :\n",
    "  for ref in references: \n",
    "    print(\"---\", ref, \"---\")\n",
    "    for symptom in df.Symptom.unique() : \n",
    "      if (int(df.loc[df.Symptom == symptom,ref]) == 1 and int(df.loc[df.Symptom == symptom, 'sum_symptoms'])==0) : \n",
    "        print(symptom)\n",
    "else : \n",
    "    print(\"References list is empty\")"
   ]
  },
  {
   "attachments": {},
   "cell_type": "markdown",
   "metadata": {
    "id": "qw9SetrFK_Sg"
   },
   "source": [
    "## Number of symptoms in each category for each questionnaire"
   ]
  },
  {
   "cell_type": "code",
   "execution_count": 46,
   "metadata": {
    "colab": {
     "base_uri": "https://localhost:8080/",
     "height": 332
    },
    "id": "gFr5e2C5B_KN",
    "outputId": "59c485cf-60f3-4987-f24d-ff56de10fb16"
   },
   "outputs": [
    {
     "data": {
      "text/html": [
       "<div>\n",
       "<style scoped>\n",
       "    .dataframe tbody tr th:only-of-type {\n",
       "        vertical-align: middle;\n",
       "    }\n",
       "\n",
       "    .dataframe tbody tr th {\n",
       "        vertical-align: top;\n",
       "    }\n",
       "\n",
       "    .dataframe thead th {\n",
       "        text-align: right;\n",
       "    }\n",
       "</style>\n",
       "<table border=\"1\" class=\"dataframe\">\n",
       "  <thead>\n",
       "    <tr style=\"text-align: right;\">\n",
       "      <th></th>\n",
       "      <th>ICSD</th>\n",
       "      <th>DSM</th>\n",
       "      <th>SDQ</th>\n",
       "      <th>Sleep50</th>\n",
       "      <th>ASQ</th>\n",
       "      <th>SDS-CL-25</th>\n",
       "      <th>HSDQ</th>\n",
       "      <th>PSQI</th>\n",
       "      <th>ISDI</th>\n",
       "      <th>GSAQ</th>\n",
       "      <th>SDS-CL-17</th>\n",
       "      <th>SSC</th>\n",
       "      <th>BNSQ</th>\n",
       "      <th>OSQ</th>\n",
       "    </tr>\n",
       "  </thead>\n",
       "  <tbody>\n",
       "    <tr>\n",
       "      <th>SLEEPINESS SYMPTOMS</th>\n",
       "      <td>4</td>\n",
       "      <td>4</td>\n",
       "      <td>4</td>\n",
       "      <td>2</td>\n",
       "      <td>2</td>\n",
       "      <td>2</td>\n",
       "      <td>4</td>\n",
       "      <td>2</td>\n",
       "      <td>4</td>\n",
       "      <td>2</td>\n",
       "      <td>2</td>\n",
       "      <td>2</td>\n",
       "      <td>4</td>\n",
       "      <td>2</td>\n",
       "    </tr>\n",
       "    <tr>\n",
       "      <th>INSOMNIA SYMPTOMS</th>\n",
       "      <td>5</td>\n",
       "      <td>5</td>\n",
       "      <td>3</td>\n",
       "      <td>3</td>\n",
       "      <td>3</td>\n",
       "      <td>3</td>\n",
       "      <td>3</td>\n",
       "      <td>3</td>\n",
       "      <td>4</td>\n",
       "      <td>3</td>\n",
       "      <td>3</td>\n",
       "      <td>4</td>\n",
       "      <td>3</td>\n",
       "      <td>4</td>\n",
       "    </tr>\n",
       "    <tr>\n",
       "      <th>RESPIRATORY SYMPTOMS</th>\n",
       "      <td>4</td>\n",
       "      <td>3</td>\n",
       "      <td>3</td>\n",
       "      <td>3</td>\n",
       "      <td>3</td>\n",
       "      <td>3</td>\n",
       "      <td>2</td>\n",
       "      <td>3</td>\n",
       "      <td>1</td>\n",
       "      <td>2</td>\n",
       "      <td>3</td>\n",
       "      <td>2</td>\n",
       "      <td>3</td>\n",
       "      <td>2</td>\n",
       "    </tr>\n",
       "    <tr>\n",
       "      <th>PSYCHIATRIC SYMPTOMS</th>\n",
       "      <td>5</td>\n",
       "      <td>1</td>\n",
       "      <td>4</td>\n",
       "      <td>3</td>\n",
       "      <td>3</td>\n",
       "      <td>1</td>\n",
       "      <td>2</td>\n",
       "      <td>1</td>\n",
       "      <td>2</td>\n",
       "      <td>1</td>\n",
       "      <td>0</td>\n",
       "      <td>1</td>\n",
       "      <td>0</td>\n",
       "      <td>0</td>\n",
       "    </tr>\n",
       "    <tr>\n",
       "      <th>BEHAVIORAL SYMPTOMS DURING SLEEP</th>\n",
       "      <td>9</td>\n",
       "      <td>8</td>\n",
       "      <td>4</td>\n",
       "      <td>5</td>\n",
       "      <td>4</td>\n",
       "      <td>5</td>\n",
       "      <td>4</td>\n",
       "      <td>3</td>\n",
       "      <td>2</td>\n",
       "      <td>4</td>\n",
       "      <td>5</td>\n",
       "      <td>0</td>\n",
       "      <td>0</td>\n",
       "      <td>1</td>\n",
       "    </tr>\n",
       "    <tr>\n",
       "      <th>MOTOR SYMPTOMS</th>\n",
       "      <td>7</td>\n",
       "      <td>3</td>\n",
       "      <td>6</td>\n",
       "      <td>4</td>\n",
       "      <td>3</td>\n",
       "      <td>5</td>\n",
       "      <td>2</td>\n",
       "      <td>2</td>\n",
       "      <td>3</td>\n",
       "      <td>4</td>\n",
       "      <td>3</td>\n",
       "      <td>3</td>\n",
       "      <td>0</td>\n",
       "      <td>1</td>\n",
       "    </tr>\n",
       "    <tr>\n",
       "      <th>GENERAL SYMPTOMS</th>\n",
       "      <td>6</td>\n",
       "      <td>3</td>\n",
       "      <td>4</td>\n",
       "      <td>3</td>\n",
       "      <td>3</td>\n",
       "      <td>2</td>\n",
       "      <td>2</td>\n",
       "      <td>0</td>\n",
       "      <td>2</td>\n",
       "      <td>1</td>\n",
       "      <td>2</td>\n",
       "      <td>2</td>\n",
       "      <td>0</td>\n",
       "      <td>1</td>\n",
       "    </tr>\n",
       "    <tr>\n",
       "      <th>SLEEP PERIOD SYMPTOMS</th>\n",
       "      <td>7</td>\n",
       "      <td>7</td>\n",
       "      <td>3</td>\n",
       "      <td>4</td>\n",
       "      <td>3</td>\n",
       "      <td>4</td>\n",
       "      <td>3</td>\n",
       "      <td>4</td>\n",
       "      <td>1</td>\n",
       "      <td>1</td>\n",
       "      <td>2</td>\n",
       "      <td>0</td>\n",
       "      <td>3</td>\n",
       "      <td>1</td>\n",
       "    </tr>\n",
       "    <tr>\n",
       "      <th>NON OTHERWISE SPECIFIED</th>\n",
       "      <td>0</td>\n",
       "      <td>0</td>\n",
       "      <td>9</td>\n",
       "      <td>7</td>\n",
       "      <td>8</td>\n",
       "      <td>3</td>\n",
       "      <td>5</td>\n",
       "      <td>7</td>\n",
       "      <td>5</td>\n",
       "      <td>4</td>\n",
       "      <td>1</td>\n",
       "      <td>5</td>\n",
       "      <td>4</td>\n",
       "      <td>5</td>\n",
       "    </tr>\n",
       "  </tbody>\n",
       "</table>\n",
       "</div>"
      ],
      "text/plain": [
       "                                  ICSD  DSM  SDQ  Sleep50  ASQ  SDS-CL-25  \\\n",
       "SLEEPINESS SYMPTOMS                  4    4    4        2    2          2   \n",
       "INSOMNIA SYMPTOMS                    5    5    3        3    3          3   \n",
       "RESPIRATORY SYMPTOMS                 4    3    3        3    3          3   \n",
       "PSYCHIATRIC SYMPTOMS                 5    1    4        3    3          1   \n",
       "BEHAVIORAL SYMPTOMS DURING SLEEP     9    8    4        5    4          5   \n",
       "MOTOR SYMPTOMS                       7    3    6        4    3          5   \n",
       "GENERAL SYMPTOMS                     6    3    4        3    3          2   \n",
       "SLEEP PERIOD SYMPTOMS                7    7    3        4    3          4   \n",
       "NON OTHERWISE SPECIFIED              0    0    9        7    8          3   \n",
       "\n",
       "                                  HSDQ  PSQI  ISDI  GSAQ  SDS-CL-17  SSC  \\\n",
       "SLEEPINESS SYMPTOMS                  4     2     4     2          2    2   \n",
       "INSOMNIA SYMPTOMS                    3     3     4     3          3    4   \n",
       "RESPIRATORY SYMPTOMS                 2     3     1     2          3    2   \n",
       "PSYCHIATRIC SYMPTOMS                 2     1     2     1          0    1   \n",
       "BEHAVIORAL SYMPTOMS DURING SLEEP     4     3     2     4          5    0   \n",
       "MOTOR SYMPTOMS                       2     2     3     4          3    3   \n",
       "GENERAL SYMPTOMS                     2     0     2     1          2    2   \n",
       "SLEEP PERIOD SYMPTOMS                3     4     1     1          2    0   \n",
       "NON OTHERWISE SPECIFIED              5     7     5     4          1    5   \n",
       "\n",
       "                                  BNSQ  OSQ   \n",
       "SLEEPINESS SYMPTOMS                  4     2  \n",
       "INSOMNIA SYMPTOMS                    3     4  \n",
       "RESPIRATORY SYMPTOMS                 3     2  \n",
       "PSYCHIATRIC SYMPTOMS                 0     0  \n",
       "BEHAVIORAL SYMPTOMS DURING SLEEP     0     1  \n",
       "MOTOR SYMPTOMS                       0     1  \n",
       "GENERAL SYMPTOMS                     0     1  \n",
       "SLEEP PERIOD SYMPTOMS                3     1  \n",
       "NON OTHERWISE SPECIFIED              4     5  "
      ]
     },
     "metadata": {},
     "output_type": "display_data"
    }
   ],
   "source": [
    "# number of categories/questionnaire\n",
    "if df.shape[0] != df['Category'].isnull().sum() : \n",
    "  cat_per_questionnaire = pd.DataFrame(np.zeros((df.shape[1]-4,len(df.Category.unique()))), index = df.iloc[:,3:-1].columns, columns = df.sort_values(by=\"Ab\").Category.unique())\n",
    "  for category in df.Category.unique():\n",
    "    cat_per_questionnaire.loc[:,category] = (df[df.Category==category].iloc[:,3:-1]>=1).sum(axis = 0)\n",
    "  display(cat_per_questionnaire.T)\n",
    "  cat_per_questionnaire.T.to_excel(\"table2_categorie_per_questionnaire.xlsx\")\n",
    "else : \n",
    "  print('No category in this dataframe !')"
   ]
  },
  {
   "cell_type": "markdown",
   "metadata": {
    "id": "dgGMcg8IvzX6"
   },
   "source": [
    "The table has been save in the online folder (📁 symbol on the left) under the name [table2_categorie_per_questionnaire.xlsx](./table2_categorie_per_questionnaire.xlsx). <br>You can change the name and the format of the file changing the name in the `cat_per_questionnaire.T.to_excel()` function. \n",
    "<br>⚠️ If you need it, save the excel file on your local computer : these online file will be deleted as soon as you quit this page!"
   ]
  },
  {
   "cell_type": "markdown",
   "metadata": {
    "id": "qXcSGINHJ9Mt"
   },
   "source": [
    "## Distribution across the categories of the symptoms measured by each questionnaire\n",
    "(i.e. same thing as before, but normalized by questionnaire (sum across lines equals 1))."
   ]
  },
  {
   "cell_type": "code",
   "execution_count": 47,
   "metadata": {
    "colab": {
     "base_uri": "https://localhost:8080/",
     "height": 542
    },
    "id": "3nwer2_9FXTg",
    "outputId": "58e9ab91-2767-4fc3-be02-a26160d832cc"
   },
   "outputs": [
    {
     "data": {
      "application/vnd.plotly.v1+json": {
       "config": {
        "plotlyServerURL": "https://plotly.com"
       },
       "data": [
        {
         "coloraxis": "coloraxis",
         "hovertemplate": "x: %{x}<br>y: %{y}<br>color: %{z}<extra></extra>",
         "name": "0",
         "texttemplate": "%{z}",
         "type": "heatmap",
         "x": [
          "ICSD",
          "DSM",
          "SDQ",
          "Sleep50",
          "ASQ",
          "SDS-CL-25",
          "HSDQ",
          "PSQI",
          "ISDI",
          "GSAQ",
          "SDS-CL-17",
          "SSC",
          "BNSQ",
          "OSQ "
         ],
         "xaxis": "x",
         "y": [
          "SLEEPINESS SYMPTOMS",
          "INSOMNIA SYMPTOMS",
          "RESPIRATORY SYMPTOMS",
          "PSYCHIATRIC SYMPTOMS",
          "BEHAVIORAL SYMPTOMS DURING SLEEP",
          "MOTOR SYMPTOMS",
          "GENERAL SYMPTOMS",
          "SLEEP PERIOD SYMPTOMS",
          "NON OTHERWISE SPECIFIED"
         ],
         "yaxis": "y",
         "z": [
          [
           8.5,
           11.8,
           10,
           5.9,
           6.2,
           7.1,
           14.8,
           8,
           16.7,
           9.1,
           9.5,
           10.5,
           23.5,
           11.8
          ],
          [
           10.6,
           14.7,
           7.5,
           8.8,
           9.4,
           10.7,
           11.1,
           12,
           16.7,
           13.6,
           14.3,
           21.1,
           17.6,
           23.5
          ],
          [
           8.5,
           8.8,
           7.5,
           8.8,
           9.4,
           10.7,
           7.4,
           12,
           4.2,
           9.1,
           14.3,
           10.5,
           17.6,
           11.8
          ],
          [
           10.6,
           2.9,
           10,
           8.8,
           9.4,
           3.6,
           7.4,
           4,
           8.3,
           4.5,
           0,
           5.3,
           0,
           0
          ],
          [
           19.1,
           23.5,
           10,
           14.7,
           12.5,
           17.9,
           14.8,
           12,
           8.3,
           18.2,
           23.8,
           0,
           0,
           5.9
          ],
          [
           14.9,
           8.8,
           15,
           11.8,
           9.4,
           17.9,
           7.4,
           8,
           12.5,
           18.2,
           14.3,
           15.8,
           0,
           5.9
          ],
          [
           12.8,
           8.8,
           10,
           8.8,
           9.4,
           7.1,
           7.4,
           0,
           8.3,
           4.5,
           9.5,
           10.5,
           0,
           5.9
          ],
          [
           14.9,
           20.6,
           7.5,
           11.8,
           9.4,
           14.3,
           11.1,
           16,
           4.2,
           4.5,
           9.5,
           0,
           17.6,
           5.9
          ],
          [
           0,
           0,
           22.5,
           20.6,
           25,
           10.7,
           18.5,
           28,
           20.8,
           18.2,
           4.8,
           26.3,
           23.5,
           29.4
          ]
         ]
        }
       ],
       "layout": {
        "autosize": false,
        "coloraxis": {
         "colorscale": [
          [
           0,
           "rgb(12,51,131)"
          ],
          [
           0.25,
           "rgb(10,136,186)"
          ],
          [
           0.5,
           "rgb(242,211,56)"
          ],
          [
           0.75,
           "rgb(242,143,56)"
          ],
          [
           1,
           "rgb(217,30,30)"
          ]
         ]
        },
        "height": 400,
        "margin": {
         "t": 60
        },
        "template": {
         "data": {
          "bar": [
           {
            "error_x": {
             "color": "#2a3f5f"
            },
            "error_y": {
             "color": "#2a3f5f"
            },
            "marker": {
             "line": {
              "color": "#E5ECF6",
              "width": 0.5
             },
             "pattern": {
              "fillmode": "overlay",
              "size": 10,
              "solidity": 0.2
             }
            },
            "type": "bar"
           }
          ],
          "barpolar": [
           {
            "marker": {
             "line": {
              "color": "#E5ECF6",
              "width": 0.5
             },
             "pattern": {
              "fillmode": "overlay",
              "size": 10,
              "solidity": 0.2
             }
            },
            "type": "barpolar"
           }
          ],
          "carpet": [
           {
            "aaxis": {
             "endlinecolor": "#2a3f5f",
             "gridcolor": "white",
             "linecolor": "white",
             "minorgridcolor": "white",
             "startlinecolor": "#2a3f5f"
            },
            "baxis": {
             "endlinecolor": "#2a3f5f",
             "gridcolor": "white",
             "linecolor": "white",
             "minorgridcolor": "white",
             "startlinecolor": "#2a3f5f"
            },
            "type": "carpet"
           }
          ],
          "choropleth": [
           {
            "colorbar": {
             "outlinewidth": 0,
             "ticks": ""
            },
            "type": "choropleth"
           }
          ],
          "contour": [
           {
            "colorbar": {
             "outlinewidth": 0,
             "ticks": ""
            },
            "colorscale": [
             [
              0,
              "#0d0887"
             ],
             [
              0.1111111111111111,
              "#46039f"
             ],
             [
              0.2222222222222222,
              "#7201a8"
             ],
             [
              0.3333333333333333,
              "#9c179e"
             ],
             [
              0.4444444444444444,
              "#bd3786"
             ],
             [
              0.5555555555555556,
              "#d8576b"
             ],
             [
              0.6666666666666666,
              "#ed7953"
             ],
             [
              0.7777777777777778,
              "#fb9f3a"
             ],
             [
              0.8888888888888888,
              "#fdca26"
             ],
             [
              1,
              "#f0f921"
             ]
            ],
            "type": "contour"
           }
          ],
          "contourcarpet": [
           {
            "colorbar": {
             "outlinewidth": 0,
             "ticks": ""
            },
            "type": "contourcarpet"
           }
          ],
          "heatmap": [
           {
            "colorbar": {
             "outlinewidth": 0,
             "ticks": ""
            },
            "colorscale": [
             [
              0,
              "#0d0887"
             ],
             [
              0.1111111111111111,
              "#46039f"
             ],
             [
              0.2222222222222222,
              "#7201a8"
             ],
             [
              0.3333333333333333,
              "#9c179e"
             ],
             [
              0.4444444444444444,
              "#bd3786"
             ],
             [
              0.5555555555555556,
              "#d8576b"
             ],
             [
              0.6666666666666666,
              "#ed7953"
             ],
             [
              0.7777777777777778,
              "#fb9f3a"
             ],
             [
              0.8888888888888888,
              "#fdca26"
             ],
             [
              1,
              "#f0f921"
             ]
            ],
            "type": "heatmap"
           }
          ],
          "heatmapgl": [
           {
            "colorbar": {
             "outlinewidth": 0,
             "ticks": ""
            },
            "colorscale": [
             [
              0,
              "#0d0887"
             ],
             [
              0.1111111111111111,
              "#46039f"
             ],
             [
              0.2222222222222222,
              "#7201a8"
             ],
             [
              0.3333333333333333,
              "#9c179e"
             ],
             [
              0.4444444444444444,
              "#bd3786"
             ],
             [
              0.5555555555555556,
              "#d8576b"
             ],
             [
              0.6666666666666666,
              "#ed7953"
             ],
             [
              0.7777777777777778,
              "#fb9f3a"
             ],
             [
              0.8888888888888888,
              "#fdca26"
             ],
             [
              1,
              "#f0f921"
             ]
            ],
            "type": "heatmapgl"
           }
          ],
          "histogram": [
           {
            "marker": {
             "pattern": {
              "fillmode": "overlay",
              "size": 10,
              "solidity": 0.2
             }
            },
            "type": "histogram"
           }
          ],
          "histogram2d": [
           {
            "colorbar": {
             "outlinewidth": 0,
             "ticks": ""
            },
            "colorscale": [
             [
              0,
              "#0d0887"
             ],
             [
              0.1111111111111111,
              "#46039f"
             ],
             [
              0.2222222222222222,
              "#7201a8"
             ],
             [
              0.3333333333333333,
              "#9c179e"
             ],
             [
              0.4444444444444444,
              "#bd3786"
             ],
             [
              0.5555555555555556,
              "#d8576b"
             ],
             [
              0.6666666666666666,
              "#ed7953"
             ],
             [
              0.7777777777777778,
              "#fb9f3a"
             ],
             [
              0.8888888888888888,
              "#fdca26"
             ],
             [
              1,
              "#f0f921"
             ]
            ],
            "type": "histogram2d"
           }
          ],
          "histogram2dcontour": [
           {
            "colorbar": {
             "outlinewidth": 0,
             "ticks": ""
            },
            "colorscale": [
             [
              0,
              "#0d0887"
             ],
             [
              0.1111111111111111,
              "#46039f"
             ],
             [
              0.2222222222222222,
              "#7201a8"
             ],
             [
              0.3333333333333333,
              "#9c179e"
             ],
             [
              0.4444444444444444,
              "#bd3786"
             ],
             [
              0.5555555555555556,
              "#d8576b"
             ],
             [
              0.6666666666666666,
              "#ed7953"
             ],
             [
              0.7777777777777778,
              "#fb9f3a"
             ],
             [
              0.8888888888888888,
              "#fdca26"
             ],
             [
              1,
              "#f0f921"
             ]
            ],
            "type": "histogram2dcontour"
           }
          ],
          "mesh3d": [
           {
            "colorbar": {
             "outlinewidth": 0,
             "ticks": ""
            },
            "type": "mesh3d"
           }
          ],
          "parcoords": [
           {
            "line": {
             "colorbar": {
              "outlinewidth": 0,
              "ticks": ""
             }
            },
            "type": "parcoords"
           }
          ],
          "pie": [
           {
            "automargin": true,
            "type": "pie"
           }
          ],
          "scatter": [
           {
            "marker": {
             "colorbar": {
              "outlinewidth": 0,
              "ticks": ""
             }
            },
            "type": "scatter"
           }
          ],
          "scatter3d": [
           {
            "line": {
             "colorbar": {
              "outlinewidth": 0,
              "ticks": ""
             }
            },
            "marker": {
             "colorbar": {
              "outlinewidth": 0,
              "ticks": ""
             }
            },
            "type": "scatter3d"
           }
          ],
          "scattercarpet": [
           {
            "marker": {
             "colorbar": {
              "outlinewidth": 0,
              "ticks": ""
             }
            },
            "type": "scattercarpet"
           }
          ],
          "scattergeo": [
           {
            "marker": {
             "colorbar": {
              "outlinewidth": 0,
              "ticks": ""
             }
            },
            "type": "scattergeo"
           }
          ],
          "scattergl": [
           {
            "marker": {
             "colorbar": {
              "outlinewidth": 0,
              "ticks": ""
             }
            },
            "type": "scattergl"
           }
          ],
          "scattermapbox": [
           {
            "marker": {
             "colorbar": {
              "outlinewidth": 0,
              "ticks": ""
             }
            },
            "type": "scattermapbox"
           }
          ],
          "scatterpolar": [
           {
            "marker": {
             "colorbar": {
              "outlinewidth": 0,
              "ticks": ""
             }
            },
            "type": "scatterpolar"
           }
          ],
          "scatterpolargl": [
           {
            "marker": {
             "colorbar": {
              "outlinewidth": 0,
              "ticks": ""
             }
            },
            "type": "scatterpolargl"
           }
          ],
          "scatterternary": [
           {
            "marker": {
             "colorbar": {
              "outlinewidth": 0,
              "ticks": ""
             }
            },
            "type": "scatterternary"
           }
          ],
          "surface": [
           {
            "colorbar": {
             "outlinewidth": 0,
             "ticks": ""
            },
            "colorscale": [
             [
              0,
              "#0d0887"
             ],
             [
              0.1111111111111111,
              "#46039f"
             ],
             [
              0.2222222222222222,
              "#7201a8"
             ],
             [
              0.3333333333333333,
              "#9c179e"
             ],
             [
              0.4444444444444444,
              "#bd3786"
             ],
             [
              0.5555555555555556,
              "#d8576b"
             ],
             [
              0.6666666666666666,
              "#ed7953"
             ],
             [
              0.7777777777777778,
              "#fb9f3a"
             ],
             [
              0.8888888888888888,
              "#fdca26"
             ],
             [
              1,
              "#f0f921"
             ]
            ],
            "type": "surface"
           }
          ],
          "table": [
           {
            "cells": {
             "fill": {
              "color": "#EBF0F8"
             },
             "line": {
              "color": "white"
             }
            },
            "header": {
             "fill": {
              "color": "#C8D4E3"
             },
             "line": {
              "color": "white"
             }
            },
            "type": "table"
           }
          ]
         },
         "layout": {
          "annotationdefaults": {
           "arrowcolor": "#2a3f5f",
           "arrowhead": 0,
           "arrowwidth": 1
          },
          "autotypenumbers": "strict",
          "coloraxis": {
           "colorbar": {
            "outlinewidth": 0,
            "ticks": ""
           }
          },
          "colorscale": {
           "diverging": [
            [
             0,
             "#8e0152"
            ],
            [
             0.1,
             "#c51b7d"
            ],
            [
             0.2,
             "#de77ae"
            ],
            [
             0.3,
             "#f1b6da"
            ],
            [
             0.4,
             "#fde0ef"
            ],
            [
             0.5,
             "#f7f7f7"
            ],
            [
             0.6,
             "#e6f5d0"
            ],
            [
             0.7,
             "#b8e186"
            ],
            [
             0.8,
             "#7fbc41"
            ],
            [
             0.9,
             "#4d9221"
            ],
            [
             1,
             "#276419"
            ]
           ],
           "sequential": [
            [
             0,
             "#0d0887"
            ],
            [
             0.1111111111111111,
             "#46039f"
            ],
            [
             0.2222222222222222,
             "#7201a8"
            ],
            [
             0.3333333333333333,
             "#9c179e"
            ],
            [
             0.4444444444444444,
             "#bd3786"
            ],
            [
             0.5555555555555556,
             "#d8576b"
            ],
            [
             0.6666666666666666,
             "#ed7953"
            ],
            [
             0.7777777777777778,
             "#fb9f3a"
            ],
            [
             0.8888888888888888,
             "#fdca26"
            ],
            [
             1,
             "#f0f921"
            ]
           ],
           "sequentialminus": [
            [
             0,
             "#0d0887"
            ],
            [
             0.1111111111111111,
             "#46039f"
            ],
            [
             0.2222222222222222,
             "#7201a8"
            ],
            [
             0.3333333333333333,
             "#9c179e"
            ],
            [
             0.4444444444444444,
             "#bd3786"
            ],
            [
             0.5555555555555556,
             "#d8576b"
            ],
            [
             0.6666666666666666,
             "#ed7953"
            ],
            [
             0.7777777777777778,
             "#fb9f3a"
            ],
            [
             0.8888888888888888,
             "#fdca26"
            ],
            [
             1,
             "#f0f921"
            ]
           ]
          },
          "colorway": [
           "#636efa",
           "#EF553B",
           "#00cc96",
           "#ab63fa",
           "#FFA15A",
           "#19d3f3",
           "#FF6692",
           "#B6E880",
           "#FF97FF",
           "#FECB52"
          ],
          "font": {
           "color": "#2a3f5f"
          },
          "geo": {
           "bgcolor": "white",
           "lakecolor": "white",
           "landcolor": "#E5ECF6",
           "showlakes": true,
           "showland": true,
           "subunitcolor": "white"
          },
          "hoverlabel": {
           "align": "left"
          },
          "hovermode": "closest",
          "mapbox": {
           "style": "light"
          },
          "paper_bgcolor": "white",
          "plot_bgcolor": "#E5ECF6",
          "polar": {
           "angularaxis": {
            "gridcolor": "white",
            "linecolor": "white",
            "ticks": ""
           },
           "bgcolor": "#E5ECF6",
           "radialaxis": {
            "gridcolor": "white",
            "linecolor": "white",
            "ticks": ""
           }
          },
          "scene": {
           "xaxis": {
            "backgroundcolor": "#E5ECF6",
            "gridcolor": "white",
            "gridwidth": 2,
            "linecolor": "white",
            "showbackground": true,
            "ticks": "",
            "zerolinecolor": "white"
           },
           "yaxis": {
            "backgroundcolor": "#E5ECF6",
            "gridcolor": "white",
            "gridwidth": 2,
            "linecolor": "white",
            "showbackground": true,
            "ticks": "",
            "zerolinecolor": "white"
           },
           "zaxis": {
            "backgroundcolor": "#E5ECF6",
            "gridcolor": "white",
            "gridwidth": 2,
            "linecolor": "white",
            "showbackground": true,
            "ticks": "",
            "zerolinecolor": "white"
           }
          },
          "shapedefaults": {
           "line": {
            "color": "#2a3f5f"
           }
          },
          "ternary": {
           "aaxis": {
            "gridcolor": "white",
            "linecolor": "white",
            "ticks": ""
           },
           "baxis": {
            "gridcolor": "white",
            "linecolor": "white",
            "ticks": ""
           },
           "bgcolor": "#E5ECF6",
           "caxis": {
            "gridcolor": "white",
            "linecolor": "white",
            "ticks": ""
           }
          },
          "title": {
           "x": 0.05
          },
          "xaxis": {
           "automargin": true,
           "gridcolor": "white",
           "linecolor": "white",
           "ticks": "",
           "title": {
            "standoff": 15
           },
           "zerolinecolor": "white",
           "zerolinewidth": 2
          },
          "yaxis": {
           "automargin": true,
           "gridcolor": "white",
           "linecolor": "white",
           "ticks": "",
           "title": {
            "standoff": 15
           },
           "zerolinecolor": "white",
           "zerolinewidth": 2
          }
         }
        },
        "width": 800,
        "xaxis": {
         "anchor": "y",
         "constrain": "domain",
         "domain": [
          0,
          1
         ],
         "scaleanchor": "y",
         "side": "top"
        },
        "yaxis": {
         "anchor": "x",
         "autorange": "reversed",
         "constrain": "domain",
         "domain": [
          0,
          1
         ]
        }
       }
      }
     },
     "metadata": {},
     "output_type": "display_data"
    }
   ],
   "source": [
    "if df.shape[0] != df['Category'].isnull().sum() : \n",
    "  fig = px.imshow(pd.DataFrame(np.round(normalize(cat_per_questionnaire,norm='l1').T*100,1), # for printing text, we round the percentages to 1 decimal\n",
    "                              columns = cat_per_questionnaire.index,\n",
    "                              index= cat_per_questionnaire.columns),\n",
    "                  text_auto=True, # add the text\n",
    "                  color_continuous_scale= 'Portland'# more color palettes available here : https://plotly.com/python/builtin-colorscales/\n",
    "  )\n",
    "  fig.update_xaxes(side=\"top\") # xaxis on top of the figure\n",
    "  fig.update_layout(\n",
    "    autosize=False,\n",
    "    width=800,\n",
    "    height=400\n",
    "    )\n",
    "  fig.write_image(\"figure3_heatmap.pdf\") # writing the figure in a file\n",
    "  fig.show() # showing the figure\n",
    "else : \n",
    "  print('No category in this dataframe !')"
   ]
  },
  {
   "attachments": {},
   "cell_type": "markdown",
   "metadata": {
    "id": "dgGMcg8IvzX6"
   },
   "source": [
    "Figure 3 has been save in the online folder (📁 symbol on the left) under the name [figure3_heatmap.pdf](figure3_heatmap.pdf). You can change the name and the format of the file changing the name in the `fig.write_image()` function. \n",
    "<br>⚠️ If you need it, save the figure on your local computer : these online file will be deleted as soon as you quit this page!"
   ]
  },
  {
   "attachments": {},
   "cell_type": "markdown",
   "metadata": {
    "id": "M9ddyXYaTthc"
   },
   "source": [
    "---\n",
    "# 2. Analysis and data vizualisation of content analysis Figure"
   ]
  },
  {
   "cell_type": "markdown",
   "metadata": {
    "id": "lLJwmyUyYQa0"
   },
   "source": [
    "## Changing shape of data"
   ]
  },
  {
   "cell_type": "code",
   "execution_count": 48,
   "metadata": {
    "colab": {
     "base_uri": "https://localhost:8080/",
     "height": 206
    },
    "id": "KqkwIGepYQKw",
    "outputId": "bb6ff268-639e-4a5f-9e19-f4395e925490"
   },
   "outputs": [
    {
     "data": {
      "text/html": [
       "<div>\n",
       "<style scoped>\n",
       "    .dataframe tbody tr th:only-of-type {\n",
       "        vertical-align: middle;\n",
       "    }\n",
       "\n",
       "    .dataframe tbody tr th {\n",
       "        vertical-align: top;\n",
       "    }\n",
       "\n",
       "    .dataframe thead th {\n",
       "        text-align: right;\n",
       "    }\n",
       "</style>\n",
       "<table border=\"1\" class=\"dataframe\">\n",
       "  <thead>\n",
       "    <tr style=\"text-align: right;\">\n",
       "      <th></th>\n",
       "      <th>Category</th>\n",
       "      <th>Ab</th>\n",
       "      <th>Symptom</th>\n",
       "      <th>variable</th>\n",
       "      <th>value</th>\n",
       "    </tr>\n",
       "  </thead>\n",
       "  <tbody>\n",
       "    <tr>\n",
       "      <th>0</th>\n",
       "      <td>SLEEPINESS SYMPTOMS</td>\n",
       "      <td>S01</td>\n",
       "      <td>Daytime sleepiness</td>\n",
       "      <td>ICSD</td>\n",
       "      <td>1</td>\n",
       "    </tr>\n",
       "    <tr>\n",
       "      <th>1</th>\n",
       "      <td>INSOMNIA SYMPTOMS</td>\n",
       "      <td>S06</td>\n",
       "      <td>Insomnia initiating</td>\n",
       "      <td>ICSD</td>\n",
       "      <td>1</td>\n",
       "    </tr>\n",
       "    <tr>\n",
       "      <th>2</th>\n",
       "      <td>INSOMNIA SYMPTOMS</td>\n",
       "      <td>S07</td>\n",
       "      <td>Insomnia maintaining</td>\n",
       "      <td>ICSD</td>\n",
       "      <td>1</td>\n",
       "    </tr>\n",
       "    <tr>\n",
       "      <th>3</th>\n",
       "      <td>RESPIRATORY SYMPTOMS</td>\n",
       "      <td>S10</td>\n",
       "      <td>Breath abnormalities complaint</td>\n",
       "      <td>ICSD</td>\n",
       "      <td>1</td>\n",
       "    </tr>\n",
       "    <tr>\n",
       "      <th>4</th>\n",
       "      <td>RESPIRATORY SYMPTOMS</td>\n",
       "      <td>S12</td>\n",
       "      <td>Snoring</td>\n",
       "      <td>ICSD</td>\n",
       "      <td>1</td>\n",
       "    </tr>\n",
       "  </tbody>\n",
       "</table>\n",
       "</div>"
      ],
      "text/plain": [
       "               Category   Ab                         Symptom variable  value\n",
       "0   SLEEPINESS SYMPTOMS  S01              Daytime sleepiness     ICSD      1\n",
       "1     INSOMNIA SYMPTOMS  S06             Insomnia initiating     ICSD      1\n",
       "2     INSOMNIA SYMPTOMS  S07            Insomnia maintaining     ICSD      1\n",
       "3  RESPIRATORY SYMPTOMS  S10  Breath abnormalities complaint     ICSD      1\n",
       "4  RESPIRATORY SYMPTOMS  S12                         Snoring     ICSD      1"
      ]
     },
     "execution_count": 48,
     "metadata": {},
     "output_type": "execute_result"
    }
   ],
   "source": [
    "# changing the shape of data\n",
    "df_col = df.melt(id_vars=['Category','Ab', 'Symptom'], value_vars=col).copy()\n",
    "df_col.head()"
   ]
  },
  {
   "cell_type": "markdown",
   "metadata": {
    "id": "yePX1cREmJzO"
   },
   "source": [
    "## Figure"
   ]
  },
  {
   "cell_type": "markdown",
   "metadata": {},
   "source": [
    "If you want to analyse custom data, you will have to set the variable `max_radius` so that the figure have the desired look !"
   ]
  },
  {
   "cell_type": "code",
   "execution_count": 49,
   "metadata": {
    "id": "dBCCGl1emIyg"
   },
   "outputs": [
    {
     "data": {
      "application/vnd.plotly.v1+json": {
       "config": {
        "plotlyServerURL": "https://plotly.com"
       },
       "data": [
        {
         "mode": "markers",
         "opacity": 0,
         "r": [
          0,
          0,
          0,
          0,
          0,
          0,
          0,
          0,
          0,
          0,
          0,
          0,
          0,
          0,
          0,
          0,
          0,
          0,
          0,
          0,
          0,
          0,
          0,
          0,
          0,
          0,
          0,
          0,
          0,
          0,
          0,
          0,
          0,
          0,
          0,
          0,
          0,
          0,
          0,
          0,
          0,
          0,
          0,
          0,
          0,
          0,
          0,
          0,
          0,
          0,
          0,
          0,
          0,
          0,
          0,
          0,
          0,
          0,
          0,
          0
         ],
         "showlegend": false,
         "theta": [
          "S01",
          "S06",
          "S07",
          "S10",
          "S12",
          "S29",
          "S48",
          "S49",
          "S05",
          "S22",
          "S02",
          "S33",
          "S39",
          "S14",
          "S41",
          "S03",
          "S11",
          "S19",
          "S20",
          "S47",
          "S53",
          "S54",
          "S42",
          "S52",
          "S09",
          "S15",
          "S44",
          "S56",
          "S04",
          "S21",
          "S27",
          "S28",
          "S32",
          "S36",
          "S37",
          "S38",
          "S59",
          "S16",
          "S31",
          "S34",
          "S58",
          "S17",
          "S23",
          "S24",
          "S30",
          "S46",
          "S50",
          "S51",
          "S55",
          "S57",
          "S25",
          "S40",
          "S43",
          "S60",
          "S08",
          "S13",
          "S18",
          "S26",
          "S35",
          "S45"
         ],
         "type": "scatterpolar"
        },
        {
         "hoverinfo": "text",
         "hovertext": [
          "Scale: ICSD<br>Sympt.:Daytime sleepiness<br>Specific<br>Category: SLEEPINESS SYMPTOMS",
          "Scale: ICSD<br>Sympt.:Insomnia initiating<br>Specific<br>Category: INSOMNIA SYMPTOMS",
          "Scale: ICSD<br>Sympt.:Insomnia maintaining<br>Specific<br>Category: INSOMNIA SYMPTOMS",
          "Scale: ICSD<br>Sympt.:Breath abnormalities complaint<br>Specific<br>Category: RESPIRATORY SYMPTOMS",
          "Scale: ICSD<br>Sympt.:Snoring<br>Specific<br>Category: RESPIRATORY SYMPTOMS",
          "Scale: ICSD<br>Sympt.:Legs movement<br>Specific<br>Category: MOTOR SYMPTOMS",
          "Scale: ICSD<br>Sympt.:Insomnia early<br>Specific<br>Category: INSOMNIA SYMPTOMS",
          "Scale: ICSD<br>Sympt.:Altered oneiric activity<br>Specific<br>Category: BEHAVIORAL SYMPTOMS DURING SLEEP",
          "Scale: ICSD<br>Sympt.:Lapses into sleep<br>Specific<br>Category: SLEEPINESS SYMPTOMS",
          "Scale: ICSD<br>Sympt.:Leg sensory discomfort<br>Specific<br>Category: MOTOR SYMPTOMS",
          "Scale: ICSD<br>Sympt.:Fatigue<br>Specific<br>Category: GENERAL SYMPTOMS",
          "Scale: ICSD<br>Sympt.:Affective symptoms<br>Specific<br>Category: PSYCHIATRIC SYMPTOMS",
          "Scale: ICSD<br>Sympt.:Short sleep time<br>Specific<br>Category: SLEEP PERIOD SYMPTOMS",
          "Scale: ICSD<br>Sympt.:Long sleep time<br>Specific<br>Category: SLEEPINESS SYMPTOMS",
          "Scale: ICSD<br>Sympt.:Breath abnormalities observation<br>Specific<br>Category: RESPIRATORY SYMPTOMS",
          "Scale: ICSD<br>Sympt.:Behavioral symptoms during sleep<br>Specific<br>Category: BEHAVIORAL SYMPTOMS DURING SLEEP",
          "Scale: ICSD<br>Sympt.:Ambulation<br>Specific<br>Category: BEHAVIORAL SYMPTOMS DURING SLEEP",
          "Scale: ICSD<br>Sympt.:Disturbed sleep period<br>Specific<br>Category: SLEEP PERIOD SYMPTOMS",
          "Scale: ICSD<br>Sympt.:Delay in the sleep period<br>Specific<br>Category: SLEEP PERIOD SYMPTOMS",
          "Scale: ICSD<br>Sympt.:Non restorative sleep<br>Specific<br>Category: INSOMNIA SYMPTOMS",
          "Scale: ICSD<br>Sympt.:Cognitive symptoms<br>Specific<br>Category: PSYCHIATRIC SYMPTOMS",
          "Scale: ICSD<br>Sympt.:Advance in the sleep period<br>Specific<br>Category: SLEEP PERIOD SYMPTOMS",
          "Scale: ICSD<br>Sympt.:Sleep inertia<br>Specific<br>Category: SLEEPINESS SYMPTOMS",
          "Scale: ICSD<br>Sympt.:Amnesia<br>Specific<br>Category: BEHAVIORAL SYMPTOMS DURING SLEEP",
          "Scale: ICSD<br>Sympt.:Vocalization<br>Specific<br>Category: BEHAVIORAL SYMPTOMS DURING SLEEP",
          "Scale: ICSD<br>Sympt.:Myoclonic jerks<br>Specific<br>Category: MOTOR SYMPTOMS",
          "Scale: ICSD<br>Sympt.:Cataplexy<br>Specific<br>Category: MOTOR SYMPTOMS",
          "Scale: ICSD<br>Sympt.:Fright behavior<br>Specific<br>Category: GENERAL SYMPTOMS",
          "Scale: ICSD<br>Sympt.:Autonomic symptoms<br>Specific<br>Category: GENERAL SYMPTOMS",
          "Scale: ICSD<br>Sympt.:Headache<br>Specific<br>Category: GENERAL SYMPTOMS",
          "Scale: ICSD<br>Sympt.:Hallucination<br>Specific<br>Category: PSYCHIATRIC SYMPTOMS",
          "Scale: ICSD<br>Sympt.:Motor paralysis<br>Specific<br>Category: MOTOR SYMPTOMS",
          "Scale: ICSD<br>Sympt.:Tooth grinding<br>Specific<br>Category: MOTOR SYMPTOMS",
          "Scale: ICSD<br>Sympt.:Behavioral symptoms during wake<br>Specific<br>Category: PSYCHIATRIC SYMPTOMS",
          "Scale: ICSD<br>Sympt.:Eating symptoms<br>Specific<br>Category: BEHAVIORAL SYMPTOMS DURING SLEEP",
          "Scale: ICSD<br>Sympt.:Abnormal responsiveness<br>Specific<br>Category: BEHAVIORAL SYMPTOMS DURING SLEEP",
          "Scale: ICSD<br>Sympt.:Rhythmic movement<br>Specific<br>Category: MOTOR SYMPTOMS",
          "Scale: ICSD<br>Sympt.:Incomplete awakening<br>Specific<br>Category: SLEEP PERIOD SYMPTOMS",
          "Scale: ICSD<br>Sympt.:Normal responsiveness<br>Specific<br>Category: BEHAVIORAL SYMPTOMS DURING SLEEP",
          "Scale: ICSD<br>Sympt.:Somatic symptoms<br>Specific<br>Category: GENERAL SYMPTOMS",
          "Scale: ICSD<br>Sympt.:Absent of major sleep period<br>Specific<br>Category: SLEEP PERIOD SYMPTOMS",
          "Scale: ICSD<br>Sympt.:Sleep resistance<br>Specific<br>Category: INSOMNIA SYMPTOMS",
          "Scale: ICSD<br>Sympt.:Cyanosis<br>Specific<br>Category: RESPIRATORY SYMPTOMS",
          "Scale: ICSD<br>Sympt.:Altered perception<br>Specific<br>Category: PSYCHIATRIC SYMPTOMS",
          "Scale: ICSD<br>Sympt.:Unvoluntary voiding<br>Specific<br>Category: BEHAVIORAL SYMPTOMS DURING SLEEP",
          "Scale: ICSD<br>Sympt.:Malaise<br>Specific<br>Category: GENERAL SYMPTOMS",
          "Scale: ICSD<br>Sympt.:Circadian period > 24h<br>Specific<br>Category: SLEEP PERIOD SYMPTOMS"
         ],
         "marker": {
          "color": "rgb(102, 197, 204)",
          "line": {
           "width": 0
          },
          "symbol": "circle"
         },
         "mode": "markers",
         "name": "ICSD",
         "opacity": 1,
         "r": [
          20,
          20,
          20,
          20,
          20,
          20,
          20,
          20,
          20,
          20,
          20,
          20,
          20,
          20,
          20,
          20,
          20,
          20,
          20,
          20,
          20,
          20,
          20,
          20,
          20,
          20,
          20,
          20,
          20,
          20,
          20,
          20,
          20,
          20,
          20,
          20,
          20,
          20,
          20,
          20,
          20,
          20,
          20,
          20,
          20,
          20,
          20
         ],
         "theta": [
          "S01",
          "S06",
          "S07",
          "S10",
          "S12",
          "S29",
          "S05",
          "S22",
          "S02",
          "S33",
          "S39",
          "S14",
          "S41",
          "S03",
          "S11",
          "S19",
          "S20",
          "S47",
          "S42",
          "S09",
          "S15",
          "S44",
          "S04",
          "S21",
          "S27",
          "S28",
          "S32",
          "S36",
          "S37",
          "S38",
          "S16",
          "S31",
          "S34",
          "S17",
          "S23",
          "S24",
          "S30",
          "S46",
          "S25",
          "S40",
          "S43",
          "S08",
          "S13",
          "S18",
          "S26",
          "S35",
          "S45"
         ],
         "type": "scatterpolar"
        },
        {
         "hoverinfo": "text",
         "hovertext": [
          "Scale: DSM<br>Sympt.:Daytime sleepiness<br>Specific<br>Category: SLEEPINESS SYMPTOMS",
          "Scale: DSM<br>Sympt.:Insomnia initiating<br>Specific<br>Category: INSOMNIA SYMPTOMS",
          "Scale: DSM<br>Sympt.:Insomnia maintaining<br>Specific<br>Category: INSOMNIA SYMPTOMS",
          "Scale: DSM<br>Sympt.:Breath abnormalities complaint<br>Specific<br>Category: RESPIRATORY SYMPTOMS",
          "Scale: DSM<br>Sympt.:Snoring<br>Specific<br>Category: RESPIRATORY SYMPTOMS",
          "Scale: DSM<br>Sympt.:Legs movement<br>Specific<br>Category: MOTOR SYMPTOMS",
          "Scale: DSM<br>Sympt.:Insomnia early<br>Specific<br>Category: INSOMNIA SYMPTOMS",
          "Scale: DSM<br>Sympt.:Altered oneiric activity<br>Specific<br>Category: BEHAVIORAL SYMPTOMS DURING SLEEP",
          "Scale: DSM<br>Sympt.:Lapses into sleep<br>Specific<br>Category: SLEEPINESS SYMPTOMS",
          "Scale: DSM<br>Sympt.:Leg sensory discomfort<br>Specific<br>Category: MOTOR SYMPTOMS",
          "Scale: DSM<br>Sympt.:Fatigue<br>Specific<br>Category: GENERAL SYMPTOMS",
          "Scale: DSM<br>Sympt.:Affective symptoms<br>Specific<br>Category: PSYCHIATRIC SYMPTOMS",
          "Scale: DSM<br>Sympt.:Short sleep time<br>Specific<br>Category: SLEEP PERIOD SYMPTOMS",
          "Scale: DSM<br>Sympt.:Long sleep time<br>Specific<br>Category: SLEEPINESS SYMPTOMS",
          "Scale: DSM<br>Sympt.:Breath abnormalities observation<br>Specific<br>Category: RESPIRATORY SYMPTOMS",
          "Scale: DSM<br>Sympt.:Behavioral symptoms during sleep<br>Specific<br>Category: BEHAVIORAL SYMPTOMS DURING SLEEP",
          "Scale: DSM<br>Sympt.:Ambulation<br>Specific<br>Category: BEHAVIORAL SYMPTOMS DURING SLEEP",
          "Scale: DSM<br>Sympt.:Disturbed sleep period<br>Specific<br>Category: SLEEP PERIOD SYMPTOMS",
          "Scale: DSM<br>Sympt.:Delay in the sleep period<br>Specific<br>Category: SLEEP PERIOD SYMPTOMS",
          "Scale: DSM<br>Sympt.:Non restorative sleep<br>Specific<br>Category: INSOMNIA SYMPTOMS",
          "Scale: DSM<br>Sympt.:Advance in the sleep period<br>Specific<br>Category: SLEEP PERIOD SYMPTOMS",
          "Scale: DSM<br>Sympt.:Sleep inertia<br>Specific<br>Category: SLEEPINESS SYMPTOMS",
          "Scale: DSM<br>Sympt.:Amnesia<br>Specific<br>Category: BEHAVIORAL SYMPTOMS DURING SLEEP",
          "Scale: DSM<br>Sympt.:Vocalization<br>Specific<br>Category: BEHAVIORAL SYMPTOMS DURING SLEEP",
          "Scale: DSM<br>Sympt.:Cataplexy<br>Specific<br>Category: MOTOR SYMPTOMS",
          "Scale: DSM<br>Sympt.:Fright behavior<br>Specific<br>Category: GENERAL SYMPTOMS",
          "Scale: DSM<br>Sympt.:Autonomic symptoms<br>Specific<br>Category: GENERAL SYMPTOMS",
          "Scale: DSM<br>Sympt.:Eating symptoms<br>Specific<br>Category: BEHAVIORAL SYMPTOMS DURING SLEEP",
          "Scale: DSM<br>Sympt.:Abnormal responsiveness<br>Specific<br>Category: BEHAVIORAL SYMPTOMS DURING SLEEP",
          "Scale: DSM<br>Sympt.:Incomplete awakening<br>Specific<br>Category: SLEEP PERIOD SYMPTOMS",
          "Scale: DSM<br>Sympt.:Normal responsiveness<br>Specific<br>Category: BEHAVIORAL SYMPTOMS DURING SLEEP",
          "Scale: DSM<br>Sympt.:Absent of major sleep period<br>Specific<br>Category: SLEEP PERIOD SYMPTOMS",
          "Scale: DSM<br>Sympt.:Sleep resistance<br>Specific<br>Category: INSOMNIA SYMPTOMS",
          "Scale: DSM<br>Sympt.:Circadian period > 24h<br>Specific<br>Category: SLEEP PERIOD SYMPTOMS"
         ],
         "marker": {
          "color": "rgb(246, 207, 113)",
          "line": {
           "width": 0
          },
          "symbol": "circle"
         },
         "mode": "markers",
         "name": "DSM",
         "opacity": 1,
         "r": [
          19,
          19,
          19,
          19,
          19,
          19,
          19,
          19,
          19,
          19,
          19,
          19,
          19,
          19,
          19,
          19,
          19,
          19,
          19,
          19,
          19,
          19,
          19,
          19,
          19,
          19,
          19,
          19,
          19,
          19,
          19,
          19,
          19,
          19
         ],
         "theta": [
          "S01",
          "S06",
          "S07",
          "S10",
          "S12",
          "S29",
          "S05",
          "S22",
          "S02",
          "S33",
          "S39",
          "S14",
          "S41",
          "S03",
          "S11",
          "S19",
          "S20",
          "S47",
          "S42",
          "S09",
          "S44",
          "S04",
          "S21",
          "S27",
          "S32",
          "S36",
          "S37",
          "S23",
          "S24",
          "S46",
          "S25",
          "S43",
          "S08",
          "S45"
         ],
         "type": "scatterpolar"
        },
        {
         "hoverinfo": "text",
         "hovertext": [
          "Scale: SDQ<br>Sympt.:Daytime sleepiness<br>Specific<br>Category: SLEEPINESS SYMPTOMS",
          "Scale: SDQ<br>Sympt.:Insomnia initiating<br>Specific<br>Category: INSOMNIA SYMPTOMS",
          "Scale: SDQ<br>Sympt.:Insomnia maintaining<br>Specific<br>Category: INSOMNIA SYMPTOMS",
          "Scale: SDQ<br>Sympt.:Breath abnormalities complaint<br>Specific<br>Category: RESPIRATORY SYMPTOMS",
          "Scale: SDQ<br>Sympt.:Snoring<br>Specific<br>Category: RESPIRATORY SYMPTOMS",
          "Scale: SDQ<br>Sympt.:Functional repercussions<br>Specific<br>Category: NON OTHERWISE SPECIFIED",
          "Scale: SDQ<br>Sympt.:Sleep satisfaction<br>Specific<br>Category: NON OTHERWISE SPECIFIED",
          "Scale: SDQ<br>Sympt.:Insomnia early<br>Specific<br>Category: INSOMNIA SYMPTOMS",
          "Scale: SDQ<br>Sympt.:Altered oneiric activity<br>Specific<br>Category: BEHAVIORAL SYMPTOMS DURING SLEEP",
          "Scale: SDQ<br>Sympt.:Leg sensory discomfort<br>Specific<br>Category: MOTOR SYMPTOMS",
          "Scale: SDQ<br>Sympt.:Fatigue<br>Specific<br>Category: GENERAL SYMPTOMS",
          "Scale: SDQ<br>Sympt.:Short sleep time<br>Specific<br>Category: SLEEP PERIOD SYMPTOMS",
          "Scale: SDQ<br>Sympt.:Long sleep time<br>Specific<br>Category: SLEEPINESS SYMPTOMS",
          "Scale: SDQ<br>Sympt.:Breath abnormalities observation<br>Specific<br>Category: RESPIRATORY SYMPTOMS",
          "Scale: SDQ<br>Sympt.:Ambulation<br>Specific<br>Category: BEHAVIORAL SYMPTOMS DURING SLEEP",
          "Scale: SDQ<br>Sympt.:Disturbed sleep period<br>Specific<br>Category: SLEEP PERIOD SYMPTOMS",
          "Scale: SDQ<br>Sympt.:Worries<br>Specific<br>Category: NON OTHERWISE SPECIFIED",
          "Scale: SDQ<br>Sympt.:Hypnotics<br>Specific<br>Category: NON OTHERWISE SPECIFIED",
          "Scale: SDQ<br>Sympt.:Cognitive symptoms<br>Specific<br>Category: PSYCHIATRIC SYMPTOMS",
          "Scale: SDQ<br>Sympt.:Sleep inertia<br>Specific<br>Category: SLEEPINESS SYMPTOMS",
          "Scale: SDQ<br>Sympt.:Amnesia<br>Specific<br>Category: BEHAVIORAL SYMPTOMS DURING SLEEP",
          "Scale: SDQ<br>Sympt.:Cataplexy<br>Specific<br>Category: MOTOR SYMPTOMS",
          "Scale: SDQ<br>Sympt.:Fright behavior<br>Specific<br>Category: GENERAL SYMPTOMS",
          "Scale: SDQ<br>Sympt.:Autonomic symptoms<br>Specific<br>Category: GENERAL SYMPTOMS",
          "Scale: SDQ<br>Sympt.:Headache<br>Specific<br>Category: GENERAL SYMPTOMS",
          "Scale: SDQ<br>Sympt.:Sweating<br>Specific<br>Category: NON OTHERWISE SPECIFIED",
          "Scale: SDQ<br>Sympt.:Hallucination<br>Specific<br>Category: PSYCHIATRIC SYMPTOMS",
          "Scale: SDQ<br>Sympt.:Motor paralysis<br>Specific<br>Category: MOTOR SYMPTOMS",
          "Scale: SDQ<br>Sympt.:Tooth grinding<br>Specific<br>Category: MOTOR SYMPTOMS",
          "Scale: SDQ<br>Sympt.:Nycturia<br>Specific<br>Category: NON OTHERWISE SPECIFIED",
          "Scale: SDQ<br>Sympt.:Rhythmic movement<br>Specific<br>Category: MOTOR SYMPTOMS",
          "Scale: SDQ<br>Sympt.:Psychostimulants<br>Specific<br>Category: NON OTHERWISE SPECIFIED"
         ],
         "marker": {
          "color": "rgb(248, 156, 116)",
          "line": {
           "width": 0
          },
          "symbol": "circle"
         },
         "mode": "markers",
         "name": "SDQ",
         "opacity": 1,
         "r": [
          18,
          18,
          18,
          18,
          18,
          18,
          18,
          18,
          18,
          18,
          18,
          18,
          18,
          18,
          18,
          18,
          18,
          18,
          18,
          18,
          18,
          18,
          18,
          18,
          18,
          18,
          18,
          18,
          18,
          18,
          18,
          18
         ],
         "theta": [
          "S01",
          "S06",
          "S07",
          "S10",
          "S12",
          "S48",
          "S49",
          "S05",
          "S22",
          "S33",
          "S39",
          "S41",
          "S03",
          "S11",
          "S20",
          "S47",
          "S53",
          "S54",
          "S15",
          "S04",
          "S21",
          "S32",
          "S36",
          "S37",
          "S38",
          "S59",
          "S16",
          "S31",
          "S34",
          "S58",
          "S30",
          "S55"
         ],
         "type": "scatterpolar"
        },
        {
         "hoverinfo": "text",
         "hovertext": [
          "Scale: Sleep50<br>Sympt.:Daytime sleepiness<br>Specific<br>Category: SLEEPINESS SYMPTOMS",
          "Scale: Sleep50<br>Sympt.:Insomnia initiating<br>Specific<br>Category: INSOMNIA SYMPTOMS",
          "Scale: Sleep50<br>Sympt.:Insomnia maintaining<br>Specific<br>Category: INSOMNIA SYMPTOMS",
          "Scale: Sleep50<br>Sympt.:Breath abnormalities complaint<br>Specific<br>Category: RESPIRATORY SYMPTOMS",
          "Scale: Sleep50<br>Sympt.:Snoring<br>Specific<br>Category: RESPIRATORY SYMPTOMS",
          "Scale: Sleep50<br>Sympt.:Legs movement<br>Specific<br>Category: MOTOR SYMPTOMS",
          "Scale: Sleep50<br>Sympt.:Functional repercussions<br>Specific<br>Category: NON OTHERWISE SPECIFIED",
          "Scale: Sleep50<br>Sympt.:Sleep satisfaction<br>Specific<br>Category: NON OTHERWISE SPECIFIED",
          "Scale: Sleep50<br>Sympt.:Insomnia early<br>Specific<br>Category: INSOMNIA SYMPTOMS",
          "Scale: Sleep50<br>Sympt.:Altered oneiric activity<br>Specific<br>Category: BEHAVIORAL SYMPTOMS DURING SLEEP",
          "Scale: Sleep50<br>Sympt.:Lapses into sleep<br>Specific<br>Category: SLEEPINESS SYMPTOMS",
          "Scale: Sleep50<br>Sympt.:Leg sensory discomfort<br>Specific<br>Category: MOTOR SYMPTOMS",
          "Scale: Sleep50<br>Sympt.:Fatigue<br>Specific<br>Category: GENERAL SYMPTOMS",
          "Scale: Sleep50<br>Sympt.:Affective symptoms<br>Specific<br>Category: PSYCHIATRIC SYMPTOMS",
          "Scale: Sleep50<br>Sympt.:Short sleep time<br>Specific<br>Category: SLEEP PERIOD SYMPTOMS",
          "Scale: Sleep50<br>Sympt.:Breath abnormalities observation<br>Specific<br>Category: RESPIRATORY SYMPTOMS",
          "Scale: Sleep50<br>Sympt.:Behavioral symptoms during sleep<br>Specific<br>Category: BEHAVIORAL SYMPTOMS DURING SLEEP",
          "Scale: Sleep50<br>Sympt.:Ambulation<br>Specific<br>Category: BEHAVIORAL SYMPTOMS DURING SLEEP",
          "Scale: Sleep50<br>Sympt.:Disturbed sleep period<br>Specific<br>Category: SLEEP PERIOD SYMPTOMS",
          "Scale: Sleep50<br>Sympt.:Worries<br>Specific<br>Category: NON OTHERWISE SPECIFIED",
          "Scale: Sleep50<br>Sympt.:Hypnotics<br>Specific<br>Category: NON OTHERWISE SPECIFIED",
          "Scale: Sleep50<br>Sympt.:Cognitive symptoms<br>Specific<br>Category: PSYCHIATRIC SYMPTOMS",
          "Scale: Sleep50<br>Sympt.:Dry mouth<br>Specific<br>Category: NON OTHERWISE SPECIFIED",
          "Scale: Sleep50<br>Sympt.:Cataplexy<br>Specific<br>Category: MOTOR SYMPTOMS",
          "Scale: Sleep50<br>Sympt.:Autonomic symptoms<br>Specific<br>Category: GENERAL SYMPTOMS",
          "Scale: Sleep50<br>Sympt.:Headache<br>Specific<br>Category: GENERAL SYMPTOMS",
          "Scale: Sleep50<br>Sympt.:Sweating<br>Specific<br>Category: NON OTHERWISE SPECIFIED",
          "Scale: Sleep50<br>Sympt.:Hallucination<br>Specific<br>Category: PSYCHIATRIC SYMPTOMS",
          "Scale: Sleep50<br>Sympt.:Motor paralysis<br>Specific<br>Category: MOTOR SYMPTOMS",
          "Scale: Sleep50<br>Sympt.:Sour taste<br>Specific<br>Category: NON OTHERWISE SPECIFIED",
          "Scale: Sleep50<br>Sympt.:Normal responsiveness<br>Specific<br>Category: BEHAVIORAL SYMPTOMS DURING SLEEP"
         ],
         "marker": {
          "color": "rgb(220, 176, 242)",
          "line": {
           "width": 0
          },
          "symbol": "circle"
         },
         "mode": "markers",
         "name": "Sleep50",
         "opacity": 1,
         "r": [
          17,
          17,
          17,
          17,
          17,
          17,
          17,
          17,
          17,
          17,
          17,
          17,
          17,
          17,
          17,
          17,
          17,
          17,
          17,
          17,
          17,
          17,
          17,
          17,
          17,
          17,
          17,
          17,
          17,
          17,
          17
         ],
         "theta": [
          "S01",
          "S06",
          "S07",
          "S10",
          "S12",
          "S29",
          "S48",
          "S49",
          "S05",
          "S22",
          "S02",
          "S33",
          "S39",
          "S14",
          "S41",
          "S11",
          "S19",
          "S20",
          "S47",
          "S53",
          "S54",
          "S15",
          "S56",
          "S32",
          "S37",
          "S38",
          "S59",
          "S16",
          "S31",
          "S57",
          "S25"
         ],
         "type": "scatterpolar"
        },
        {
         "hoverinfo": "text",
         "hovertext": [
          "Scale: ASQ<br>Sympt.:Daytime sleepiness<br>Specific<br>Category: SLEEPINESS SYMPTOMS",
          "Scale: ASQ<br>Sympt.:Snoring<br>Specific<br>Category: RESPIRATORY SYMPTOMS",
          "Scale: ASQ<br>Sympt.:Legs movement<br>Specific<br>Category: MOTOR SYMPTOMS",
          "Scale: ASQ<br>Sympt.:Functional repercussions<br>Specific<br>Category: NON OTHERWISE SPECIFIED",
          "Scale: ASQ<br>Sympt.:Sleep satisfaction<br>Specific<br>Category: NON OTHERWISE SPECIFIED",
          "Scale: ASQ<br>Sympt.:Altered oneiric activity<br>Specific<br>Category: BEHAVIORAL SYMPTOMS DURING SLEEP",
          "Scale: ASQ<br>Sympt.:Leg sensory discomfort<br>Specific<br>Category: MOTOR SYMPTOMS",
          "Scale: ASQ<br>Sympt.:Fatigue<br>Specific<br>Category: GENERAL SYMPTOMS",
          "Scale: ASQ<br>Sympt.:Affective symptoms<br>Specific<br>Category: PSYCHIATRIC SYMPTOMS",
          "Scale: ASQ<br>Sympt.:Ambulation<br>Specific<br>Category: BEHAVIORAL SYMPTOMS DURING SLEEP",
          "Scale: ASQ<br>Sympt.:Disturbed sleep period<br>Specific<br>Category: SLEEP PERIOD SYMPTOMS",
          "Scale: ASQ<br>Sympt.:Worries<br>Specific<br>Category: NON OTHERWISE SPECIFIED",
          "Scale: ASQ<br>Sympt.:Pain<br>Specific<br>Category: NON OTHERWISE SPECIFIED",
          "Scale: ASQ<br>Sympt.:Cognitive symptoms<br>Specific<br>Category: PSYCHIATRIC SYMPTOMS",
          "Scale: ASQ<br>Sympt.:Dry mouth<br>Specific<br>Category: NON OTHERWISE SPECIFIED",
          "Scale: ASQ<br>Sympt.:Amnesia<br>Specific<br>Category: BEHAVIORAL SYMPTOMS DURING SLEEP",
          "Scale: ASQ<br>Sympt.:Vocalization<br>Specific<br>Category: BEHAVIORAL SYMPTOMS DURING SLEEP",
          "Scale: ASQ<br>Sympt.:Autonomic symptoms<br>Specific<br>Category: GENERAL SYMPTOMS",
          "Scale: ASQ<br>Sympt.:Headache<br>Specific<br>Category: GENERAL SYMPTOMS",
          "Scale: ASQ<br>Sympt.:Tooth grinding<br>Specific<br>Category: MOTOR SYMPTOMS",
          "Scale: ASQ<br>Sympt.:Behavioral symptoms during wake<br>Specific<br>Category: PSYCHIATRIC SYMPTOMS",
          "Scale: ASQ<br>Sympt.:Incomplete awakening<br>Specific<br>Category: SLEEP PERIOD SYMPTOMS",
          "Scale: ASQ<br>Sympt.:Sleep needs<br>Specific<br>Category: NON OTHERWISE SPECIFIED"
         ],
         "marker": {
          "color": "rgb(135, 197, 95)",
          "line": {
           "width": 0
          },
          "symbol": "circle"
         },
         "mode": "markers",
         "name": "ASQ",
         "opacity": 1,
         "r": [
          16,
          16,
          16,
          16,
          16,
          16,
          16,
          16,
          16,
          16,
          16,
          16,
          16,
          16,
          16,
          16,
          16,
          16,
          16,
          16,
          16,
          16,
          16
         ],
         "theta": [
          "S01",
          "S12",
          "S29",
          "S48",
          "S49",
          "S22",
          "S33",
          "S39",
          "S14",
          "S20",
          "S47",
          "S53",
          "S52",
          "S15",
          "S56",
          "S21",
          "S27",
          "S37",
          "S38",
          "S34",
          "S17",
          "S46",
          "S50"
         ],
         "type": "scatterpolar"
        },
        {
         "hoverinfo": "text",
         "hovertext": [
          "Scale: SDS-CL-25<br>Sympt.:Insomnia initiating<br>Specific<br>Category: INSOMNIA SYMPTOMS",
          "Scale: SDS-CL-25<br>Sympt.:Insomnia maintaining<br>Specific<br>Category: INSOMNIA SYMPTOMS",
          "Scale: SDS-CL-25<br>Sympt.:Breath abnormalities complaint<br>Specific<br>Category: RESPIRATORY SYMPTOMS",
          "Scale: SDS-CL-25<br>Sympt.:Snoring<br>Specific<br>Category: RESPIRATORY SYMPTOMS",
          "Scale: SDS-CL-25<br>Sympt.:Legs movement<br>Specific<br>Category: MOTOR SYMPTOMS",
          "Scale: SDS-CL-25<br>Sympt.:Functional repercussions<br>Specific<br>Category: NON OTHERWISE SPECIFIED",
          "Scale: SDS-CL-25<br>Sympt.:Insomnia early<br>Specific<br>Category: INSOMNIA SYMPTOMS",
          "Scale: SDS-CL-25<br>Sympt.:Altered oneiric activity<br>Specific<br>Category: BEHAVIORAL SYMPTOMS DURING SLEEP",
          "Scale: SDS-CL-25<br>Sympt.:Lapses into sleep<br>Specific<br>Category: SLEEPINESS SYMPTOMS",
          "Scale: SDS-CL-25<br>Sympt.:Short sleep time<br>Specific<br>Category: SLEEP PERIOD SYMPTOMS",
          "Scale: SDS-CL-25<br>Sympt.:Breath abnormalities observation<br>Specific<br>Category: RESPIRATORY SYMPTOMS",
          "Scale: SDS-CL-25<br>Sympt.:Disturbed sleep period<br>Specific<br>Category: SLEEP PERIOD SYMPTOMS",
          "Scale: SDS-CL-25<br>Sympt.:Delay in the sleep period<br>Specific<br>Category: SLEEP PERIOD SYMPTOMS",
          "Scale: SDS-CL-25<br>Sympt.:Advance in the sleep period<br>Specific<br>Category: SLEEP PERIOD SYMPTOMS",
          "Scale: SDS-CL-25<br>Sympt.:Dry mouth<br>Specific<br>Category: NON OTHERWISE SPECIFIED",
          "Scale: SDS-CL-25<br>Sympt.:Cataplexy<br>Specific<br>Category: MOTOR SYMPTOMS",
          "Scale: SDS-CL-25<br>Sympt.:Fright behavior<br>Specific<br>Category: GENERAL SYMPTOMS",
          "Scale: SDS-CL-25<br>Sympt.:Hallucination<br>Specific<br>Category: PSYCHIATRIC SYMPTOMS",
          "Scale: SDS-CL-25<br>Sympt.:Motor paralysis<br>Specific<br>Category: MOTOR SYMPTOMS",
          "Scale: SDS-CL-25<br>Sympt.:Tooth grinding<br>Specific<br>Category: MOTOR SYMPTOMS"
         ],
         "marker": {
          "color": "rgb(158, 185, 243)",
          "line": {
           "width": 0
          },
          "symbol": "circle"
         },
         "mode": "markers",
         "name": "SDS-CL-25",
         "opacity": 1,
         "r": [
          15,
          15,
          15,
          15,
          15,
          15,
          15,
          15,
          15,
          15,
          15,
          15,
          15,
          15,
          15,
          15,
          15,
          15,
          15,
          15
         ],
         "theta": [
          "S06",
          "S07",
          "S10",
          "S12",
          "S29",
          "S48",
          "S05",
          "S22",
          "S02",
          "S41",
          "S11",
          "S47",
          "S42",
          "S44",
          "S56",
          "S32",
          "S36",
          "S16",
          "S31",
          "S34"
         ],
         "type": "scatterpolar"
        },
        {
         "hoverinfo": "text",
         "hovertext": [
          "Scale: HSDQ<br>Sympt.:Insomnia initiating<br>Specific<br>Category: INSOMNIA SYMPTOMS",
          "Scale: HSDQ<br>Sympt.:Breath abnormalities complaint<br>Specific<br>Category: RESPIRATORY SYMPTOMS",
          "Scale: HSDQ<br>Sympt.:Snoring<br>Specific<br>Category: RESPIRATORY SYMPTOMS",
          "Scale: HSDQ<br>Sympt.:Legs movement<br>Specific<br>Category: MOTOR SYMPTOMS",
          "Scale: HSDQ<br>Sympt.:Altered oneiric activity<br>Specific<br>Category: BEHAVIORAL SYMPTOMS DURING SLEEP",
          "Scale: HSDQ<br>Sympt.:Lapses into sleep<br>Specific<br>Category: SLEEPINESS SYMPTOMS",
          "Scale: HSDQ<br>Sympt.:Leg sensory discomfort<br>Specific<br>Category: MOTOR SYMPTOMS",
          "Scale: HSDQ<br>Sympt.:Fatigue<br>Specific<br>Category: GENERAL SYMPTOMS",
          "Scale: HSDQ<br>Sympt.:Short sleep time<br>Specific<br>Category: SLEEP PERIOD SYMPTOMS",
          "Scale: HSDQ<br>Sympt.:Ambulation<br>Specific<br>Category: BEHAVIORAL SYMPTOMS DURING SLEEP",
          "Scale: HSDQ<br>Sympt.:Disturbed sleep period<br>Specific<br>Category: SLEEP PERIOD SYMPTOMS",
          "Scale: HSDQ<br>Sympt.:Worries<br>Specific<br>Category: NON OTHERWISE SPECIFIED",
          "Scale: HSDQ<br>Sympt.:Delay in the sleep period<br>Specific<br>Category: SLEEP PERIOD SYMPTOMS",
          "Scale: HSDQ<br>Sympt.:Non restorative sleep<br>Specific<br>Category: INSOMNIA SYMPTOMS",
          "Scale: HSDQ<br>Sympt.:Dry mouth<br>Specific<br>Category: NON OTHERWISE SPECIFIED"
         ],
         "marker": {
          "color": "rgb(254, 136, 177)",
          "line": {
           "width": 0
          },
          "symbol": "circle"
         },
         "mode": "markers",
         "name": "HSDQ",
         "opacity": 1,
         "r": [
          14,
          14,
          14,
          14,
          14,
          14,
          14,
          14,
          14,
          14,
          14,
          14,
          14,
          14,
          14
         ],
         "theta": [
          "S06",
          "S10",
          "S12",
          "S29",
          "S22",
          "S02",
          "S33",
          "S39",
          "S41",
          "S20",
          "S47",
          "S53",
          "S42",
          "S09",
          "S56"
         ],
         "type": "scatterpolar"
        },
        {
         "hoverinfo": "text",
         "hovertext": [
          "Scale: PSQI<br>Sympt.:Daytime sleepiness<br>Specific<br>Category: SLEEPINESS SYMPTOMS",
          "Scale: PSQI<br>Sympt.:Insomnia initiating<br>Specific<br>Category: INSOMNIA SYMPTOMS",
          "Scale: PSQI<br>Sympt.:Breath abnormalities complaint<br>Specific<br>Category: RESPIRATORY SYMPTOMS",
          "Scale: PSQI<br>Sympt.:Snoring<br>Specific<br>Category: RESPIRATORY SYMPTOMS",
          "Scale: PSQI<br>Sympt.:Sleep satisfaction<br>Specific<br>Category: NON OTHERWISE SPECIFIED",
          "Scale: PSQI<br>Sympt.:Altered oneiric activity<br>Specific<br>Category: BEHAVIORAL SYMPTOMS DURING SLEEP",
          "Scale: PSQI<br>Sympt.:Affective symptoms<br>Specific<br>Category: PSYCHIATRIC SYMPTOMS",
          "Scale: PSQI<br>Sympt.:Breath abnormalities observation<br>Specific<br>Category: RESPIRATORY SYMPTOMS",
          "Scale: PSQI<br>Sympt.:Behavioral symptoms during sleep<br>Specific<br>Category: BEHAVIORAL SYMPTOMS DURING SLEEP",
          "Scale: PSQI<br>Sympt.:Hypnotics<br>Specific<br>Category: NON OTHERWISE SPECIFIED",
          "Scale: PSQI<br>Sympt.:Pain<br>Specific<br>Category: NON OTHERWISE SPECIFIED",
          "Scale: PSQI<br>Sympt.:Nycturia<br>Specific<br>Category: NON OTHERWISE SPECIFIED",
          "Scale: PSQI<br>Sympt.:Hot/cool sensation<br>Specific<br>Category: NON OTHERWISE SPECIFIED"
         ],
         "marker": {
          "color": "rgb(201, 219, 116)",
          "line": {
           "width": 0
          },
          "symbol": "circle"
         },
         "mode": "markers",
         "name": "PSQI",
         "opacity": 1,
         "r": [
          13,
          13,
          13,
          13,
          13,
          13,
          13,
          13,
          13,
          13,
          13,
          13,
          13
         ],
         "theta": [
          "S01",
          "S06",
          "S10",
          "S12",
          "S49",
          "S22",
          "S14",
          "S11",
          "S19",
          "S54",
          "S52",
          "S58",
          "S60"
         ],
         "type": "scatterpolar"
        },
        {
         "hoverinfo": "text",
         "hovertext": [
          "Scale: ISDI<br>Sympt.:Daytime sleepiness<br>Specific<br>Category: SLEEPINESS SYMPTOMS",
          "Scale: ISDI<br>Sympt.:Insomnia initiating<br>Specific<br>Category: INSOMNIA SYMPTOMS",
          "Scale: ISDI<br>Sympt.:Insomnia maintaining<br>Specific<br>Category: INSOMNIA SYMPTOMS",
          "Scale: ISDI<br>Sympt.:Legs movement<br>Specific<br>Category: MOTOR SYMPTOMS",
          "Scale: ISDI<br>Sympt.:Sleep satisfaction<br>Specific<br>Category: NON OTHERWISE SPECIFIED",
          "Scale: ISDI<br>Sympt.:Insomnia early<br>Specific<br>Category: INSOMNIA SYMPTOMS",
          "Scale: ISDI<br>Sympt.:Altered oneiric activity<br>Specific<br>Category: BEHAVIORAL SYMPTOMS DURING SLEEP",
          "Scale: ISDI<br>Sympt.:Lapses into sleep<br>Specific<br>Category: SLEEPINESS SYMPTOMS",
          "Scale: ISDI<br>Sympt.:Leg sensory discomfort<br>Specific<br>Category: MOTOR SYMPTOMS",
          "Scale: ISDI<br>Sympt.:Fatigue<br>Specific<br>Category: GENERAL SYMPTOMS",
          "Scale: ISDI<br>Sympt.:Affective symptoms<br>Specific<br>Category: PSYCHIATRIC SYMPTOMS",
          "Scale: ISDI<br>Sympt.:Disturbed sleep period<br>Specific<br>Category: SLEEP PERIOD SYMPTOMS",
          "Scale: ISDI<br>Sympt.:Worries<br>Specific<br>Category: NON OTHERWISE SPECIFIED",
          "Scale: ISDI<br>Sympt.:Non restorative sleep<br>Specific<br>Category: INSOMNIA SYMPTOMS",
          "Scale: ISDI<br>Sympt.:Sleep inertia<br>Specific<br>Category: SLEEPINESS SYMPTOMS",
          "Scale: ISDI<br>Sympt.:Myoclonic jerks<br>Specific<br>Category: MOTOR SYMPTOMS"
         ],
         "marker": {
          "color": "rgb(139, 224, 164)",
          "line": {
           "width": 0
          },
          "symbol": "circle"
         },
         "mode": "markers",
         "name": "ISDI",
         "opacity": 1,
         "r": [
          12,
          12,
          12,
          12,
          12,
          12,
          12,
          12,
          12,
          12,
          12,
          12,
          12,
          12,
          12,
          12
         ],
         "theta": [
          "S01",
          "S06",
          "S07",
          "S29",
          "S49",
          "S05",
          "S22",
          "S02",
          "S33",
          "S39",
          "S14",
          "S47",
          "S53",
          "S09",
          "S04",
          "S28"
         ],
         "type": "scatterpolar"
        },
        {
         "hoverinfo": "text",
         "hovertext": [
          "Scale: GSAQ<br>Sympt.:Breath abnormalities complaint<br>Specific<br>Category: RESPIRATORY SYMPTOMS",
          "Scale: GSAQ<br>Sympt.:Snoring<br>Specific<br>Category: RESPIRATORY SYMPTOMS",
          "Scale: GSAQ<br>Sympt.:Affective symptoms<br>Specific<br>Category: PSYCHIATRIC SYMPTOMS",
          "Scale: GSAQ<br>Sympt.:Short sleep time<br>Specific<br>Category: SLEEP PERIOD SYMPTOMS"
         ],
         "marker": {
          "color": "rgb(180, 151, 231)",
          "line": {
           "width": 0
          },
          "symbol": "circle"
         },
         "mode": "markers",
         "name": "GSAQ",
         "opacity": 1,
         "r": [
          11,
          11,
          11,
          11
         ],
         "theta": [
          "S10",
          "S12",
          "S14",
          "S41"
         ],
         "type": "scatterpolar"
        },
        {
         "hoverinfo": "text",
         "hovertext": [
          "Scale: SDS-CL-17<br>Sympt.:Insomnia initiating<br>Specific<br>Category: INSOMNIA SYMPTOMS",
          "Scale: SDS-CL-17<br>Sympt.:Insomnia maintaining<br>Specific<br>Category: INSOMNIA SYMPTOMS",
          "Scale: SDS-CL-17<br>Sympt.:Breath abnormalities complaint<br>Specific<br>Category: RESPIRATORY SYMPTOMS",
          "Scale: SDS-CL-17<br>Sympt.:Legs movement<br>Specific<br>Category: MOTOR SYMPTOMS",
          "Scale: SDS-CL-17<br>Sympt.:Insomnia early<br>Specific<br>Category: INSOMNIA SYMPTOMS",
          "Scale: SDS-CL-17<br>Sympt.:Altered oneiric activity<br>Specific<br>Category: BEHAVIORAL SYMPTOMS DURING SLEEP",
          "Scale: SDS-CL-17<br>Sympt.:Lapses into sleep<br>Specific<br>Category: SLEEPINESS SYMPTOMS",
          "Scale: SDS-CL-17<br>Sympt.:Leg sensory discomfort<br>Specific<br>Category: MOTOR SYMPTOMS",
          "Scale: SDS-CL-17<br>Sympt.:Fatigue<br>Specific<br>Category: GENERAL SYMPTOMS",
          "Scale: SDS-CL-17<br>Sympt.:Breath abnormalities observation<br>Specific<br>Category: RESPIRATORY SYMPTOMS",
          "Scale: SDS-CL-17<br>Sympt.:Behavioral symptoms during sleep<br>Specific<br>Category: BEHAVIORAL SYMPTOMS DURING SLEEP",
          "Scale: SDS-CL-17<br>Sympt.:Cataplexy<br>Specific<br>Category: MOTOR SYMPTOMS",
          "Scale: SDS-CL-17<br>Sympt.:Fright behavior<br>Specific<br>Category: GENERAL SYMPTOMS"
         ],
         "marker": {
          "color": "rgb(179, 179, 179)",
          "line": {
           "width": 0
          },
          "symbol": "circle"
         },
         "mode": "markers",
         "name": "SDS-CL-17",
         "opacity": 1,
         "r": [
          10,
          10,
          10,
          10,
          10,
          10,
          10,
          10,
          10,
          10,
          10,
          10,
          10
         ],
         "theta": [
          "S06",
          "S07",
          "S10",
          "S29",
          "S05",
          "S22",
          "S02",
          "S33",
          "S39",
          "S11",
          "S19",
          "S32",
          "S36"
         ],
         "type": "scatterpolar"
        },
        {
         "hoverinfo": "text",
         "hovertext": [
          "Scale: SSC<br>Sympt.:Daytime sleepiness<br>Specific<br>Category: SLEEPINESS SYMPTOMS",
          "Scale: SSC<br>Sympt.:Insomnia initiating<br>Specific<br>Category: INSOMNIA SYMPTOMS",
          "Scale: SSC<br>Sympt.:Insomnia maintaining<br>Specific<br>Category: INSOMNIA SYMPTOMS",
          "Scale: SSC<br>Sympt.:Breath abnormalities complaint<br>Specific<br>Category: RESPIRATORY SYMPTOMS",
          "Scale: SSC<br>Sympt.:Snoring<br>Specific<br>Category: RESPIRATORY SYMPTOMS",
          "Scale: SSC<br>Sympt.:Functional repercussions<br>Specific<br>Category: NON OTHERWISE SPECIFIED",
          "Scale: SSC<br>Sympt.:Sleep satisfaction<br>Specific<br>Category: NON OTHERWISE SPECIFIED",
          "Scale: SSC<br>Sympt.:Insomnia early<br>Specific<br>Category: INSOMNIA SYMPTOMS",
          "Scale: SSC<br>Sympt.:Lapses into sleep<br>Specific<br>Category: SLEEPINESS SYMPTOMS",
          "Scale: SSC<br>Sympt.:Fatigue<br>Specific<br>Category: GENERAL SYMPTOMS",
          "Scale: SSC<br>Sympt.:Affective symptoms<br>Specific<br>Category: PSYCHIATRIC SYMPTOMS",
          "Scale: SSC<br>Sympt.:Pain<br>Specific<br>Category: NON OTHERWISE SPECIFIED",
          "Scale: SSC<br>Sympt.:Non restorative sleep<br>Specific<br>Category: INSOMNIA SYMPTOMS",
          "Scale: SSC<br>Sympt.:Dry mouth<br>Specific<br>Category: NON OTHERWISE SPECIFIED",
          "Scale: SSC<br>Sympt.:Myoclonic jerks<br>Specific<br>Category: MOTOR SYMPTOMS",
          "Scale: SSC<br>Sympt.:Headache<br>Specific<br>Category: GENERAL SYMPTOMS",
          "Scale: SSC<br>Sympt.:Nycturia<br>Specific<br>Category: NON OTHERWISE SPECIFIED"
         ],
         "marker": {
          "color": "rgb(102, 197, 204)",
          "line": {
           "width": 0
          },
          "symbol": "circle"
         },
         "mode": "markers",
         "name": "SSC",
         "opacity": 1,
         "r": [
          9,
          9,
          9,
          9,
          9,
          9,
          9,
          9,
          9,
          9,
          9,
          9,
          9,
          9,
          9,
          9,
          9
         ],
         "theta": [
          "S01",
          "S06",
          "S07",
          "S10",
          "S12",
          "S48",
          "S49",
          "S05",
          "S02",
          "S39",
          "S14",
          "S52",
          "S09",
          "S56",
          "S28",
          "S38",
          "S58"
         ],
         "type": "scatterpolar"
        },
        {
         "hoverinfo": "text",
         "hovertext": [
          "Scale: BNSQ<br>Sympt.:Daytime sleepiness<br>Specific<br>Category: SLEEPINESS SYMPTOMS",
          "Scale: BNSQ<br>Sympt.:Insomnia initiating<br>Specific<br>Category: INSOMNIA SYMPTOMS",
          "Scale: BNSQ<br>Sympt.:Insomnia maintaining<br>Specific<br>Category: INSOMNIA SYMPTOMS",
          "Scale: BNSQ<br>Sympt.:Snoring<br>Specific<br>Category: RESPIRATORY SYMPTOMS",
          "Scale: BNSQ<br>Sympt.:Sleep satisfaction<br>Specific<br>Category: NON OTHERWISE SPECIFIED",
          "Scale: BNSQ<br>Sympt.:Insomnia early<br>Specific<br>Category: INSOMNIA SYMPTOMS",
          "Scale: BNSQ<br>Sympt.:Lapses into sleep<br>Specific<br>Category: SLEEPINESS SYMPTOMS",
          "Scale: BNSQ<br>Sympt.:Breath abnormalities observation<br>Specific<br>Category: RESPIRATORY SYMPTOMS",
          "Scale: BNSQ<br>Sympt.:Hypnotics<br>Specific<br>Category: NON OTHERWISE SPECIFIED",
          "Scale: BNSQ<br>Sympt.:Sleep inertia<br>Specific<br>Category: SLEEPINESS SYMPTOMS",
          "Scale: BNSQ<br>Sympt.:Sleep needs<br>Specific<br>Category: NON OTHERWISE SPECIFIED"
         ],
         "marker": {
          "color": "rgb(246, 207, 113)",
          "line": {
           "width": 0
          },
          "symbol": "circle"
         },
         "mode": "markers",
         "name": "BNSQ",
         "opacity": 1,
         "r": [
          8,
          8,
          8,
          8,
          8,
          8,
          8,
          8,
          8,
          8,
          8
         ],
         "theta": [
          "S01",
          "S06",
          "S07",
          "S12",
          "S49",
          "S05",
          "S02",
          "S11",
          "S54",
          "S04",
          "S50"
         ],
         "type": "scatterpolar"
        },
        {
         "hoverinfo": "text",
         "hovertext": [
          "Scale: OSQ <br>Sympt.:Daytime sleepiness<br>Specific<br>Category: SLEEPINESS SYMPTOMS",
          "Scale: OSQ <br>Sympt.:Insomnia initiating<br>Specific<br>Category: INSOMNIA SYMPTOMS",
          "Scale: OSQ <br>Sympt.:Insomnia maintaining<br>Specific<br>Category: INSOMNIA SYMPTOMS",
          "Scale: OSQ <br>Sympt.:Snoring<br>Specific<br>Category: RESPIRATORY SYMPTOMS",
          "Scale: OSQ <br>Sympt.:Legs movement<br>Specific<br>Category: MOTOR SYMPTOMS",
          "Scale: OSQ <br>Sympt.:Sleep satisfaction<br>Specific<br>Category: NON OTHERWISE SPECIFIED",
          "Scale: OSQ <br>Sympt.:Insomnia early<br>Specific<br>Category: INSOMNIA SYMPTOMS",
          "Scale: OSQ <br>Sympt.:Altered oneiric activity<br>Specific<br>Category: BEHAVIORAL SYMPTOMS DURING SLEEP",
          "Scale: OSQ <br>Sympt.:Disturbed sleep period<br>Specific<br>Category: SLEEP PERIOD SYMPTOMS",
          "Scale: OSQ <br>Sympt.:Hypnotics<br>Specific<br>Category: NON OTHERWISE SPECIFIED",
          "Scale: OSQ <br>Sympt.:Non restorative sleep<br>Specific<br>Category: INSOMNIA SYMPTOMS",
          "Scale: OSQ <br>Sympt.:Sleep efficiency<br>Specific<br>Category: NON OTHERWISE SPECIFIED"
         ],
         "marker": {
          "color": "rgb(248, 156, 116)",
          "line": {
           "width": 0
          },
          "symbol": "circle"
         },
         "mode": "markers",
         "name": "OSQ ",
         "opacity": 1,
         "r": [
          7,
          7,
          7,
          7,
          7,
          7,
          7,
          7,
          7,
          7,
          7,
          7
         ],
         "theta": [
          "S01",
          "S06",
          "S07",
          "S12",
          "S29",
          "S49",
          "S05",
          "S22",
          "S47",
          "S54",
          "S09",
          "S51"
         ],
         "type": "scatterpolar"
        },
        {
         "hoverinfo": "text",
         "hovertext": [
          "Scale: SDQ<br>Sympt.:Legs movement<br>Compound<br>Category: MOTOR SYMPTOMS",
          "Scale: SDQ<br>Sympt.:Lapses into sleep<br>Compound<br>Category: SLEEPINESS SYMPTOMS",
          "Scale: SDQ<br>Sympt.:Affective symptoms<br>Compound<br>Category: PSYCHIATRIC SYMPTOMS",
          "Scale: SDQ<br>Sympt.:Pain<br>Compound<br>Category: NON OTHERWISE SPECIFIED",
          "Scale: SDQ<br>Sympt.:Behavioral symptoms during wake<br>Compound<br>Category: PSYCHIATRIC SYMPTOMS",
          "Scale: SDQ<br>Sympt.:Abnormal responsiveness<br>Compound<br>Category: BEHAVIORAL SYMPTOMS DURING SLEEP",
          "Scale: SDQ<br>Sympt.:Sour taste<br>Compound<br>Category: NON OTHERWISE SPECIFIED",
          "Scale: SDQ<br>Sympt.:Absent of major sleep period<br>Compound<br>Category: SLEEP PERIOD SYMPTOMS"
         ],
         "marker": {
          "color": "white",
          "line": {
           "color": "rgb(248, 156, 116)",
           "width": 1
          },
          "symbol": "circle"
         },
         "mode": "markers",
         "r": [
          18,
          18,
          18,
          18,
          18,
          18,
          18,
          18
         ],
         "showlegend": false,
         "theta": [
          "S29",
          "S02",
          "S14",
          "S52",
          "S17",
          "S24",
          "S57",
          "S43"
         ],
         "type": "scatterpolar"
        },
        {
         "hoverinfo": "text",
         "hovertext": [
          "Scale: Sleep50<br>Sympt.:Delay in the sleep period<br>Compound<br>Category: SLEEP PERIOD SYMPTOMS",
          "Scale: Sleep50<br>Sympt.:Advance in the sleep period<br>Compound<br>Category: SLEEP PERIOD SYMPTOMS",
          "Scale: Sleep50<br>Sympt.:Amnesia<br>Compound<br>Category: BEHAVIORAL SYMPTOMS DURING SLEEP"
         ],
         "marker": {
          "color": "white",
          "line": {
           "color": "rgb(220, 176, 242)",
           "width": 1
          },
          "symbol": "circle"
         },
         "mode": "markers",
         "r": [
          17,
          17,
          17
         ],
         "showlegend": false,
         "theta": [
          "S42",
          "S44",
          "S21"
         ],
         "type": "scatterpolar"
        },
        {
         "hoverinfo": "text",
         "hovertext": [
          "Scale: ASQ<br>Sympt.:Insomnia initiating<br>Compound<br>Category: INSOMNIA SYMPTOMS",
          "Scale: ASQ<br>Sympt.:Insomnia maintaining<br>Compound<br>Category: INSOMNIA SYMPTOMS",
          "Scale: ASQ<br>Sympt.:Breath abnormalities complaint<br>Compound<br>Category: RESPIRATORY SYMPTOMS",
          "Scale: ASQ<br>Sympt.:Insomnia early<br>Compound<br>Category: INSOMNIA SYMPTOMS",
          "Scale: ASQ<br>Sympt.:Short sleep time<br>Compound<br>Category: SLEEP PERIOD SYMPTOMS",
          "Scale: ASQ<br>Sympt.:Long sleep time<br>Compound<br>Category: SLEEPINESS SYMPTOMS",
          "Scale: ASQ<br>Sympt.:Breath abnormalities observation<br>Compound<br>Category: RESPIRATORY SYMPTOMS",
          "Scale: ASQ<br>Sympt.:Hypnotics<br>Compound<br>Category: NON OTHERWISE SPECIFIED",
          "Scale: ASQ<br>Sympt.:Psychostimulants<br>Compound<br>Category: NON OTHERWISE SPECIFIED"
         ],
         "marker": {
          "color": "white",
          "line": {
           "color": "rgb(135, 197, 95)",
           "width": 1
          },
          "symbol": "circle"
         },
         "mode": "markers",
         "r": [
          16,
          16,
          16,
          16,
          16,
          16,
          16,
          16,
          16
         ],
         "showlegend": false,
         "theta": [
          "S06",
          "S07",
          "S10",
          "S05",
          "S41",
          "S03",
          "S11",
          "S54",
          "S55"
         ],
         "type": "scatterpolar"
        },
        {
         "hoverinfo": "text",
         "hovertext": [
          "Scale: SDS-CL-25<br>Sympt.:Daytime sleepiness<br>Compound<br>Category: SLEEPINESS SYMPTOMS",
          "Scale: SDS-CL-25<br>Sympt.:Sleep satisfaction<br>Compound<br>Category: NON OTHERWISE SPECIFIED",
          "Scale: SDS-CL-25<br>Sympt.:Leg sensory discomfort<br>Compound<br>Category: MOTOR SYMPTOMS",
          "Scale: SDS-CL-25<br>Sympt.:Fatigue<br>Compound<br>Category: GENERAL SYMPTOMS",
          "Scale: SDS-CL-25<br>Sympt.:Behavioral symptoms during sleep<br>Compound<br>Category: BEHAVIORAL SYMPTOMS DURING SLEEP",
          "Scale: SDS-CL-25<br>Sympt.:Ambulation<br>Compound<br>Category: BEHAVIORAL SYMPTOMS DURING SLEEP",
          "Scale: SDS-CL-25<br>Sympt.:Vocalization<br>Compound<br>Category: BEHAVIORAL SYMPTOMS DURING SLEEP",
          "Scale: SDS-CL-25<br>Sympt.:Eating symptoms<br>Compound<br>Category: BEHAVIORAL SYMPTOMS DURING SLEEP"
         ],
         "marker": {
          "color": "white",
          "line": {
           "color": "rgb(158, 185, 243)",
           "width": 1
          },
          "symbol": "circle"
         },
         "mode": "markers",
         "r": [
          15,
          15,
          15,
          15,
          15,
          15,
          15,
          15
         ],
         "showlegend": false,
         "theta": [
          "S01",
          "S49",
          "S33",
          "S39",
          "S19",
          "S20",
          "S27",
          "S23"
         ],
         "type": "scatterpolar"
        },
        {
         "hoverinfo": "text",
         "hovertext": [
          "Scale: HSDQ<br>Sympt.:Daytime sleepiness<br>Compound<br>Category: SLEEPINESS SYMPTOMS",
          "Scale: HSDQ<br>Sympt.:Insomnia maintaining<br>Compound<br>Category: INSOMNIA SYMPTOMS",
          "Scale: HSDQ<br>Sympt.:Functional repercussions<br>Compound<br>Category: NON OTHERWISE SPECIFIED",
          "Scale: HSDQ<br>Sympt.:Sleep satisfaction<br>Compound<br>Category: NON OTHERWISE SPECIFIED",
          "Scale: HSDQ<br>Sympt.:Affective symptoms<br>Compound<br>Category: PSYCHIATRIC SYMPTOMS",
          "Scale: HSDQ<br>Sympt.:Long sleep time<br>Compound<br>Category: SLEEPINESS SYMPTOMS",
          "Scale: HSDQ<br>Sympt.:Behavioral symptoms during sleep<br>Compound<br>Category: BEHAVIORAL SYMPTOMS DURING SLEEP",
          "Scale: HSDQ<br>Sympt.:Cognitive symptoms<br>Compound<br>Category: PSYCHIATRIC SYMPTOMS",
          "Scale: HSDQ<br>Sympt.:Sleep inertia<br>Compound<br>Category: SLEEPINESS SYMPTOMS",
          "Scale: HSDQ<br>Sympt.:Amnesia<br>Compound<br>Category: BEHAVIORAL SYMPTOMS DURING SLEEP",
          "Scale: HSDQ<br>Sympt.:Fright behavior<br>Compound<br>Category: GENERAL SYMPTOMS",
          "Scale: HSDQ<br>Sympt.:Sweating<br>Compound<br>Category: NON OTHERWISE SPECIFIED"
         ],
         "marker": {
          "color": "white",
          "line": {
           "color": "rgb(254, 136, 177)",
           "width": 1
          },
          "symbol": "circle"
         },
         "mode": "markers",
         "r": [
          14,
          14,
          14,
          14,
          14,
          14,
          14,
          14,
          14,
          14,
          14,
          14
         ],
         "showlegend": false,
         "theta": [
          "S01",
          "S07",
          "S48",
          "S49",
          "S14",
          "S03",
          "S19",
          "S15",
          "S04",
          "S21",
          "S36",
          "S59"
         ],
         "type": "scatterpolar"
        },
        {
         "hoverinfo": "text",
         "hovertext": [
          "Scale: PSQI<br>Sympt.:Insomnia maintaining<br>Compound<br>Category: INSOMNIA SYMPTOMS",
          "Scale: PSQI<br>Sympt.:Legs movement<br>Compound<br>Category: MOTOR SYMPTOMS",
          "Scale: PSQI<br>Sympt.:Functional repercussions<br>Compound<br>Category: NON OTHERWISE SPECIFIED",
          "Scale: PSQI<br>Sympt.:Insomnia early<br>Compound<br>Category: INSOMNIA SYMPTOMS",
          "Scale: PSQI<br>Sympt.:Short sleep time<br>Compound<br>Category: SLEEP PERIOD SYMPTOMS",
          "Scale: PSQI<br>Sympt.:Long sleep time<br>Compound<br>Category: SLEEPINESS SYMPTOMS",
          "Scale: PSQI<br>Sympt.:Delay in the sleep period<br>Compound<br>Category: SLEEP PERIOD SYMPTOMS",
          "Scale: PSQI<br>Sympt.:Advance in the sleep period<br>Compound<br>Category: SLEEP PERIOD SYMPTOMS",
          "Scale: PSQI<br>Sympt.:Myoclonic jerks<br>Compound<br>Category: MOTOR SYMPTOMS",
          "Scale: PSQI<br>Sympt.:Abnormal responsiveness<br>Compound<br>Category: BEHAVIORAL SYMPTOMS DURING SLEEP",
          "Scale: PSQI<br>Sympt.:Incomplete awakening<br>Compound<br>Category: SLEEP PERIOD SYMPTOMS",
          "Scale: PSQI<br>Sympt.:Sleep efficiency<br>Compound<br>Category: NON OTHERWISE SPECIFIED"
         ],
         "marker": {
          "color": "white",
          "line": {
           "color": "rgb(201, 219, 116)",
           "width": 1
          },
          "symbol": "circle"
         },
         "mode": "markers",
         "r": [
          13,
          13,
          13,
          13,
          13,
          13,
          13,
          13,
          13,
          13,
          13,
          13
         ],
         "showlegend": false,
         "theta": [
          "S07",
          "S29",
          "S48",
          "S05",
          "S41",
          "S03",
          "S42",
          "S44",
          "S28",
          "S24",
          "S46",
          "S51"
         ],
         "type": "scatterpolar"
        },
        {
         "hoverinfo": "text",
         "hovertext": [
          "Scale: ISDI<br>Sympt.:Breath abnormalities complaint<br>Compound<br>Category: RESPIRATORY SYMPTOMS",
          "Scale: ISDI<br>Sympt.:Functional repercussions<br>Compound<br>Category: NON OTHERWISE SPECIFIED",
          "Scale: ISDI<br>Sympt.:Long sleep time<br>Compound<br>Category: SLEEPINESS SYMPTOMS",
          "Scale: ISDI<br>Sympt.:Behavioral symptoms during sleep<br>Compound<br>Category: BEHAVIORAL SYMPTOMS DURING SLEEP",
          "Scale: ISDI<br>Sympt.:Pain<br>Compound<br>Category: NON OTHERWISE SPECIFIED",
          "Scale: ISDI<br>Sympt.:Cognitive symptoms<br>Compound<br>Category: PSYCHIATRIC SYMPTOMS",
          "Scale: ISDI<br>Sympt.:Autonomic symptoms<br>Compound<br>Category: GENERAL SYMPTOMS",
          "Scale: ISDI<br>Sympt.:Sweating<br>Compound<br>Category: NON OTHERWISE SPECIFIED"
         ],
         "marker": {
          "color": "white",
          "line": {
           "color": "rgb(139, 224, 164)",
           "width": 1
          },
          "symbol": "circle"
         },
         "mode": "markers",
         "r": [
          12,
          12,
          12,
          12,
          12,
          12,
          12,
          12
         ],
         "showlegend": false,
         "theta": [
          "S10",
          "S48",
          "S03",
          "S19",
          "S52",
          "S15",
          "S37",
          "S59"
         ],
         "type": "scatterpolar"
        },
        {
         "hoverinfo": "text",
         "hovertext": [
          "Scale: GSAQ<br>Sympt.:Daytime sleepiness<br>Compound<br>Category: SLEEPINESS SYMPTOMS",
          "Scale: GSAQ<br>Sympt.:Insomnia initiating<br>Compound<br>Category: INSOMNIA SYMPTOMS",
          "Scale: GSAQ<br>Sympt.:Insomnia maintaining<br>Compound<br>Category: INSOMNIA SYMPTOMS",
          "Scale: GSAQ<br>Sympt.:Legs movement<br>Compound<br>Category: MOTOR SYMPTOMS",
          "Scale: GSAQ<br>Sympt.:Functional repercussions<br>Compound<br>Category: NON OTHERWISE SPECIFIED",
          "Scale: GSAQ<br>Sympt.:Altered oneiric activity<br>Compound<br>Category: BEHAVIORAL SYMPTOMS DURING SLEEP",
          "Scale: GSAQ<br>Sympt.:Lapses into sleep<br>Compound<br>Category: SLEEPINESS SYMPTOMS",
          "Scale: GSAQ<br>Sympt.:Leg sensory discomfort<br>Compound<br>Category: MOTOR SYMPTOMS",
          "Scale: GSAQ<br>Sympt.:Behavioral symptoms during sleep<br>Compound<br>Category: BEHAVIORAL SYMPTOMS DURING SLEEP",
          "Scale: GSAQ<br>Sympt.:Ambulation<br>Compound<br>Category: BEHAVIORAL SYMPTOMS DURING SLEEP",
          "Scale: GSAQ<br>Sympt.:Worries<br>Compound<br>Category: NON OTHERWISE SPECIFIED",
          "Scale: GSAQ<br>Sympt.:Hypnotics<br>Compound<br>Category: NON OTHERWISE SPECIFIED",
          "Scale: GSAQ<br>Sympt.:Pain<br>Compound<br>Category: NON OTHERWISE SPECIFIED",
          "Scale: GSAQ<br>Sympt.:Non restorative sleep<br>Compound<br>Category: INSOMNIA SYMPTOMS",
          "Scale: GSAQ<br>Sympt.:Vocalization<br>Compound<br>Category: BEHAVIORAL SYMPTOMS DURING SLEEP",
          "Scale: GSAQ<br>Sympt.:Myoclonic jerks<br>Compound<br>Category: MOTOR SYMPTOMS",
          "Scale: GSAQ<br>Sympt.:Rhythmic movement<br>Compound<br>Category: MOTOR SYMPTOMS",
          "Scale: GSAQ<br>Sympt.:Somatic symptoms<br>Compound<br>Category: GENERAL SYMPTOMS"
         ],
         "marker": {
          "color": "white",
          "line": {
           "color": "rgb(180, 151, 231)",
           "width": 1
          },
          "symbol": "circle"
         },
         "mode": "markers",
         "r": [
          11,
          11,
          11,
          11,
          11,
          11,
          11,
          11,
          11,
          11,
          11,
          11,
          11,
          11,
          11,
          11,
          11,
          11
         ],
         "showlegend": false,
         "theta": [
          "S01",
          "S06",
          "S07",
          "S29",
          "S48",
          "S22",
          "S02",
          "S33",
          "S19",
          "S20",
          "S53",
          "S54",
          "S52",
          "S09",
          "S27",
          "S28",
          "S30",
          "S40"
         ],
         "type": "scatterpolar"
        },
        {
         "hoverinfo": "text",
         "hovertext": [
          "Scale: SDS-CL-17<br>Sympt.:Daytime sleepiness<br>Compound<br>Category: SLEEPINESS SYMPTOMS",
          "Scale: SDS-CL-17<br>Sympt.:Snoring<br>Compound<br>Category: RESPIRATORY SYMPTOMS",
          "Scale: SDS-CL-17<br>Sympt.:Sleep satisfaction<br>Compound<br>Category: NON OTHERWISE SPECIFIED",
          "Scale: SDS-CL-17<br>Sympt.:Ambulation<br>Compound<br>Category: BEHAVIORAL SYMPTOMS DURING SLEEP",
          "Scale: SDS-CL-17<br>Sympt.:Delay in the sleep period<br>Compound<br>Category: SLEEP PERIOD SYMPTOMS",
          "Scale: SDS-CL-17<br>Sympt.:Advance in the sleep period<br>Compound<br>Category: SLEEP PERIOD SYMPTOMS",
          "Scale: SDS-CL-17<br>Sympt.:Vocalization<br>Compound<br>Category: BEHAVIORAL SYMPTOMS DURING SLEEP",
          "Scale: SDS-CL-17<br>Sympt.:Eating symptoms<br>Compound<br>Category: BEHAVIORAL SYMPTOMS DURING SLEEP"
         ],
         "marker": {
          "color": "white",
          "line": {
           "color": "rgb(179, 179, 179)",
           "width": 1
          },
          "symbol": "circle"
         },
         "mode": "markers",
         "r": [
          10,
          10,
          10,
          10,
          10,
          10,
          10,
          10
         ],
         "showlegend": false,
         "theta": [
          "S01",
          "S12",
          "S49",
          "S20",
          "S42",
          "S44",
          "S27",
          "S23"
         ],
         "type": "scatterpolar"
        },
        {
         "hoverinfo": "text",
         "hovertext": [
          "Scale: SSC<br>Sympt.:Legs movement<br>Compound<br>Category: MOTOR SYMPTOMS",
          "Scale: SSC<br>Sympt.:Leg sensory discomfort<br>Compound<br>Category: MOTOR SYMPTOMS"
         ],
         "marker": {
          "color": "white",
          "line": {
           "color": "rgb(102, 197, 204)",
           "width": 1
          },
          "symbol": "circle"
         },
         "mode": "markers",
         "r": [
          9,
          9
         ],
         "showlegend": false,
         "theta": [
          "S29",
          "S33"
         ],
         "type": "scatterpolar"
        },
        {
         "hoverinfo": "text",
         "hovertext": [
          "Scale: BNSQ<br>Sympt.:Breath abnormalities complaint<br>Compound<br>Category: RESPIRATORY SYMPTOMS",
          "Scale: BNSQ<br>Sympt.:Functional repercussions<br>Compound<br>Category: NON OTHERWISE SPECIFIED",
          "Scale: BNSQ<br>Sympt.:Short sleep time<br>Compound<br>Category: SLEEP PERIOD SYMPTOMS",
          "Scale: BNSQ<br>Sympt.:Long sleep time<br>Compound<br>Category: SLEEPINESS SYMPTOMS",
          "Scale: BNSQ<br>Sympt.:Delay in the sleep period<br>Compound<br>Category: SLEEP PERIOD SYMPTOMS",
          "Scale: BNSQ<br>Sympt.:Advance in the sleep period<br>Compound<br>Category: SLEEP PERIOD SYMPTOMS"
         ],
         "marker": {
          "color": "white",
          "line": {
           "color": "rgb(246, 207, 113)",
           "width": 1
          },
          "symbol": "circle"
         },
         "mode": "markers",
         "r": [
          8,
          8,
          8,
          8,
          8,
          8
         ],
         "showlegend": false,
         "theta": [
          "S10",
          "S48",
          "S41",
          "S03",
          "S42",
          "S44"
         ],
         "type": "scatterpolar"
        },
        {
         "hoverinfo": "text",
         "hovertext": [
          "Scale: OSQ <br>Sympt.:Breath abnormalities complaint<br>Compound<br>Category: RESPIRATORY SYMPTOMS",
          "Scale: OSQ <br>Sympt.:Functional repercussions<br>Compound<br>Category: NON OTHERWISE SPECIFIED",
          "Scale: OSQ <br>Sympt.:Fatigue<br>Compound<br>Category: GENERAL SYMPTOMS",
          "Scale: OSQ <br>Sympt.:Long sleep time<br>Compound<br>Category: SLEEPINESS SYMPTOMS",
          "Scale: OSQ <br>Sympt.:Worries<br>Compound<br>Category: NON OTHERWISE SPECIFIED"
         ],
         "marker": {
          "color": "white",
          "line": {
           "color": "rgb(248, 156, 116)",
           "width": 1
          },
          "symbol": "circle"
         },
         "mode": "markers",
         "r": [
          7,
          7,
          7,
          7,
          7
         ],
         "showlegend": false,
         "theta": [
          "S10",
          "S48",
          "S39",
          "S03",
          "S53"
         ],
         "type": "scatterpolar"
        },
        {
         "fill": "toself",
         "fillcolor": "white",
         "line": {
          "color": "white",
          "width": 0
         },
         "r": [
          6.2,
          6.2,
          6.2,
          6.2,
          6.2,
          6.2,
          6.2,
          6.2,
          6.2,
          6.2,
          6.2,
          6.2,
          6.2,
          6.2,
          6.2,
          6.2,
          6.2,
          6.2,
          6.2,
          6.2,
          6.2,
          6.2,
          6.2,
          6.2,
          6.2,
          6.2,
          6.2,
          6.2,
          6.2,
          6.2,
          6.2,
          6.2,
          6.2,
          6.2,
          6.2,
          6.2,
          6.2,
          6.2,
          6.2,
          6.2,
          6.2,
          6.2,
          6.2,
          6.2,
          6.2,
          6.2,
          6.2,
          6.2,
          6.2,
          6.2,
          6.2,
          6.2,
          6.2,
          6.2,
          6.2,
          6.2,
          6.2,
          6.2,
          6.2,
          6.2
         ],
         "showlegend": false,
         "theta": [
          "S01",
          "S06",
          "S07",
          "S10",
          "S12",
          "S29",
          "S48",
          "S49",
          "S05",
          "S22",
          "S02",
          "S33",
          "S39",
          "S14",
          "S41",
          "S03",
          "S11",
          "S19",
          "S20",
          "S47",
          "S53",
          "S54",
          "S42",
          "S52",
          "S09",
          "S15",
          "S44",
          "S56",
          "S04",
          "S21",
          "S27",
          "S28",
          "S32",
          "S36",
          "S37",
          "S38",
          "S59",
          "S16",
          "S31",
          "S34",
          "S58",
          "S17",
          "S23",
          "S24",
          "S30",
          "S46",
          "S50",
          "S51",
          "S55",
          "S57",
          "S25",
          "S40",
          "S43",
          "S60",
          "S08",
          "S13",
          "S18",
          "S26",
          "S35",
          "S45"
         ],
         "type": "scatterpolar"
        }
       ],
       "layout": {
        "autosize": true,
        "height": 500,
        "legend": {
         "font": {
          "color": "black",
          "size": 10
         }
        },
        "paper_bgcolor": "rgba(0,0,0,0)",
        "plot_bgcolor": "rgba(0,0,0,0)",
        "polar": {
         "angularaxis": {
          "direction": "counterclockwise",
          "gridcolor": "lightgrey",
          "rotation": 90,
          "tickfont": {
           "size": 7
          }
         },
         "bgcolor": "white",
         "radialaxis": {
          "color": "lightgrey",
          "dtick": 1,
          "gridcolor": "lightgrey",
          "gridwidth": 1,
          "layer": "below traces",
          "linecolor": "lightgrey",
          "range": [
           0,
           21
          ],
          "showgrid": true,
          "tickfont": {
           "color": "rgba(0,0,0,0)"
          },
          "visible": true
         }
        },
        "template": {
         "data": {
          "bar": [
           {
            "error_x": {
             "color": "#2a3f5f"
            },
            "error_y": {
             "color": "#2a3f5f"
            },
            "marker": {
             "line": {
              "color": "#E5ECF6",
              "width": 0.5
             },
             "pattern": {
              "fillmode": "overlay",
              "size": 10,
              "solidity": 0.2
             }
            },
            "type": "bar"
           }
          ],
          "barpolar": [
           {
            "marker": {
             "line": {
              "color": "#E5ECF6",
              "width": 0.5
             },
             "pattern": {
              "fillmode": "overlay",
              "size": 10,
              "solidity": 0.2
             }
            },
            "type": "barpolar"
           }
          ],
          "carpet": [
           {
            "aaxis": {
             "endlinecolor": "#2a3f5f",
             "gridcolor": "white",
             "linecolor": "white",
             "minorgridcolor": "white",
             "startlinecolor": "#2a3f5f"
            },
            "baxis": {
             "endlinecolor": "#2a3f5f",
             "gridcolor": "white",
             "linecolor": "white",
             "minorgridcolor": "white",
             "startlinecolor": "#2a3f5f"
            },
            "type": "carpet"
           }
          ],
          "choropleth": [
           {
            "colorbar": {
             "outlinewidth": 0,
             "ticks": ""
            },
            "type": "choropleth"
           }
          ],
          "contour": [
           {
            "colorbar": {
             "outlinewidth": 0,
             "ticks": ""
            },
            "colorscale": [
             [
              0,
              "#0d0887"
             ],
             [
              0.1111111111111111,
              "#46039f"
             ],
             [
              0.2222222222222222,
              "#7201a8"
             ],
             [
              0.3333333333333333,
              "#9c179e"
             ],
             [
              0.4444444444444444,
              "#bd3786"
             ],
             [
              0.5555555555555556,
              "#d8576b"
             ],
             [
              0.6666666666666666,
              "#ed7953"
             ],
             [
              0.7777777777777778,
              "#fb9f3a"
             ],
             [
              0.8888888888888888,
              "#fdca26"
             ],
             [
              1,
              "#f0f921"
             ]
            ],
            "type": "contour"
           }
          ],
          "contourcarpet": [
           {
            "colorbar": {
             "outlinewidth": 0,
             "ticks": ""
            },
            "type": "contourcarpet"
           }
          ],
          "heatmap": [
           {
            "colorbar": {
             "outlinewidth": 0,
             "ticks": ""
            },
            "colorscale": [
             [
              0,
              "#0d0887"
             ],
             [
              0.1111111111111111,
              "#46039f"
             ],
             [
              0.2222222222222222,
              "#7201a8"
             ],
             [
              0.3333333333333333,
              "#9c179e"
             ],
             [
              0.4444444444444444,
              "#bd3786"
             ],
             [
              0.5555555555555556,
              "#d8576b"
             ],
             [
              0.6666666666666666,
              "#ed7953"
             ],
             [
              0.7777777777777778,
              "#fb9f3a"
             ],
             [
              0.8888888888888888,
              "#fdca26"
             ],
             [
              1,
              "#f0f921"
             ]
            ],
            "type": "heatmap"
           }
          ],
          "heatmapgl": [
           {
            "colorbar": {
             "outlinewidth": 0,
             "ticks": ""
            },
            "colorscale": [
             [
              0,
              "#0d0887"
             ],
             [
              0.1111111111111111,
              "#46039f"
             ],
             [
              0.2222222222222222,
              "#7201a8"
             ],
             [
              0.3333333333333333,
              "#9c179e"
             ],
             [
              0.4444444444444444,
              "#bd3786"
             ],
             [
              0.5555555555555556,
              "#d8576b"
             ],
             [
              0.6666666666666666,
              "#ed7953"
             ],
             [
              0.7777777777777778,
              "#fb9f3a"
             ],
             [
              0.8888888888888888,
              "#fdca26"
             ],
             [
              1,
              "#f0f921"
             ]
            ],
            "type": "heatmapgl"
           }
          ],
          "histogram": [
           {
            "marker": {
             "pattern": {
              "fillmode": "overlay",
              "size": 10,
              "solidity": 0.2
             }
            },
            "type": "histogram"
           }
          ],
          "histogram2d": [
           {
            "colorbar": {
             "outlinewidth": 0,
             "ticks": ""
            },
            "colorscale": [
             [
              0,
              "#0d0887"
             ],
             [
              0.1111111111111111,
              "#46039f"
             ],
             [
              0.2222222222222222,
              "#7201a8"
             ],
             [
              0.3333333333333333,
              "#9c179e"
             ],
             [
              0.4444444444444444,
              "#bd3786"
             ],
             [
              0.5555555555555556,
              "#d8576b"
             ],
             [
              0.6666666666666666,
              "#ed7953"
             ],
             [
              0.7777777777777778,
              "#fb9f3a"
             ],
             [
              0.8888888888888888,
              "#fdca26"
             ],
             [
              1,
              "#f0f921"
             ]
            ],
            "type": "histogram2d"
           }
          ],
          "histogram2dcontour": [
           {
            "colorbar": {
             "outlinewidth": 0,
             "ticks": ""
            },
            "colorscale": [
             [
              0,
              "#0d0887"
             ],
             [
              0.1111111111111111,
              "#46039f"
             ],
             [
              0.2222222222222222,
              "#7201a8"
             ],
             [
              0.3333333333333333,
              "#9c179e"
             ],
             [
              0.4444444444444444,
              "#bd3786"
             ],
             [
              0.5555555555555556,
              "#d8576b"
             ],
             [
              0.6666666666666666,
              "#ed7953"
             ],
             [
              0.7777777777777778,
              "#fb9f3a"
             ],
             [
              0.8888888888888888,
              "#fdca26"
             ],
             [
              1,
              "#f0f921"
             ]
            ],
            "type": "histogram2dcontour"
           }
          ],
          "mesh3d": [
           {
            "colorbar": {
             "outlinewidth": 0,
             "ticks": ""
            },
            "type": "mesh3d"
           }
          ],
          "parcoords": [
           {
            "line": {
             "colorbar": {
              "outlinewidth": 0,
              "ticks": ""
             }
            },
            "type": "parcoords"
           }
          ],
          "pie": [
           {
            "automargin": true,
            "type": "pie"
           }
          ],
          "scatter": [
           {
            "marker": {
             "colorbar": {
              "outlinewidth": 0,
              "ticks": ""
             }
            },
            "type": "scatter"
           }
          ],
          "scatter3d": [
           {
            "line": {
             "colorbar": {
              "outlinewidth": 0,
              "ticks": ""
             }
            },
            "marker": {
             "colorbar": {
              "outlinewidth": 0,
              "ticks": ""
             }
            },
            "type": "scatter3d"
           }
          ],
          "scattercarpet": [
           {
            "marker": {
             "colorbar": {
              "outlinewidth": 0,
              "ticks": ""
             }
            },
            "type": "scattercarpet"
           }
          ],
          "scattergeo": [
           {
            "marker": {
             "colorbar": {
              "outlinewidth": 0,
              "ticks": ""
             }
            },
            "type": "scattergeo"
           }
          ],
          "scattergl": [
           {
            "marker": {
             "colorbar": {
              "outlinewidth": 0,
              "ticks": ""
             }
            },
            "type": "scattergl"
           }
          ],
          "scattermapbox": [
           {
            "marker": {
             "colorbar": {
              "outlinewidth": 0,
              "ticks": ""
             }
            },
            "type": "scattermapbox"
           }
          ],
          "scatterpolar": [
           {
            "marker": {
             "colorbar": {
              "outlinewidth": 0,
              "ticks": ""
             }
            },
            "type": "scatterpolar"
           }
          ],
          "scatterpolargl": [
           {
            "marker": {
             "colorbar": {
              "outlinewidth": 0,
              "ticks": ""
             }
            },
            "type": "scatterpolargl"
           }
          ],
          "scatterternary": [
           {
            "marker": {
             "colorbar": {
              "outlinewidth": 0,
              "ticks": ""
             }
            },
            "type": "scatterternary"
           }
          ],
          "surface": [
           {
            "colorbar": {
             "outlinewidth": 0,
             "ticks": ""
            },
            "colorscale": [
             [
              0,
              "#0d0887"
             ],
             [
              0.1111111111111111,
              "#46039f"
             ],
             [
              0.2222222222222222,
              "#7201a8"
             ],
             [
              0.3333333333333333,
              "#9c179e"
             ],
             [
              0.4444444444444444,
              "#bd3786"
             ],
             [
              0.5555555555555556,
              "#d8576b"
             ],
             [
              0.6666666666666666,
              "#ed7953"
             ],
             [
              0.7777777777777778,
              "#fb9f3a"
             ],
             [
              0.8888888888888888,
              "#fdca26"
             ],
             [
              1,
              "#f0f921"
             ]
            ],
            "type": "surface"
           }
          ],
          "table": [
           {
            "cells": {
             "fill": {
              "color": "#EBF0F8"
             },
             "line": {
              "color": "white"
             }
            },
            "header": {
             "fill": {
              "color": "#C8D4E3"
             },
             "line": {
              "color": "white"
             }
            },
            "type": "table"
           }
          ]
         },
         "layout": {
          "annotationdefaults": {
           "arrowcolor": "#2a3f5f",
           "arrowhead": 0,
           "arrowwidth": 1
          },
          "autotypenumbers": "strict",
          "coloraxis": {
           "colorbar": {
            "outlinewidth": 0,
            "ticks": ""
           }
          },
          "colorscale": {
           "diverging": [
            [
             0,
             "#8e0152"
            ],
            [
             0.1,
             "#c51b7d"
            ],
            [
             0.2,
             "#de77ae"
            ],
            [
             0.3,
             "#f1b6da"
            ],
            [
             0.4,
             "#fde0ef"
            ],
            [
             0.5,
             "#f7f7f7"
            ],
            [
             0.6,
             "#e6f5d0"
            ],
            [
             0.7,
             "#b8e186"
            ],
            [
             0.8,
             "#7fbc41"
            ],
            [
             0.9,
             "#4d9221"
            ],
            [
             1,
             "#276419"
            ]
           ],
           "sequential": [
            [
             0,
             "#0d0887"
            ],
            [
             0.1111111111111111,
             "#46039f"
            ],
            [
             0.2222222222222222,
             "#7201a8"
            ],
            [
             0.3333333333333333,
             "#9c179e"
            ],
            [
             0.4444444444444444,
             "#bd3786"
            ],
            [
             0.5555555555555556,
             "#d8576b"
            ],
            [
             0.6666666666666666,
             "#ed7953"
            ],
            [
             0.7777777777777778,
             "#fb9f3a"
            ],
            [
             0.8888888888888888,
             "#fdca26"
            ],
            [
             1,
             "#f0f921"
            ]
           ],
           "sequentialminus": [
            [
             0,
             "#0d0887"
            ],
            [
             0.1111111111111111,
             "#46039f"
            ],
            [
             0.2222222222222222,
             "#7201a8"
            ],
            [
             0.3333333333333333,
             "#9c179e"
            ],
            [
             0.4444444444444444,
             "#bd3786"
            ],
            [
             0.5555555555555556,
             "#d8576b"
            ],
            [
             0.6666666666666666,
             "#ed7953"
            ],
            [
             0.7777777777777778,
             "#fb9f3a"
            ],
            [
             0.8888888888888888,
             "#fdca26"
            ],
            [
             1,
             "#f0f921"
            ]
           ]
          },
          "colorway": [
           "#636efa",
           "#EF553B",
           "#00cc96",
           "#ab63fa",
           "#FFA15A",
           "#19d3f3",
           "#FF6692",
           "#B6E880",
           "#FF97FF",
           "#FECB52"
          ],
          "font": {
           "color": "#2a3f5f"
          },
          "geo": {
           "bgcolor": "white",
           "lakecolor": "white",
           "landcolor": "#E5ECF6",
           "showlakes": true,
           "showland": true,
           "subunitcolor": "white"
          },
          "hoverlabel": {
           "align": "left"
          },
          "hovermode": "closest",
          "mapbox": {
           "style": "light"
          },
          "paper_bgcolor": "white",
          "plot_bgcolor": "#E5ECF6",
          "polar": {
           "angularaxis": {
            "gridcolor": "white",
            "linecolor": "white",
            "ticks": ""
           },
           "bgcolor": "#E5ECF6",
           "radialaxis": {
            "gridcolor": "white",
            "linecolor": "white",
            "ticks": ""
           }
          },
          "scene": {
           "xaxis": {
            "backgroundcolor": "#E5ECF6",
            "gridcolor": "white",
            "gridwidth": 2,
            "linecolor": "white",
            "showbackground": true,
            "ticks": "",
            "zerolinecolor": "white"
           },
           "yaxis": {
            "backgroundcolor": "#E5ECF6",
            "gridcolor": "white",
            "gridwidth": 2,
            "linecolor": "white",
            "showbackground": true,
            "ticks": "",
            "zerolinecolor": "white"
           },
           "zaxis": {
            "backgroundcolor": "#E5ECF6",
            "gridcolor": "white",
            "gridwidth": 2,
            "linecolor": "white",
            "showbackground": true,
            "ticks": "",
            "zerolinecolor": "white"
           }
          },
          "shapedefaults": {
           "line": {
            "color": "#2a3f5f"
           }
          },
          "ternary": {
           "aaxis": {
            "gridcolor": "white",
            "linecolor": "white",
            "ticks": ""
           },
           "baxis": {
            "gridcolor": "white",
            "linecolor": "white",
            "ticks": ""
           },
           "bgcolor": "#E5ECF6",
           "caxis": {
            "gridcolor": "white",
            "linecolor": "white",
            "ticks": ""
           }
          },
          "title": {
           "x": 0.05
          },
          "xaxis": {
           "automargin": true,
           "gridcolor": "white",
           "linecolor": "white",
           "ticks": "",
           "title": {
            "standoff": 15
           },
           "zerolinecolor": "white",
           "zerolinewidth": 2
          },
          "yaxis": {
           "automargin": true,
           "gridcolor": "white",
           "linecolor": "white",
           "ticks": "",
           "title": {
            "standoff": 15
           },
           "zerolinecolor": "white",
           "zerolinewidth": 2
          }
         }
        },
        "width": 600
       }
      }
     },
     "metadata": {},
     "output_type": "display_data"
    }
   ],
   "source": [
    "###\n",
    "# PARAMETERS\n",
    "###\n",
    "if experiment == \"Fried2017\" :\n",
    "    max_radius = 13\n",
    "elif experiment == \"GauldMartin2022\" : \n",
    "    max_radius = 20 # maximum radius on the final figure\n",
    "else : \n",
    "    max_radius = 100 # <- /!\\ value to set /!\\ !!!\n",
    "min_radius = 6.2 # minimum intern radius\n",
    "\n",
    "# dictionnary questionnaire <->  radius of the circles\n",
    "dic = {}\n",
    "i = max_radius\n",
    "for scale in df_col.variable.unique() : \n",
    "    dic[scale] = i\n",
    "    i-=1\n",
    "\n",
    "# dictionnary scale <-> color\n",
    "palette = px.colors.qualitative.Pastel # choice of the palette. More choice in the following documentation : https://plotly.com/python/builtin-colorscales/\n",
    "i = 0\n",
    "dic_color = {}\n",
    "# circular attribution of the colors (at the end of the palette, we go back to the beginning)\n",
    "for scale in df_col['variable'].unique() : \n",
    "    if i>len(palette)-1 : \n",
    "        i = 0\n",
    "    dic_color[scale] =palette[i]\n",
    "    i+=1\n",
    "\n",
    "###\n",
    "# FIGURE\n",
    "###\n",
    "    \n",
    "fig = go.Figure()\n",
    "# transparency plot with all the symptoms to set their order in the plot\n",
    "fig.add_trace(go.Scatterpolar(\n",
    "            r = [0 for k in range(len(df.index))], # list of radiuses\n",
    "            theta = df.Ab, # list of angles\n",
    "            mode = 'markers',\n",
    "            showlegend = False, # no legend thanks\n",
    "        opacity = 0.0, # everything transparent !\n",
    "    ))\n",
    "\n",
    "if df.shape[0] == df['Category'].isnull().sum() : \n",
    "    df_col.loc[:,'Category'] = \"\"\n",
    "\n",
    "### specific symptoms (value == 1)\n",
    "df_spe = df_col[df_col.value == 1].copy() # we isolate only the specific symptoms\n",
    "for scale in df_spe.variable.unique() : \n",
    "    temp = df_spe[df_spe.variable==scale] # dataframe with the data of each scale\n",
    "    fig.add_trace(go.Scatterpolar(\n",
    "            r = [dic[scale] for k in range(temp.shape[0])], # constant radius corresponding to the dictionnary value\n",
    "            theta = temp.Ab, # angle = symptom \n",
    "            mode = 'markers',\n",
    "        name = scale, # name in the legend\n",
    "        hoverinfo=\"text\", # type of hover. 'text' means that we design it by hand.\n",
    "        hovertext= \"Scale: \"+scale+\"<br>\"+\"Sympt.:\"+temp.Symptom + \"<br>Specific\"+\"<br>Category: \"+temp.Category, # \\n is <br> (html)\n",
    "        # if category column in not empty\n",
    "        \n",
    "        opacity = 1.0,\n",
    "        marker=dict( #property of the markers\n",
    "            color = dic_color[scale], # color depending on the scale \n",
    "            symbol = \"circle\", # we want filled circles\n",
    "            line=dict( # property of the line of the markers\n",
    "                width=0 # we do not want line !\n",
    "            ))\n",
    "    ))\n",
    "\n",
    "### component symptoms (=2)\n",
    "df_comp = df_col[df_col.value == 2].copy()# we isolate only the compound symptoms\n",
    "for scale in df_comp.variable.unique() : \n",
    "    temp = df_comp[df_comp.variable==scale] # dataframe with the data of each scale\n",
    "    fig.add_trace(go.Scatterpolar(\n",
    "            r = [dic[scale] for k in range(temp.shape[0])], # constant radius corresponding to the dictionnary value\n",
    "            theta = temp.Ab,  # angle = symptom \n",
    "            mode = 'markers',\n",
    "        hoverinfo=\"text\",\n",
    "        hovertext= \"Scale: \"+scale+\"<br>\"+\"Sympt.:\"+temp.Symptom + \"<br>Compound\"+\"<br>Category: \"+temp.Category, # \\n is <br> (html)\n",
    "        showlegend = False, # no legend\n",
    "        marker=dict( # properties of the markers\n",
    "            color = 'white', # white circle with color line\n",
    "            symbol = \"circle\",\n",
    "            line=dict(\n",
    "                color=dic_color[scale], # color of the line\n",
    "                width=1, # width of the line\n",
    "         ))\n",
    "    ))\n",
    "    i+=1\n",
    "    \n",
    "### white circle in the center\n",
    "fig.add_trace(go.Scatterpolar(\n",
    "    r=[min_radius for k in range (len(df.Ab))], # radius of the circle = min_radius (set before)\n",
    "    theta=df.Ab, # all angles\n",
    "    fill='toself',\n",
    "    fillcolor = \"white\", # color of the circle\n",
    "    showlegend = False, # no legend\n",
    "    line=dict(\n",
    "    color=\"white\",\n",
    "    width=0, # no line\n",
    "        ))\n",
    ")\n",
    "\n",
    "\n",
    "### Set options common to all traces with fig.update_traces\n",
    "\n",
    "fig.update_polars(bgcolor='white')\n",
    "fig.update_layout(\n",
    "    autosize=True, # to allow or not autosize\n",
    "    width=600, # width of the figure\n",
    "    height=500, # height of the figure\n",
    "    paper_bgcolor = 'rgba(0,0,0,0)', plot_bgcolor= 'rgba(0,0,0,0)',# background color\n",
    "    polar = dict( #options for the polar plot\n",
    "          radialaxis = dict(visible = True, # allowing radius lines  \n",
    "                            color=\"lightgrey\", # color of the lines\n",
    "                            gridcolor = \"lightgrey\", # color of the grid\n",
    "                            linecolor=\"lightgrey\", #color of the lines\n",
    "                            gridwidth = 1, # step in the grid\n",
    "                            range=[0, max_radius+1], # range of the grid\n",
    "                            dtick=1, # step in the grid\n",
    "                            showgrid =True, # showing the grid\n",
    "                            layer=\"below traces\", # put the grid below traces\n",
    "                            tickfont_color ='rgba(0,0,0,0)'),# putting tickfont into white to make them disappear\n",
    "          angularaxis = dict(\n",
    "        gridcolor = \"lightgrey\", # color of the angular grid\n",
    "        tickfont_size=7, # font size of labels (ex. \"S01\")\n",
    "        rotation=90, # start position of angular axis \n",
    "        direction=\"counterclockwise\" # changin direction to align with Fried et al. \n",
    "        )),\n",
    "        legend = dict(font = dict(size = 10, color = \"black\")) # size and color of the legend\n",
    ")\n",
    "\n",
    "\n",
    "fig.write_image(\"figure4_radial.pdf\") #saving figure into a file\n",
    "fig.show() # showing figure"
   ]
  },
  {
   "attachments": {},
   "cell_type": "markdown",
   "metadata": {
    "id": "dgGMcg8IvzX6"
   },
   "source": [
    "The figure has been save in the online folder (📁 symbol on the left) under the name [figure4_radial.pdf](figure4_radial.pdf). You can change the name and the format of the file changing the name in the `fig.write_image()` function. \n",
    "<br>⚠️ If you need it, save the figure on your local computer : these online file will be deleted as soon as you quit this page!"
   ]
  },
  {
   "attachments": {},
   "cell_type": "markdown",
   "metadata": {
    "id": "diFlIHLzPFRp"
   },
   "source": [
    "## Overlap between questionnaires - Jaccard Index"
   ]
  },
  {
   "cell_type": "markdown",
   "metadata": {
    "id": "YZ-EHm68I3aO"
   },
   "source": [
    "In order to estimate the overlap between the symptoms measured by the questionnes, calculate the Jaccard index, which is defined as the number of symmtoms that are measured by both questionnaires, divided by the number of unique symptoms measured both questionnaires."
   ]
  },
  {
   "attachments": {},
   "cell_type": "markdown",
   "metadata": {
    "id": "zN-BHyPUw2dF"
   },
   "source": [
    "### Jaccard index of symptom for each pair of questionnaire\n",
    "First, we compute the Jaccard index for each pair of questionnaires and plot it using a heatmap."
   ]
  },
  {
   "cell_type": "code",
   "execution_count": 50,
   "metadata": {
    "colab": {
     "base_uri": "https://localhost:8080/",
     "height": 817
    },
    "id": "FwVQmC77NrTO",
    "outputId": "d1e4920c-d090-4b55-f3d9-a7615a208287"
   },
   "outputs": [
    {
     "data": {
      "text/html": [
       "<div>\n",
       "<style scoped>\n",
       "    .dataframe tbody tr th:only-of-type {\n",
       "        vertical-align: middle;\n",
       "    }\n",
       "\n",
       "    .dataframe tbody tr th {\n",
       "        vertical-align: top;\n",
       "    }\n",
       "\n",
       "    .dataframe thead th {\n",
       "        text-align: right;\n",
       "    }\n",
       "</style>\n",
       "<table border=\"1\" class=\"dataframe\">\n",
       "  <thead>\n",
       "    <tr style=\"text-align: right;\">\n",
       "      <th></th>\n",
       "      <th>ICSD</th>\n",
       "      <th>DSM</th>\n",
       "      <th>SDQ</th>\n",
       "      <th>Sleep50</th>\n",
       "      <th>ASQ</th>\n",
       "      <th>SDS-CL-25</th>\n",
       "      <th>HSDQ</th>\n",
       "      <th>PSQI</th>\n",
       "      <th>ISDI</th>\n",
       "      <th>GSAQ</th>\n",
       "      <th>SDS-CL-17</th>\n",
       "      <th>SSC</th>\n",
       "      <th>BNSQ</th>\n",
       "      <th>OSQ</th>\n",
       "    </tr>\n",
       "  </thead>\n",
       "  <tbody>\n",
       "    <tr>\n",
       "      <th>ICSD</th>\n",
       "      <td>1.000000</td>\n",
       "      <td>0.723404</td>\n",
       "      <td>0.553571</td>\n",
       "      <td>0.500000</td>\n",
       "      <td>0.436364</td>\n",
       "      <td>0.500000</td>\n",
       "      <td>0.423077</td>\n",
       "      <td>0.333333</td>\n",
       "      <td>0.365385</td>\n",
       "      <td>0.352941</td>\n",
       "      <td>0.416667</td>\n",
       "      <td>0.269231</td>\n",
       "      <td>0.254902</td>\n",
       "      <td>0.230769</td>\n",
       "    </tr>\n",
       "    <tr>\n",
       "      <th>DSM</th>\n",
       "      <td>0.723404</td>\n",
       "      <td>1.000000</td>\n",
       "      <td>0.480000</td>\n",
       "      <td>0.511111</td>\n",
       "      <td>0.434783</td>\n",
       "      <td>0.550000</td>\n",
       "      <td>0.525000</td>\n",
       "      <td>0.404762</td>\n",
       "      <td>0.414634</td>\n",
       "      <td>0.365854</td>\n",
       "      <td>0.571429</td>\n",
       "      <td>0.292683</td>\n",
       "      <td>0.342105</td>\n",
       "      <td>0.307692</td>\n",
       "    </tr>\n",
       "    <tr>\n",
       "      <th>SDQ</th>\n",
       "      <td>0.553571</td>\n",
       "      <td>0.480000</td>\n",
       "      <td>1.000000</td>\n",
       "      <td>0.644444</td>\n",
       "      <td>0.636364</td>\n",
       "      <td>0.478261</td>\n",
       "      <td>0.522727</td>\n",
       "      <td>0.382979</td>\n",
       "      <td>0.488372</td>\n",
       "      <td>0.377778</td>\n",
       "      <td>0.355556</td>\n",
       "      <td>0.372093</td>\n",
       "      <td>0.325581</td>\n",
       "      <td>0.357143</td>\n",
       "    </tr>\n",
       "    <tr>\n",
       "      <th>Sleep50</th>\n",
       "      <td>0.500000</td>\n",
       "      <td>0.511111</td>\n",
       "      <td>0.644444</td>\n",
       "      <td>1.000000</td>\n",
       "      <td>0.571429</td>\n",
       "      <td>0.631579</td>\n",
       "      <td>0.605263</td>\n",
       "      <td>0.404762</td>\n",
       "      <td>0.487179</td>\n",
       "      <td>0.400000</td>\n",
       "      <td>0.486486</td>\n",
       "      <td>0.394737</td>\n",
       "      <td>0.378378</td>\n",
       "      <td>0.378378</td>\n",
       "    </tr>\n",
       "    <tr>\n",
       "      <th>ASQ</th>\n",
       "      <td>0.436364</td>\n",
       "      <td>0.434783</td>\n",
       "      <td>0.636364</td>\n",
       "      <td>0.571429</td>\n",
       "      <td>1.000000</td>\n",
       "      <td>0.463415</td>\n",
       "      <td>0.512821</td>\n",
       "      <td>0.425000</td>\n",
       "      <td>0.473684</td>\n",
       "      <td>0.421053</td>\n",
       "      <td>0.358974</td>\n",
       "      <td>0.416667</td>\n",
       "      <td>0.361111</td>\n",
       "      <td>0.441176</td>\n",
       "    </tr>\n",
       "    <tr>\n",
       "      <th>SDS-CL-25</th>\n",
       "      <td>0.500000</td>\n",
       "      <td>0.550000</td>\n",
       "      <td>0.478261</td>\n",
       "      <td>0.631579</td>\n",
       "      <td>0.463415</td>\n",
       "      <td>1.000000</td>\n",
       "      <td>0.527778</td>\n",
       "      <td>0.394737</td>\n",
       "      <td>0.368421</td>\n",
       "      <td>0.388889</td>\n",
       "      <td>0.750000</td>\n",
       "      <td>0.382353</td>\n",
       "      <td>0.406250</td>\n",
       "      <td>0.363636</td>\n",
       "    </tr>\n",
       "    <tr>\n",
       "      <th>HSDQ</th>\n",
       "      <td>0.423077</td>\n",
       "      <td>0.525000</td>\n",
       "      <td>0.522727</td>\n",
       "      <td>0.605263</td>\n",
       "      <td>0.512821</td>\n",
       "      <td>0.527778</td>\n",
       "      <td>1.000000</td>\n",
       "      <td>0.368421</td>\n",
       "      <td>0.645161</td>\n",
       "      <td>0.484848</td>\n",
       "      <td>0.454545</td>\n",
       "      <td>0.437500</td>\n",
       "      <td>0.375000</td>\n",
       "      <td>0.466667</td>\n",
       "    </tr>\n",
       "    <tr>\n",
       "      <th>PSQI</th>\n",
       "      <td>0.333333</td>\n",
       "      <td>0.404762</td>\n",
       "      <td>0.382979</td>\n",
       "      <td>0.404762</td>\n",
       "      <td>0.425000</td>\n",
       "      <td>0.394737</td>\n",
       "      <td>0.368421</td>\n",
       "      <td>1.000000</td>\n",
       "      <td>0.400000</td>\n",
       "      <td>0.424242</td>\n",
       "      <td>0.393939</td>\n",
       "      <td>0.419355</td>\n",
       "      <td>0.500000</td>\n",
       "      <td>0.448276</td>\n",
       "    </tr>\n",
       "    <tr>\n",
       "      <th>ISDI</th>\n",
       "      <td>0.365385</td>\n",
       "      <td>0.414634</td>\n",
       "      <td>0.488372</td>\n",
       "      <td>0.487179</td>\n",
       "      <td>0.473684</td>\n",
       "      <td>0.368421</td>\n",
       "      <td>0.645161</td>\n",
       "      <td>0.400000</td>\n",
       "      <td>1.000000</td>\n",
       "      <td>0.483871</td>\n",
       "      <td>0.363636</td>\n",
       "      <td>0.535714</td>\n",
       "      <td>0.322581</td>\n",
       "      <td>0.518519</td>\n",
       "    </tr>\n",
       "    <tr>\n",
       "      <th>GSAQ</th>\n",
       "      <td>0.352941</td>\n",
       "      <td>0.365854</td>\n",
       "      <td>0.377778</td>\n",
       "      <td>0.400000</td>\n",
       "      <td>0.421053</td>\n",
       "      <td>0.388889</td>\n",
       "      <td>0.484848</td>\n",
       "      <td>0.424242</td>\n",
       "      <td>0.483871</td>\n",
       "      <td>1.000000</td>\n",
       "      <td>0.387097</td>\n",
       "      <td>0.464286</td>\n",
       "      <td>0.300000</td>\n",
       "      <td>0.392857</td>\n",
       "    </tr>\n",
       "    <tr>\n",
       "      <th>SDS-CL-17</th>\n",
       "      <td>0.416667</td>\n",
       "      <td>0.571429</td>\n",
       "      <td>0.355556</td>\n",
       "      <td>0.486486</td>\n",
       "      <td>0.358974</td>\n",
       "      <td>0.750000</td>\n",
       "      <td>0.454545</td>\n",
       "      <td>0.393939</td>\n",
       "      <td>0.363636</td>\n",
       "      <td>0.387097</td>\n",
       "      <td>1.000000</td>\n",
       "      <td>0.379310</td>\n",
       "      <td>0.407407</td>\n",
       "      <td>0.357143</td>\n",
       "    </tr>\n",
       "    <tr>\n",
       "      <th>SSC</th>\n",
       "      <td>0.269231</td>\n",
       "      <td>0.292683</td>\n",
       "      <td>0.372093</td>\n",
       "      <td>0.394737</td>\n",
       "      <td>0.416667</td>\n",
       "      <td>0.382353</td>\n",
       "      <td>0.437500</td>\n",
       "      <td>0.419355</td>\n",
       "      <td>0.535714</td>\n",
       "      <td>0.464286</td>\n",
       "      <td>0.379310</td>\n",
       "      <td>1.000000</td>\n",
       "      <td>0.333333</td>\n",
       "      <td>0.440000</td>\n",
       "    </tr>\n",
       "    <tr>\n",
       "      <th>BNSQ</th>\n",
       "      <td>0.254902</td>\n",
       "      <td>0.342105</td>\n",
       "      <td>0.325581</td>\n",
       "      <td>0.378378</td>\n",
       "      <td>0.361111</td>\n",
       "      <td>0.406250</td>\n",
       "      <td>0.375000</td>\n",
       "      <td>0.500000</td>\n",
       "      <td>0.322581</td>\n",
       "      <td>0.300000</td>\n",
       "      <td>0.407407</td>\n",
       "      <td>0.333333</td>\n",
       "      <td>1.000000</td>\n",
       "      <td>0.416667</td>\n",
       "    </tr>\n",
       "    <tr>\n",
       "      <th>OSQ</th>\n",
       "      <td>0.230769</td>\n",
       "      <td>0.307692</td>\n",
       "      <td>0.357143</td>\n",
       "      <td>0.378378</td>\n",
       "      <td>0.441176</td>\n",
       "      <td>0.363636</td>\n",
       "      <td>0.466667</td>\n",
       "      <td>0.448276</td>\n",
       "      <td>0.518519</td>\n",
       "      <td>0.392857</td>\n",
       "      <td>0.357143</td>\n",
       "      <td>0.440000</td>\n",
       "      <td>0.416667</td>\n",
       "      <td>1.000000</td>\n",
       "    </tr>\n",
       "  </tbody>\n",
       "</table>\n",
       "</div>"
      ],
      "text/plain": [
       "               ICSD       DSM       SDQ   Sleep50       ASQ  SDS-CL-25  \\\n",
       "ICSD       1.000000  0.723404  0.553571  0.500000  0.436364   0.500000   \n",
       "DSM        0.723404  1.000000  0.480000  0.511111  0.434783   0.550000   \n",
       "SDQ        0.553571  0.480000  1.000000  0.644444  0.636364   0.478261   \n",
       "Sleep50    0.500000  0.511111  0.644444  1.000000  0.571429   0.631579   \n",
       "ASQ        0.436364  0.434783  0.636364  0.571429  1.000000   0.463415   \n",
       "SDS-CL-25  0.500000  0.550000  0.478261  0.631579  0.463415   1.000000   \n",
       "HSDQ       0.423077  0.525000  0.522727  0.605263  0.512821   0.527778   \n",
       "PSQI       0.333333  0.404762  0.382979  0.404762  0.425000   0.394737   \n",
       "ISDI       0.365385  0.414634  0.488372  0.487179  0.473684   0.368421   \n",
       "GSAQ       0.352941  0.365854  0.377778  0.400000  0.421053   0.388889   \n",
       "SDS-CL-17  0.416667  0.571429  0.355556  0.486486  0.358974   0.750000   \n",
       "SSC        0.269231  0.292683  0.372093  0.394737  0.416667   0.382353   \n",
       "BNSQ       0.254902  0.342105  0.325581  0.378378  0.361111   0.406250   \n",
       "OSQ        0.230769  0.307692  0.357143  0.378378  0.441176   0.363636   \n",
       "\n",
       "               HSDQ      PSQI      ISDI      GSAQ  SDS-CL-17       SSC  \\\n",
       "ICSD       0.423077  0.333333  0.365385  0.352941   0.416667  0.269231   \n",
       "DSM        0.525000  0.404762  0.414634  0.365854   0.571429  0.292683   \n",
       "SDQ        0.522727  0.382979  0.488372  0.377778   0.355556  0.372093   \n",
       "Sleep50    0.605263  0.404762  0.487179  0.400000   0.486486  0.394737   \n",
       "ASQ        0.512821  0.425000  0.473684  0.421053   0.358974  0.416667   \n",
       "SDS-CL-25  0.527778  0.394737  0.368421  0.388889   0.750000  0.382353   \n",
       "HSDQ       1.000000  0.368421  0.645161  0.484848   0.454545  0.437500   \n",
       "PSQI       0.368421  1.000000  0.400000  0.424242   0.393939  0.419355   \n",
       "ISDI       0.645161  0.400000  1.000000  0.483871   0.363636  0.535714   \n",
       "GSAQ       0.484848  0.424242  0.483871  1.000000   0.387097  0.464286   \n",
       "SDS-CL-17  0.454545  0.393939  0.363636  0.387097   1.000000  0.379310   \n",
       "SSC        0.437500  0.419355  0.535714  0.464286   0.379310  1.000000   \n",
       "BNSQ       0.375000  0.500000  0.322581  0.300000   0.407407  0.333333   \n",
       "OSQ        0.466667  0.448276  0.518519  0.392857   0.357143  0.440000   \n",
       "\n",
       "               BNSQ      OSQ   \n",
       "ICSD       0.254902  0.230769  \n",
       "DSM        0.342105  0.307692  \n",
       "SDQ        0.325581  0.357143  \n",
       "Sleep50    0.378378  0.378378  \n",
       "ASQ        0.361111  0.441176  \n",
       "SDS-CL-25  0.406250  0.363636  \n",
       "HSDQ       0.375000  0.466667  \n",
       "PSQI       0.500000  0.448276  \n",
       "ISDI       0.322581  0.518519  \n",
       "GSAQ       0.300000  0.392857  \n",
       "SDS-CL-17  0.407407  0.357143  \n",
       "SSC        0.333333  0.440000  \n",
       "BNSQ       1.000000  0.416667  \n",
       "OSQ        0.416667  1.000000  "
      ]
     },
     "metadata": {},
     "output_type": "display_data"
    }
   ],
   "source": [
    "###\n",
    "# Computing the table\n",
    "###\n",
    "jaccard_table = pd.DataFrame(np.zeros((df.shape[1]-4,df.shape[1]-4)), index = df.columns[3:-1], columns = df.columns[3:-1]) # df.columns[3:-1] : questionnaires without header\n",
    "for questionnaire1 in df.columns[3:-1] : \n",
    "  for questionnaire2 in df.columns[3:-1] : \n",
    "    jaccard_table.loc[questionnaire1, questionnaire2] = jaccard_score(df[questionnaire1]>=1, df[questionnaire2]>=1)\n",
    "    \n",
    "display(jaccard_table)\n",
    "jaccard_table.to_excel(\"table3_jaccard_pairs.xlsx\")"
   ]
  },
  {
   "cell_type": "markdown",
   "metadata": {
    "id": "dgGMcg8IvzX6"
   },
   "source": [
    "Table 3 has been save in the online folder (📁 symbol on the left) under the name [table3_jaccard_pairs.xlsx](./table3_jaccard_pairs.xlsx). <br>You can change the name and the format of the file changing the name in the `jaccard_table.to_excel()` function. \n",
    "<br>⚠️ If you need it, save the excel file on your local computer : these online file will be deleted as soon as you quit this page!"
   ]
  },
  {
   "cell_type": "code",
   "execution_count": 51,
   "metadata": {},
   "outputs": [
    {
     "data": {
      "application/vnd.plotly.v1+json": {
       "config": {
        "plotlyServerURL": "https://plotly.com"
       },
       "data": [
        {
         "coloraxis": "coloraxis",
         "hovertemplate": "x: %{x}<br>y: %{y}<br>color: %{z}<extra></extra>",
         "name": "0",
         "texttemplate": "%{z}",
         "type": "heatmap",
         "x": [
          "ICSD",
          "DSM",
          "SDQ",
          "Sleep50",
          "ASQ",
          "SDS-CL-25",
          "HSDQ",
          "PSQI",
          "ISDI",
          "GSAQ",
          "SDS-CL-17",
          "SSC",
          "BNSQ",
          "OSQ "
         ],
         "xaxis": "x",
         "y": [
          "ICSD",
          "DSM",
          "SDQ",
          "Sleep50",
          "ASQ",
          "SDS-CL-25",
          "HSDQ",
          "PSQI",
          "ISDI",
          "GSAQ",
          "SDS-CL-17",
          "SSC",
          "BNSQ",
          "OSQ "
         ],
         "yaxis": "y",
         "z": [
          [
           1,
           0.723,
           0.554,
           0.5,
           0.436,
           0.5,
           0.423,
           0.333,
           0.365,
           0.353,
           0.417,
           0.269,
           0.255,
           0.231
          ],
          [
           0.723,
           1,
           0.48,
           0.511,
           0.435,
           0.55,
           0.525,
           0.405,
           0.415,
           0.366,
           0.571,
           0.293,
           0.342,
           0.308
          ],
          [
           0.554,
           0.48,
           1,
           0.644,
           0.636,
           0.478,
           0.523,
           0.383,
           0.488,
           0.378,
           0.356,
           0.372,
           0.326,
           0.357
          ],
          [
           0.5,
           0.511,
           0.644,
           1,
           0.571,
           0.632,
           0.605,
           0.405,
           0.487,
           0.4,
           0.486,
           0.395,
           0.378,
           0.378
          ],
          [
           0.436,
           0.435,
           0.636,
           0.571,
           1,
           0.463,
           0.513,
           0.425,
           0.474,
           0.421,
           0.359,
           0.417,
           0.361,
           0.441
          ],
          [
           0.5,
           0.55,
           0.478,
           0.632,
           0.463,
           1,
           0.528,
           0.395,
           0.368,
           0.389,
           0.75,
           0.382,
           0.406,
           0.364
          ],
          [
           0.423,
           0.525,
           0.523,
           0.605,
           0.513,
           0.528,
           1,
           0.368,
           0.645,
           0.485,
           0.455,
           0.438,
           0.375,
           0.467
          ],
          [
           0.333,
           0.405,
           0.383,
           0.405,
           0.425,
           0.395,
           0.368,
           1,
           0.4,
           0.424,
           0.394,
           0.419,
           0.5,
           0.448
          ],
          [
           0.365,
           0.415,
           0.488,
           0.487,
           0.474,
           0.368,
           0.645,
           0.4,
           1,
           0.484,
           0.364,
           0.536,
           0.323,
           0.519
          ],
          [
           0.353,
           0.366,
           0.378,
           0.4,
           0.421,
           0.389,
           0.485,
           0.424,
           0.484,
           1,
           0.387,
           0.464,
           0.3,
           0.393
          ],
          [
           0.417,
           0.571,
           0.356,
           0.486,
           0.359,
           0.75,
           0.455,
           0.394,
           0.364,
           0.387,
           1,
           0.379,
           0.407,
           0.357
          ],
          [
           0.269,
           0.293,
           0.372,
           0.395,
           0.417,
           0.382,
           0.438,
           0.419,
           0.536,
           0.464,
           0.379,
           1,
           0.333,
           0.44
          ],
          [
           0.255,
           0.342,
           0.326,
           0.378,
           0.361,
           0.406,
           0.375,
           0.5,
           0.323,
           0.3,
           0.407,
           0.333,
           1,
           0.417
          ],
          [
           0.231,
           0.308,
           0.357,
           0.378,
           0.441,
           0.364,
           0.467,
           0.448,
           0.519,
           0.393,
           0.357,
           0.44,
           0.417,
           1
          ]
         ]
        }
       ],
       "layout": {
        "autosize": false,
        "coloraxis": {
         "colorscale": [
          [
           0,
           "rgb(12,51,131)"
          ],
          [
           0.25,
           "rgb(10,136,186)"
          ],
          [
           0.5,
           "rgb(242,211,56)"
          ],
          [
           0.75,
           "rgb(242,143,56)"
          ],
          [
           1,
           "rgb(217,30,30)"
          ]
         ]
        },
        "height": 800,
        "margin": {
         "t": 60
        },
        "template": {
         "data": {
          "bar": [
           {
            "error_x": {
             "color": "#2a3f5f"
            },
            "error_y": {
             "color": "#2a3f5f"
            },
            "marker": {
             "line": {
              "color": "#E5ECF6",
              "width": 0.5
             },
             "pattern": {
              "fillmode": "overlay",
              "size": 10,
              "solidity": 0.2
             }
            },
            "type": "bar"
           }
          ],
          "barpolar": [
           {
            "marker": {
             "line": {
              "color": "#E5ECF6",
              "width": 0.5
             },
             "pattern": {
              "fillmode": "overlay",
              "size": 10,
              "solidity": 0.2
             }
            },
            "type": "barpolar"
           }
          ],
          "carpet": [
           {
            "aaxis": {
             "endlinecolor": "#2a3f5f",
             "gridcolor": "white",
             "linecolor": "white",
             "minorgridcolor": "white",
             "startlinecolor": "#2a3f5f"
            },
            "baxis": {
             "endlinecolor": "#2a3f5f",
             "gridcolor": "white",
             "linecolor": "white",
             "minorgridcolor": "white",
             "startlinecolor": "#2a3f5f"
            },
            "type": "carpet"
           }
          ],
          "choropleth": [
           {
            "colorbar": {
             "outlinewidth": 0,
             "ticks": ""
            },
            "type": "choropleth"
           }
          ],
          "contour": [
           {
            "colorbar": {
             "outlinewidth": 0,
             "ticks": ""
            },
            "colorscale": [
             [
              0,
              "#0d0887"
             ],
             [
              0.1111111111111111,
              "#46039f"
             ],
             [
              0.2222222222222222,
              "#7201a8"
             ],
             [
              0.3333333333333333,
              "#9c179e"
             ],
             [
              0.4444444444444444,
              "#bd3786"
             ],
             [
              0.5555555555555556,
              "#d8576b"
             ],
             [
              0.6666666666666666,
              "#ed7953"
             ],
             [
              0.7777777777777778,
              "#fb9f3a"
             ],
             [
              0.8888888888888888,
              "#fdca26"
             ],
             [
              1,
              "#f0f921"
             ]
            ],
            "type": "contour"
           }
          ],
          "contourcarpet": [
           {
            "colorbar": {
             "outlinewidth": 0,
             "ticks": ""
            },
            "type": "contourcarpet"
           }
          ],
          "heatmap": [
           {
            "colorbar": {
             "outlinewidth": 0,
             "ticks": ""
            },
            "colorscale": [
             [
              0,
              "#0d0887"
             ],
             [
              0.1111111111111111,
              "#46039f"
             ],
             [
              0.2222222222222222,
              "#7201a8"
             ],
             [
              0.3333333333333333,
              "#9c179e"
             ],
             [
              0.4444444444444444,
              "#bd3786"
             ],
             [
              0.5555555555555556,
              "#d8576b"
             ],
             [
              0.6666666666666666,
              "#ed7953"
             ],
             [
              0.7777777777777778,
              "#fb9f3a"
             ],
             [
              0.8888888888888888,
              "#fdca26"
             ],
             [
              1,
              "#f0f921"
             ]
            ],
            "type": "heatmap"
           }
          ],
          "heatmapgl": [
           {
            "colorbar": {
             "outlinewidth": 0,
             "ticks": ""
            },
            "colorscale": [
             [
              0,
              "#0d0887"
             ],
             [
              0.1111111111111111,
              "#46039f"
             ],
             [
              0.2222222222222222,
              "#7201a8"
             ],
             [
              0.3333333333333333,
              "#9c179e"
             ],
             [
              0.4444444444444444,
              "#bd3786"
             ],
             [
              0.5555555555555556,
              "#d8576b"
             ],
             [
              0.6666666666666666,
              "#ed7953"
             ],
             [
              0.7777777777777778,
              "#fb9f3a"
             ],
             [
              0.8888888888888888,
              "#fdca26"
             ],
             [
              1,
              "#f0f921"
             ]
            ],
            "type": "heatmapgl"
           }
          ],
          "histogram": [
           {
            "marker": {
             "pattern": {
              "fillmode": "overlay",
              "size": 10,
              "solidity": 0.2
             }
            },
            "type": "histogram"
           }
          ],
          "histogram2d": [
           {
            "colorbar": {
             "outlinewidth": 0,
             "ticks": ""
            },
            "colorscale": [
             [
              0,
              "#0d0887"
             ],
             [
              0.1111111111111111,
              "#46039f"
             ],
             [
              0.2222222222222222,
              "#7201a8"
             ],
             [
              0.3333333333333333,
              "#9c179e"
             ],
             [
              0.4444444444444444,
              "#bd3786"
             ],
             [
              0.5555555555555556,
              "#d8576b"
             ],
             [
              0.6666666666666666,
              "#ed7953"
             ],
             [
              0.7777777777777778,
              "#fb9f3a"
             ],
             [
              0.8888888888888888,
              "#fdca26"
             ],
             [
              1,
              "#f0f921"
             ]
            ],
            "type": "histogram2d"
           }
          ],
          "histogram2dcontour": [
           {
            "colorbar": {
             "outlinewidth": 0,
             "ticks": ""
            },
            "colorscale": [
             [
              0,
              "#0d0887"
             ],
             [
              0.1111111111111111,
              "#46039f"
             ],
             [
              0.2222222222222222,
              "#7201a8"
             ],
             [
              0.3333333333333333,
              "#9c179e"
             ],
             [
              0.4444444444444444,
              "#bd3786"
             ],
             [
              0.5555555555555556,
              "#d8576b"
             ],
             [
              0.6666666666666666,
              "#ed7953"
             ],
             [
              0.7777777777777778,
              "#fb9f3a"
             ],
             [
              0.8888888888888888,
              "#fdca26"
             ],
             [
              1,
              "#f0f921"
             ]
            ],
            "type": "histogram2dcontour"
           }
          ],
          "mesh3d": [
           {
            "colorbar": {
             "outlinewidth": 0,
             "ticks": ""
            },
            "type": "mesh3d"
           }
          ],
          "parcoords": [
           {
            "line": {
             "colorbar": {
              "outlinewidth": 0,
              "ticks": ""
             }
            },
            "type": "parcoords"
           }
          ],
          "pie": [
           {
            "automargin": true,
            "type": "pie"
           }
          ],
          "scatter": [
           {
            "marker": {
             "colorbar": {
              "outlinewidth": 0,
              "ticks": ""
             }
            },
            "type": "scatter"
           }
          ],
          "scatter3d": [
           {
            "line": {
             "colorbar": {
              "outlinewidth": 0,
              "ticks": ""
             }
            },
            "marker": {
             "colorbar": {
              "outlinewidth": 0,
              "ticks": ""
             }
            },
            "type": "scatter3d"
           }
          ],
          "scattercarpet": [
           {
            "marker": {
             "colorbar": {
              "outlinewidth": 0,
              "ticks": ""
             }
            },
            "type": "scattercarpet"
           }
          ],
          "scattergeo": [
           {
            "marker": {
             "colorbar": {
              "outlinewidth": 0,
              "ticks": ""
             }
            },
            "type": "scattergeo"
           }
          ],
          "scattergl": [
           {
            "marker": {
             "colorbar": {
              "outlinewidth": 0,
              "ticks": ""
             }
            },
            "type": "scattergl"
           }
          ],
          "scattermapbox": [
           {
            "marker": {
             "colorbar": {
              "outlinewidth": 0,
              "ticks": ""
             }
            },
            "type": "scattermapbox"
           }
          ],
          "scatterpolar": [
           {
            "marker": {
             "colorbar": {
              "outlinewidth": 0,
              "ticks": ""
             }
            },
            "type": "scatterpolar"
           }
          ],
          "scatterpolargl": [
           {
            "marker": {
             "colorbar": {
              "outlinewidth": 0,
              "ticks": ""
             }
            },
            "type": "scatterpolargl"
           }
          ],
          "scatterternary": [
           {
            "marker": {
             "colorbar": {
              "outlinewidth": 0,
              "ticks": ""
             }
            },
            "type": "scatterternary"
           }
          ],
          "surface": [
           {
            "colorbar": {
             "outlinewidth": 0,
             "ticks": ""
            },
            "colorscale": [
             [
              0,
              "#0d0887"
             ],
             [
              0.1111111111111111,
              "#46039f"
             ],
             [
              0.2222222222222222,
              "#7201a8"
             ],
             [
              0.3333333333333333,
              "#9c179e"
             ],
             [
              0.4444444444444444,
              "#bd3786"
             ],
             [
              0.5555555555555556,
              "#d8576b"
             ],
             [
              0.6666666666666666,
              "#ed7953"
             ],
             [
              0.7777777777777778,
              "#fb9f3a"
             ],
             [
              0.8888888888888888,
              "#fdca26"
             ],
             [
              1,
              "#f0f921"
             ]
            ],
            "type": "surface"
           }
          ],
          "table": [
           {
            "cells": {
             "fill": {
              "color": "#EBF0F8"
             },
             "line": {
              "color": "white"
             }
            },
            "header": {
             "fill": {
              "color": "#C8D4E3"
             },
             "line": {
              "color": "white"
             }
            },
            "type": "table"
           }
          ]
         },
         "layout": {
          "annotationdefaults": {
           "arrowcolor": "#2a3f5f",
           "arrowhead": 0,
           "arrowwidth": 1
          },
          "autotypenumbers": "strict",
          "coloraxis": {
           "colorbar": {
            "outlinewidth": 0,
            "ticks": ""
           }
          },
          "colorscale": {
           "diverging": [
            [
             0,
             "#8e0152"
            ],
            [
             0.1,
             "#c51b7d"
            ],
            [
             0.2,
             "#de77ae"
            ],
            [
             0.3,
             "#f1b6da"
            ],
            [
             0.4,
             "#fde0ef"
            ],
            [
             0.5,
             "#f7f7f7"
            ],
            [
             0.6,
             "#e6f5d0"
            ],
            [
             0.7,
             "#b8e186"
            ],
            [
             0.8,
             "#7fbc41"
            ],
            [
             0.9,
             "#4d9221"
            ],
            [
             1,
             "#276419"
            ]
           ],
           "sequential": [
            [
             0,
             "#0d0887"
            ],
            [
             0.1111111111111111,
             "#46039f"
            ],
            [
             0.2222222222222222,
             "#7201a8"
            ],
            [
             0.3333333333333333,
             "#9c179e"
            ],
            [
             0.4444444444444444,
             "#bd3786"
            ],
            [
             0.5555555555555556,
             "#d8576b"
            ],
            [
             0.6666666666666666,
             "#ed7953"
            ],
            [
             0.7777777777777778,
             "#fb9f3a"
            ],
            [
             0.8888888888888888,
             "#fdca26"
            ],
            [
             1,
             "#f0f921"
            ]
           ],
           "sequentialminus": [
            [
             0,
             "#0d0887"
            ],
            [
             0.1111111111111111,
             "#46039f"
            ],
            [
             0.2222222222222222,
             "#7201a8"
            ],
            [
             0.3333333333333333,
             "#9c179e"
            ],
            [
             0.4444444444444444,
             "#bd3786"
            ],
            [
             0.5555555555555556,
             "#d8576b"
            ],
            [
             0.6666666666666666,
             "#ed7953"
            ],
            [
             0.7777777777777778,
             "#fb9f3a"
            ],
            [
             0.8888888888888888,
             "#fdca26"
            ],
            [
             1,
             "#f0f921"
            ]
           ]
          },
          "colorway": [
           "#636efa",
           "#EF553B",
           "#00cc96",
           "#ab63fa",
           "#FFA15A",
           "#19d3f3",
           "#FF6692",
           "#B6E880",
           "#FF97FF",
           "#FECB52"
          ],
          "font": {
           "color": "#2a3f5f"
          },
          "geo": {
           "bgcolor": "white",
           "lakecolor": "white",
           "landcolor": "#E5ECF6",
           "showlakes": true,
           "showland": true,
           "subunitcolor": "white"
          },
          "hoverlabel": {
           "align": "left"
          },
          "hovermode": "closest",
          "mapbox": {
           "style": "light"
          },
          "paper_bgcolor": "white",
          "plot_bgcolor": "#E5ECF6",
          "polar": {
           "angularaxis": {
            "gridcolor": "white",
            "linecolor": "white",
            "ticks": ""
           },
           "bgcolor": "#E5ECF6",
           "radialaxis": {
            "gridcolor": "white",
            "linecolor": "white",
            "ticks": ""
           }
          },
          "scene": {
           "xaxis": {
            "backgroundcolor": "#E5ECF6",
            "gridcolor": "white",
            "gridwidth": 2,
            "linecolor": "white",
            "showbackground": true,
            "ticks": "",
            "zerolinecolor": "white"
           },
           "yaxis": {
            "backgroundcolor": "#E5ECF6",
            "gridcolor": "white",
            "gridwidth": 2,
            "linecolor": "white",
            "showbackground": true,
            "ticks": "",
            "zerolinecolor": "white"
           },
           "zaxis": {
            "backgroundcolor": "#E5ECF6",
            "gridcolor": "white",
            "gridwidth": 2,
            "linecolor": "white",
            "showbackground": true,
            "ticks": "",
            "zerolinecolor": "white"
           }
          },
          "shapedefaults": {
           "line": {
            "color": "#2a3f5f"
           }
          },
          "ternary": {
           "aaxis": {
            "gridcolor": "white",
            "linecolor": "white",
            "ticks": ""
           },
           "baxis": {
            "gridcolor": "white",
            "linecolor": "white",
            "ticks": ""
           },
           "bgcolor": "#E5ECF6",
           "caxis": {
            "gridcolor": "white",
            "linecolor": "white",
            "ticks": ""
           }
          },
          "title": {
           "x": 0.05
          },
          "xaxis": {
           "automargin": true,
           "gridcolor": "white",
           "linecolor": "white",
           "ticks": "",
           "title": {
            "standoff": 15
           },
           "zerolinecolor": "white",
           "zerolinewidth": 2
          },
          "yaxis": {
           "automargin": true,
           "gridcolor": "white",
           "linecolor": "white",
           "ticks": "",
           "title": {
            "standoff": 15
           },
           "zerolinecolor": "white",
           "zerolinewidth": 2
          }
         }
        },
        "width": 800,
        "xaxis": {
         "anchor": "y",
         "constrain": "domain",
         "domain": [
          0,
          1
         ],
         "scaleanchor": "y",
         "side": "top"
        },
        "yaxis": {
         "anchor": "x",
         "autorange": "reversed",
         "constrain": "domain",
         "domain": [
          0,
          1
         ]
        }
       }
      }
     },
     "metadata": {},
     "output_type": "display_data"
    }
   ],
   "source": [
    "###\n",
    "# Plotting it as a heatmap\n",
    "###\n",
    "fig = px.imshow(pd.DataFrame(np.round(jaccard_table,3), # rounding values for the plot\n",
    "                             index = jaccard_table.index,\n",
    "                             columns= jaccard_table.columns),\n",
    "                text_auto=True, # annotating values in the plot\n",
    "                color_continuous_scale= 'Portland'# more color palettes available here : https://plotly.com/python/builtin-colorscales/\n",
    ")\n",
    "fig.update_xaxes(side=\"top\")\n",
    "fig.update_layout(\n",
    "    autosize=False,\n",
    "    width=800,\n",
    "    height=800\n",
    "    )\n",
    "fig.write_image(\"figure5_heatmap_jaccard.pdf\") # writting the figure into a file\n",
    "fig.show() # showing figure"
   ]
  },
  {
   "attachments": {},
   "cell_type": "markdown",
   "metadata": {
    "id": "dgGMcg8IvzX6"
   },
   "source": [
    "The figure has been save in the online folder (📁 symbol on the left) under the name [figure5_heatmap_jaccard.pdf](figure5_heatmap_jaccard.pdf). <br>You can change the name and the format of the file changing the name in the `fig.write_image()` function. \n",
    "<br>⚠️ If you want it, save the figure on your local computer : these online file will be deleted as soon as you quit this page!"
   ]
  },
  {
   "attachments": {},
   "cell_type": "markdown",
   "metadata": {
    "id": "F1UPcuVEIxr6"
   },
   "source": [
    "### Avg. Jaccard index\n",
    "Then, we compute the average of Jaccard index for each questionnaire with other questionnaires (excluding the references). "
   ]
  },
  {
   "cell_type": "code",
   "execution_count": 52,
   "metadata": {
    "colab": {
     "base_uri": "https://localhost:8080/",
     "height": 443
    },
    "id": "kZWl2KxpIAu1",
    "outputId": "60844259-0542-47a3-8834-de586fd09b50"
   },
   "outputs": [
    {
     "data": {
      "text/html": [
       "<div>\n",
       "<style scoped>\n",
       "    .dataframe tbody tr th:only-of-type {\n",
       "        vertical-align: middle;\n",
       "    }\n",
       "\n",
       "    .dataframe tbody tr th {\n",
       "        vertical-align: top;\n",
       "    }\n",
       "\n",
       "    .dataframe thead th {\n",
       "        text-align: right;\n",
       "    }\n",
       "</style>\n",
       "<table border=\"1\" class=\"dataframe\">\n",
       "  <thead>\n",
       "    <tr style=\"text-align: right;\">\n",
       "      <th></th>\n",
       "      <th>Avg. Jaccard Index</th>\n",
       "    </tr>\n",
       "  </thead>\n",
       "  <tbody>\n",
       "    <tr>\n",
       "      <th>SDQ</th>\n",
       "      <td>0.449209</td>\n",
       "    </tr>\n",
       "    <tr>\n",
       "      <th>Sleep50</th>\n",
       "      <td>0.489331</td>\n",
       "    </tr>\n",
       "    <tr>\n",
       "      <th>ASQ</th>\n",
       "      <td>0.461972</td>\n",
       "    </tr>\n",
       "    <tr>\n",
       "      <th>SDS-CL-25</th>\n",
       "      <td>0.468665</td>\n",
       "    </tr>\n",
       "    <tr>\n",
       "      <th>HSDQ</th>\n",
       "      <td>0.490976</td>\n",
       "    </tr>\n",
       "    <tr>\n",
       "      <th>PSQI</th>\n",
       "      <td>0.414701</td>\n",
       "    </tr>\n",
       "    <tr>\n",
       "      <th>ISDI</th>\n",
       "      <td>0.462467</td>\n",
       "    </tr>\n",
       "    <tr>\n",
       "      <th>GSAQ</th>\n",
       "      <td>0.411356</td>\n",
       "    </tr>\n",
       "    <tr>\n",
       "      <th>SDS-CL-17</th>\n",
       "      <td>0.426736</td>\n",
       "    </tr>\n",
       "    <tr>\n",
       "      <th>SSC</th>\n",
       "      <td>0.415941</td>\n",
       "    </tr>\n",
       "    <tr>\n",
       "      <th>BNSQ</th>\n",
       "      <td>0.375119</td>\n",
       "    </tr>\n",
       "    <tr>\n",
       "      <th>OSQ</th>\n",
       "      <td>0.416406</td>\n",
       "    </tr>\n",
       "  </tbody>\n",
       "</table>\n",
       "</div>"
      ],
      "text/plain": [
       "           Avg. Jaccard Index\n",
       "SDQ                  0.449209\n",
       "Sleep50              0.489331\n",
       "ASQ                  0.461972\n",
       "SDS-CL-25            0.468665\n",
       "HSDQ                 0.490976\n",
       "PSQI                 0.414701\n",
       "ISDI                 0.462467\n",
       "GSAQ                 0.411356\n",
       "SDS-CL-17            0.426736\n",
       "SSC                  0.415941\n",
       "BNSQ                 0.375119\n",
       "OSQ                  0.416406"
      ]
     },
     "metadata": {},
     "output_type": "display_data"
    },
    {
     "name": "stdout",
     "output_type": "stream",
     "text": [
      "Average Jaccard index (wo references): 0.44024 (sd: 0.0356)\n"
     ]
    }
   ],
   "source": [
    "jaccard = pd.DataFrame(np.zeros((len(df.drop(header+['sum_symptoms'],axis = 1).columns),1)), index = df.drop(header+['sum_symptoms'],axis = 1).columns, columns=['Avg. Jaccard Index'])\n",
    "for questionnaire in df.drop(header+['sum_symptoms'], axis=1).columns : \n",
    "  jaccard.loc[questionnaire, 'Avg. Jaccard Index'] = jaccard_table.drop(references+[questionnaire], axis = 1).loc[questionnaire, :].mean()\n",
    "display(jaccard)\n",
    "jaccard.to_excel(\"table4_jaccard_average_questionnaires.xlsx\")\n",
    "print(\"Average Jaccard index (wo references): \"+str(np.round(float(jaccard.mean()),5)) +\" (sd: \"+str(np.round(float(jaccard.std()),4))+ \")\" )\n"
   ]
  },
  {
   "cell_type": "markdown",
   "metadata": {
    "id": "dgGMcg8IvzX6"
   },
   "source": [
    "Table 4 has been save in the online folder (📁 symbol on the left) under the name [table4_jaccard_average_questionnaires.xlsx](./table4_jaccard_average_questionnaires.xlsx). <br>You can change the name and the format of the file changing the name in the `jaccard.to_excel()` function. \n",
    "<br>⚠️ If you need it, save the excel file on your local computer : these online file will be deleted as soon as you quit this page!"
   ]
  },
  {
   "cell_type": "markdown",
   "metadata": {
    "id": "ZEl9cvZ1Gs6Y"
   },
   "source": [
    "### Correlation between the number of symptoms and the average Jacquart index for each questionnaire "
   ]
  },
  {
   "cell_type": "code",
   "execution_count": 53,
   "metadata": {
    "colab": {
     "base_uri": "https://localhost:8080/",
     "height": 478
    },
    "id": "vJuZ7q7oG0g3",
    "outputId": "af8e0f2b-413c-402b-c8cb-ff2de72e6c63"
   },
   "outputs": [
    {
     "data": {
      "text/html": [
       "<div>\n",
       "<style scoped>\n",
       "    .dataframe tbody tr th:only-of-type {\n",
       "        vertical-align: middle;\n",
       "    }\n",
       "\n",
       "    .dataframe tbody tr th {\n",
       "        vertical-align: top;\n",
       "    }\n",
       "\n",
       "    .dataframe thead th {\n",
       "        text-align: right;\n",
       "    }\n",
       "</style>\n",
       "<table border=\"1\" class=\"dataframe\">\n",
       "  <thead>\n",
       "    <tr style=\"text-align: right;\">\n",
       "      <th></th>\n",
       "      <th>Avg. Jaccard Index</th>\n",
       "      <th>Specific symptoms</th>\n",
       "      <th>Compound symptoms</th>\n",
       "      <th>Total</th>\n",
       "    </tr>\n",
       "  </thead>\n",
       "  <tbody>\n",
       "    <tr>\n",
       "      <th>SDQ</th>\n",
       "      <td>0.449209</td>\n",
       "      <td>32</td>\n",
       "      <td>8</td>\n",
       "      <td>40</td>\n",
       "    </tr>\n",
       "    <tr>\n",
       "      <th>Sleep50</th>\n",
       "      <td>0.489331</td>\n",
       "      <td>31</td>\n",
       "      <td>3</td>\n",
       "      <td>34</td>\n",
       "    </tr>\n",
       "    <tr>\n",
       "      <th>ASQ</th>\n",
       "      <td>0.461972</td>\n",
       "      <td>23</td>\n",
       "      <td>9</td>\n",
       "      <td>32</td>\n",
       "    </tr>\n",
       "    <tr>\n",
       "      <th>SDS-CL-25</th>\n",
       "      <td>0.468665</td>\n",
       "      <td>20</td>\n",
       "      <td>8</td>\n",
       "      <td>28</td>\n",
       "    </tr>\n",
       "    <tr>\n",
       "      <th>HSDQ</th>\n",
       "      <td>0.490976</td>\n",
       "      <td>15</td>\n",
       "      <td>12</td>\n",
       "      <td>27</td>\n",
       "    </tr>\n",
       "    <tr>\n",
       "      <th>PSQI</th>\n",
       "      <td>0.414701</td>\n",
       "      <td>13</td>\n",
       "      <td>12</td>\n",
       "      <td>25</td>\n",
       "    </tr>\n",
       "    <tr>\n",
       "      <th>ISDI</th>\n",
       "      <td>0.462467</td>\n",
       "      <td>16</td>\n",
       "      <td>8</td>\n",
       "      <td>24</td>\n",
       "    </tr>\n",
       "    <tr>\n",
       "      <th>GSAQ</th>\n",
       "      <td>0.411356</td>\n",
       "      <td>4</td>\n",
       "      <td>18</td>\n",
       "      <td>22</td>\n",
       "    </tr>\n",
       "    <tr>\n",
       "      <th>SDS-CL-17</th>\n",
       "      <td>0.426736</td>\n",
       "      <td>13</td>\n",
       "      <td>8</td>\n",
       "      <td>21</td>\n",
       "    </tr>\n",
       "    <tr>\n",
       "      <th>SSC</th>\n",
       "      <td>0.415941</td>\n",
       "      <td>17</td>\n",
       "      <td>2</td>\n",
       "      <td>19</td>\n",
       "    </tr>\n",
       "    <tr>\n",
       "      <th>BNSQ</th>\n",
       "      <td>0.375119</td>\n",
       "      <td>11</td>\n",
       "      <td>6</td>\n",
       "      <td>17</td>\n",
       "    </tr>\n",
       "    <tr>\n",
       "      <th>OSQ</th>\n",
       "      <td>0.416406</td>\n",
       "      <td>12</td>\n",
       "      <td>5</td>\n",
       "      <td>17</td>\n",
       "    </tr>\n",
       "  </tbody>\n",
       "</table>\n",
       "</div>"
      ],
      "text/plain": [
       "           Avg. Jaccard Index  Specific symptoms  Compound symptoms  Total\n",
       "SDQ                  0.449209                 32                  8     40\n",
       "Sleep50              0.489331                 31                  3     34\n",
       "ASQ                  0.461972                 23                  9     32\n",
       "SDS-CL-25            0.468665                 20                  8     28\n",
       "HSDQ                 0.490976                 15                 12     27\n",
       "PSQI                 0.414701                 13                 12     25\n",
       "ISDI                 0.462467                 16                  8     24\n",
       "GSAQ                 0.411356                  4                 18     22\n",
       "SDS-CL-17            0.426736                 13                  8     21\n",
       "SSC                  0.415941                 17                  2     19\n",
       "BNSQ                 0.375119                 11                  6     17\n",
       "OSQ                  0.416406                 12                  5     17"
      ]
     },
     "metadata": {},
     "output_type": "display_data"
    },
    {
     "name": "stdout",
     "output_type": "stream",
     "text": [
      "Correlation between Jaccard Index and number of specific symptoms:  SpearmanrResult(correlation=0.6619975125797373, pvalue=0.019019455833880407)\n",
      "Correlation between Jaccard Index and number of compound symptoms:  SpearmanrResult(correlation=-0.0035657479116033464, pvalue=0.9912250660088198)\n",
      "Correlation between Jaccard Index and total number of symptoms:  SpearmanrResult(correlation=0.6584948802380455, pvalue=0.019892133524913664)\n"
     ]
    }
   ],
   "source": [
    "correlations = jaccard.join(sympt_per_questionnaire)\n",
    "display(correlations)\n",
    "print(\"Correlation between Jaccard Index and number of specific symptoms: \",spearmanr(correlations['Avg. Jaccard Index'], correlations['Specific symptoms']))\n",
    "print(\"Correlation between Jaccard Index and number of compound symptoms: \",spearmanr(correlations['Avg. Jaccard Index'], correlations['Compound symptoms']))\n",
    "print(\"Correlation between Jaccard Index and total number of symptoms: \",spearmanr(correlations['Avg. Jaccard Index'], correlations['Total']))"
   ]
  },
  {
   "attachments": {},
   "cell_type": "markdown",
   "metadata": {
    "id": "HU7E-SuOw7zi"
   },
   "source": [
    "### Jaccard index of symtpoms for each pair of questionnaire for each category\n",
    "\n",
    "Computing the same metric (average of average) for each category of questionnaires."
   ]
  },
  {
   "cell_type": "code",
   "execution_count": 54,
   "metadata": {
    "colab": {
     "base_uri": "https://localhost:8080/",
     "height": 332
    },
    "id": "G85VauUfOZWR",
    "outputId": "4d7af344-8d1b-4f82-a098-bedb60d8a23f"
   },
   "outputs": [
    {
     "data": {
      "text/html": [
       "<div>\n",
       "<style scoped>\n",
       "    .dataframe tbody tr th:only-of-type {\n",
       "        vertical-align: middle;\n",
       "    }\n",
       "\n",
       "    .dataframe tbody tr th {\n",
       "        vertical-align: top;\n",
       "    }\n",
       "\n",
       "    .dataframe thead th {\n",
       "        text-align: right;\n",
       "    }\n",
       "</style>\n",
       "<table border=\"1\" class=\"dataframe\">\n",
       "  <thead>\n",
       "    <tr style=\"text-align: right;\">\n",
       "      <th></th>\n",
       "      <th>Avg. Jaccard Index</th>\n",
       "    </tr>\n",
       "  </thead>\n",
       "  <tbody>\n",
       "    <tr>\n",
       "      <th>SLEEPINESS SYMPTOMS</th>\n",
       "      <td>0.606061</td>\n",
       "    </tr>\n",
       "    <tr>\n",
       "      <th>INSOMNIA SYMPTOMS</th>\n",
       "      <td>0.791667</td>\n",
       "    </tr>\n",
       "    <tr>\n",
       "      <th>RESPIRATORY SYMPTOMS</th>\n",
       "      <td>0.757576</td>\n",
       "    </tr>\n",
       "    <tr>\n",
       "      <th>PSYCHIATRIC SYMPTOMS</th>\n",
       "      <td>0.444444</td>\n",
       "    </tr>\n",
       "    <tr>\n",
       "      <th>BEHAVIORAL SYMPTOMS DURING SLEEP</th>\n",
       "      <td>0.438413</td>\n",
       "    </tr>\n",
       "    <tr>\n",
       "      <th>MOTOR SYMPTOMS</th>\n",
       "      <td>0.460216</td>\n",
       "    </tr>\n",
       "    <tr>\n",
       "      <th>GENERAL SYMPTOMS</th>\n",
       "      <td>0.398148</td>\n",
       "    </tr>\n",
       "    <tr>\n",
       "      <th>SLEEP PERIOD SYMPTOMS</th>\n",
       "      <td>0.353030</td>\n",
       "    </tr>\n",
       "    <tr>\n",
       "      <th>NON OTHERWISE SPECIFIED</th>\n",
       "      <td>0.372424</td>\n",
       "    </tr>\n",
       "  </tbody>\n",
       "</table>\n",
       "</div>"
      ],
      "text/plain": [
       "                                  Avg. Jaccard Index\n",
       "SLEEPINESS SYMPTOMS                         0.606061\n",
       "INSOMNIA SYMPTOMS                           0.791667\n",
       "RESPIRATORY SYMPTOMS                        0.757576\n",
       "PSYCHIATRIC SYMPTOMS                        0.444444\n",
       "BEHAVIORAL SYMPTOMS DURING SLEEP            0.438413\n",
       "MOTOR SYMPTOMS                              0.460216\n",
       "GENERAL SYMPTOMS                            0.398148\n",
       "SLEEP PERIOD SYMPTOMS                       0.353030\n",
       "NON OTHERWISE SPECIFIED                     0.372424"
      ]
     },
     "metadata": {},
     "output_type": "display_data"
    }
   ],
   "source": [
    "if df.shape[0] != df['Category'].isnull().sum() : \n",
    "  res = pd.DataFrame(np.zeros((len(df.Category.unique()),1)), index = df.sort_values(by=\"Ab\").Category.unique(), columns=['Avg. Jaccard Index'])\n",
    "  for category in df.Category.unique() : \n",
    "      df_category = df.drop(header+['sum_symptoms'],axis = 1)[df.Category==category]\n",
    "      df_category = df_category.iloc[:,(df_category.sum(axis = 0)!=0.0).to_numpy()] # we keep only the questionnaire with at least 1 symptom\n",
    "      liste_avg = []\n",
    "      for questionnaire1 in df_category.columns : \n",
    "        liste = []\n",
    "        for questionnaire2 in df_category.columns : \n",
    "          if questionnaire1!= questionnaire2 :\n",
    "            liste.append(jaccard_score(df_category[questionnaire1]>=1, df_category[questionnaire2]>=1))\n",
    "        liste_avg.append(np.mean(liste))\n",
    "      res.loc[category, 'Avg. Jaccard Index'] = np.mean(liste_avg)\n",
    "  display(res)\n",
    "  res.to_excel(\"table5_jaccard_categories.xlsx\")\n",
    "\n",
    "else : \n",
    "  print(\"Category is empty\")"
   ]
  },
  {
   "cell_type": "markdown",
   "metadata": {
    "id": "dgGMcg8IvzX6"
   },
   "source": [
    "Table 5 has been save in the online folder (📁 symbol on the left) under the name [table5_jaccard_categories.xlsx](./table5_jaccard_categories.xlsx). <br>You can change the name and the format of the file changing the name in the `res.to_excel()` function. \n",
    "<br>⚠️ If you need it, save the excel file on your local computer : these online file will be deleted as soon as you quit this page!"
   ]
  },
  {
   "cell_type": "markdown",
   "metadata": {},
   "source": [
    "---\n",
    "# Export to html\n",
    "You have reached the end of this notebook. \n",
    "If you want to save the whole page, you can download it to html with dynamic figures:\n",
    ">* \"File\" → \"Save and Export Notebook as\" → \"HTML\" "
   ]
  }
 ],
 "metadata": {
  "colab": {
   "collapsed_sections": [],
   "provenance": []
  },
  "kernelspec": {
   "display_name": "Python 3.9.12 ('base')",
   "language": "python",
   "name": "python3"
  },
  "language_info": {
   "codemirror_mode": {
    "name": "ipython",
    "version": 3
   },
   "file_extension": ".py",
   "mimetype": "text/x-python",
   "name": "python",
   "nbconvert_exporter": "python",
   "pygments_lexer": "ipython3",
   "version": "3.9.12"
  },
  "vscode": {
   "interpreter": {
    "hash": "c8464771cfc0e22004661f66dded99160d59fd64310bb0bd6301ff01977b6823"
   }
  }
 },
 "nbformat": 4,
 "nbformat_minor": 4
}
